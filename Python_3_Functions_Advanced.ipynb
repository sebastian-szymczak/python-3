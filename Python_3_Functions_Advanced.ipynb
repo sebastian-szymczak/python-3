{
 "cells": [
  {
   "cell_type": "markdown",
   "id": "f4f4fdaa-0144-4eca-97b2-639a7f5d518f",
   "metadata": {},
   "source": [
    "# Programowanie w Python\n",
    "\n",
    "**Tematy na dzisiaj:**\n",
    "\n",
    "- Wyjątki (raise, try, except)\n",
    "- Działania na plikach (with, 'r', 'w')\n",
    "- Zagnieżdżone struktury\n",
    "- Funkcje anonimowe lambda (np jako key, omówić też PEP8 na temat lambd)\n",
    "- Funkcje generatory (next, yield)\n",
    "- Moduły biblioteki standardowej (math, collections, itertools)\n",
    "\n",
    "---\n",
    "\n",
    "- Robienie zadań 😀\n",
    "\n",
    "# Wyjątki\n",
    "\n",
    "## Przechwycenie wyjątków"
   ]
  },
  {
   "cell_type": "code",
   "execution_count": null,
   "id": "29ea7a12-60d0-4b57-98aa-b254a065e40f",
   "metadata": {},
   "outputs": [],
   "source": [
    "# Mamy kod, który może powodować pewne błędy\n",
    "a = int(input('Wprowadź liczbę: '))\n",
    "b = int(input('Wprowadź liczbę: '))\n",
    "\n",
    "print(a + b, a - b, a * b, a / b)"
   ]
  },
  {
   "cell_type": "code",
   "execution_count": null,
   "id": "9f627887-70f1-4b08-8bc5-ee90ca8668d6",
   "metadata": {},
   "outputs": [],
   "source": [
    "# Możemy przechwycić ten wyjątek, ale czy to jest dobry sposób?\n",
    "try:\n",
    "    a = int(input('Wprowadź liczbę: '))\n",
    "    b = int(input('Wprowadź liczbę: '))\n",
    "    \n",
    "    print(a + b, a - b, a * b, a / b)\n",
    "except:\n",
    "    print('Musisz podać liczby, nie tekst!')"
   ]
  },
  {
   "cell_type": "code",
   "execution_count": null,
   "id": "ccb8d135-fd36-4525-81e9-204c422dc35c",
   "metadata": {},
   "outputs": [],
   "source": [
    "# Dobry sposób na przechwycenie wyjątków:\n",
    "try:\n",
    "    a = int(input('Wprowadź liczbę: '))\n",
    "    b = int(input('Wprowadź liczbę: '))\n",
    "    \n",
    "    print(a + b, a - b, a * b, a / b)\n",
    "except ValueError:\n",
    "    print('Musisz podać liczby, nie tekst!')\n",
    "except ZeroDivisionError:\n",
    "    print('Nie można dzielić przez zero!')"
   ]
  },
  {
   "cell_type": "code",
   "execution_count": null,
   "id": "4886bbdd-2c06-44a6-84d6-4d13a02df92d",
   "metadata": {},
   "outputs": [],
   "source": [
    "# Hierarchia wyjątków - https://docs.python.org/3/library/exceptions.html\n",
    "try:\n",
    "    a = int(input('Wprowadź liczbę: '))\n",
    "    b = int(input('Wprowadź liczbę: '))\n",
    "    \n",
    "    print(a + b, a - b, a * b, a / b)\n",
    "except ValueError:\n",
    "    print('Musisz podać liczby, nie tekst!')\n",
    "except ZeroDivisionError:\n",
    "    print('Nie można dzielić przez zero!')\n",
    "except Exception as e: # Bardziej ogólne wyjątki należy używać na sam koniec\n",
    "    print(f'Coś się zepsuło mamy błąd: {e}')"
   ]
  },
  {
   "cell_type": "markdown",
   "id": "fd413eed-edd2-49e3-a02a-88a2239b4f50",
   "metadata": {},
   "source": [
    "## Wyrzucanie własnych wyjątków"
   ]
  },
  {
   "cell_type": "code",
   "execution_count": null,
   "id": "f40a3a13-9c5d-4e53-bec6-d95262bdc730",
   "metadata": {},
   "outputs": [],
   "source": [
    "def day_to_name(n):\n",
    "    days = ['Poniedziałek', 'Wtorek', 'Środa', 'Czwartek', 'Piątek', 'Sobota', 'Niedziela']\n",
    "\n",
    "    if not isinstance(n, int): # Jeżeli n nie jest int\n",
    "        raise TypeError('n powinno być liczbą całkowitą')\n",
    "    if not (1 <= n <= 7):  # Jeżeli n nie jest w [1, 7]\n",
    "        raise ValueError('n powinno być liczbą całkowitą z zakresu [1, 7].')\n",
    "        \n",
    "    return days[n - 1]\n",
    "\n",
    "\n",
    "print(day_to_name(3))"
   ]
  },
  {
   "cell_type": "markdown",
   "id": "bf5d7324-5546-4ea1-abcd-d810ec8a7881",
   "metadata": {},
   "source": [
    "# Działania na plikach"
   ]
  },
  {
   "cell_type": "code",
   "execution_count": null,
   "id": "0bf3a97a-0cf1-4c58-93b7-0f1ad3ad3cab",
   "metadata": {},
   "outputs": [],
   "source": [
    "# 1 sposób (nie zalecany)\n",
    "# f = open('nowy_plik.txt', 'w')\n",
    "# f.write('ala ma kota\\n')\n",
    "# f.close() # <- zawsze musimy zamknąć plik\n",
    "\n",
    "# Sposób zalecany\n",
    "# Tryby otwierania pliku: 'w' jako write (zapis), 'r' jako read (odczyt), 'a' jako append (dopisywanie)\n",
    "# UWAGA: otwarcie pliku z 'w' spowoduje nadpisanie całej zawartości plik\n",
    "with open('nowy_plik.txt', 'w') as f:\n",
    "    f.write('ala ma kota\\n') # Przy zapisie jeżeli chcemy mieć koniec wiersza, musimy jawnie dopisać \\n\n",
    "    # Zamknięcie pliku odbywa się automatycznie\n",
    "\n",
    "# Różne sposoby na odczytania zawartości pliku\n",
    "with open('nowy_plik.txt', 'r') as f:\n",
    "    line = f.readline()\n",
    "    print('readline:', line)\n",
    "\n",
    "\n",
    "with open('nowy_plik.txt', 'r') as f:\n",
    "    lines = f.readlines()\n",
    "    print('readlines:', lines)\n",
    "\n",
    "\n",
    "with open('nowy_plik.txt', 'r') as f:\n",
    "    s = f.read()\n",
    "    print('read:', s)\n",
    "\n",
    "\n",
    "# Dopisanie na koniec pliku\n",
    "with open('nowy_plik.txt', 'a') as f:\n",
    "    f.write('a jan ma psa\\n')\n",
    "\n",
    "\n",
    "# Próbujemy znowu odczytać:\n",
    "with open('nowy_plik.txt', 'r') as f:\n",
    "    lines = f.readlines()\n",
    "    print('readlines:', lines)\n",
    "\n",
    "\n",
    "with open('nowy_plik.txt', 'r') as f:\n",
    "    s = f.read()\n",
    "    print('read:', s)"
   ]
  },
  {
   "cell_type": "markdown",
   "id": "ded2cd55-f436-462a-91ef-55a75dcbc8a3",
   "metadata": {},
   "source": [
    "# Zagnieżdżone struktury"
   ]
  },
  {
   "cell_type": "code",
   "execution_count": null,
   "id": "5a8661a4-012d-4b14-a371-174ee6cb1d61",
   "metadata": {},
   "outputs": [],
   "source": [
    "a = [\n",
    "#     0   1\n",
    "    [10, 20], # 0\n",
    "    [30, 40]  # 1\n",
    "]\n",
    "\n",
    "print(a)\n",
    "\n",
    "print(a[1]) # Odczyt \"wiersza\"\n",
    "\n",
    "print(a[0][0])"
   ]
  },
  {
   "cell_type": "code",
   "execution_count": null,
   "id": "873cd38c-d573-4e8a-ad38-c705a1b4b758",
   "metadata": {},
   "outputs": [],
   "source": [
    "points = [\n",
    "    (2, 9),\n",
    "    (1, 3),\n",
    "    (7, 6),\n",
    "    (8, 3)\n",
    "]\n",
    "\n",
    "for x, y in points:\n",
    "    print(f'Punkt ma współrzędne {x = }, {y = }')\n",
    "\n",
    "for i, (x, y) in enumerate(points):\n",
    "    print(f'Punkt {i} ma współrzędne {x = }, {y = }')"
   ]
  },
  {
   "cell_type": "code",
   "execution_count": null,
   "id": "84e0b104-b1cb-45eb-93d1-458bfe665be8",
   "metadata": {},
   "outputs": [],
   "source": [
    "students = [\n",
    "    ('Jan', 'Kowalski', 5),\n",
    "    ('Ala', 'Nowak', 4),\n",
    "    ('Maciej', 'Lewandowski', 2)\n",
    "]\n",
    "\n",
    "for name, surname, grade in students:\n",
    "    print(f'Student {name} {surname} dostał/a ocenę {grade}')"
   ]
  },
  {
   "cell_type": "code",
   "execution_count": null,
   "id": "ae58e1dd-150d-4de7-876a-59d139ea0bf9",
   "metadata": {},
   "outputs": [],
   "source": [
    "student = students[0]\n",
    "\n",
    "print('Imię:', student[0])\n",
    "print('Nazwisko:', student[1])\n",
    "print('Ocena:', student[2])"
   ]
  },
  {
   "cell_type": "markdown",
   "id": "2d4e05da-2897-4864-9c2f-5645c4d30e3c",
   "metadata": {},
   "source": [
    "# Funkcje anonimowe lambda"
   ]
  },
  {
   "cell_type": "code",
   "execution_count": null,
   "id": "29439e93-d89f-432b-a6b8-3edd4f7713f1",
   "metadata": {},
   "outputs": [],
   "source": [
    "# Normalna funkcja:\n",
    "def add(a, b):\n",
    "    return a + b\n",
    "\n",
    "print(add(3, 5))"
   ]
  },
  {
   "cell_type": "code",
   "execution_count": null,
   "id": "4dba98bf-cabd-4242-88d9-c56b43b602ef",
   "metadata": {},
   "outputs": [],
   "source": [
    "# Przy użyciu funkcji anonimowej (lambda)\n",
    "add = lambda a, b: a + b\n",
    "print(add(3, 5))\n",
    "\n",
    "# UWAGA!!! PEP8 nie zaleca używania tego sposobu: https://peps.python.org/pep-0008/"
   ]
  },
  {
   "cell_type": "code",
   "execution_count": null,
   "id": "a08bcbf4-b097-462f-9faf-51f6ad152b38",
   "metadata": {},
   "outputs": [],
   "source": [
    "def div(a, b):\n",
    "    return a / b\n",
    "\n",
    "div(3, 0)\n",
    "# W komunikacie widać że błąd jest w funkcji div(a, b)"
   ]
  },
  {
   "cell_type": "code",
   "execution_count": null,
   "id": "2dd216ea-8455-4207-8550-467da3efc425",
   "metadata": {},
   "outputs": [],
   "source": [
    "divl = lambda a, b: a / b\n",
    "\n",
    "divl(3, 0)\n",
    "# W komunikacie nie widać nazwy funkcji, widzimy tylko <lambda>(a, b)"
   ]
  },
  {
   "cell_type": "code",
   "execution_count": null,
   "id": "aa99910a-7118-4799-b103-7b259f41790d",
   "metadata": {},
   "outputs": [],
   "source": [
    "def apply_to_list(a, func):\n",
    "    return [func(val) for val in a]\n",
    "\n",
    "\n",
    "a = [3, 8, 2, 7, 3]\n",
    "\n",
    "b = apply_to_list(a, lambda x: x ** 2)\n",
    "print(b)"
   ]
  },
  {
   "cell_type": "code",
   "execution_count": null,
   "id": "2e8f1b37-c35f-4a19-8b92-21dd51a3c95e",
   "metadata": {},
   "outputs": [],
   "source": [
    "fruits = ['cherry', 'melon', 'apple', 'pear', 'orange', 'banana', 'avokado', 'lemon']\n",
    "\n",
    "print('Najktórszy napis:', min(fruits, key=lambda s: len(s)))\n",
    "print('Najktórszy napis:', min(fruits, key=len))\n",
    "print('Najdłuższy napis:', max(fruits, key=len))\n",
    "print(sorted(fruits, key=len))"
   ]
  },
  {
   "cell_type": "code",
   "execution_count": null,
   "id": "0d3e1928-c3f5-4584-ad87-d68095d1a560",
   "metadata": {},
   "outputs": [],
   "source": [
    "students = [\n",
    "    ('Jan', 'Kowalski', 5),\n",
    "    ('Ala', 'Nowak', 4),\n",
    "    ('Maciej', 'Lewandowski', 2)\n",
    "]\n",
    "\n",
    "print(sorted(students, key=lambda student: student[2]))\n",
    "print(max(students, key=lambda student: len(student[1])))"
   ]
  },
  {
   "cell_type": "markdown",
   "id": "3fa9febe-b49d-43c5-8ba6-ba72fa4171c8",
   "metadata": {},
   "source": [
    "# Funkcje generatory"
   ]
  },
  {
   "cell_type": "code",
   "execution_count": null,
   "id": "5ded6279-06a5-42da-a804-9dd70f95bf07",
   "metadata": {},
   "outputs": [],
   "source": [
    "# Lista vs wyrażenie generatorowe\n",
    "print(sum([i ** 2 for i in range(10)]))\n",
    "print(sum(i ** 2 for i in range(10)))"
   ]
  },
  {
   "cell_type": "code",
   "execution_count": null,
   "id": "13de9b3f-da03-475a-b447-f2c23112eea3",
   "metadata": {},
   "outputs": [],
   "source": [
    "l = [i ** 2 for i in range(10)]\n",
    "print(sum(l), l)\n",
    "\n",
    "g = (i ** 2 for i in range(10))\n",
    "print(sum(g), g)"
   ]
  },
  {
   "cell_type": "code",
   "execution_count": null,
   "id": "a77b6790-50bf-4a34-800d-33ad3ee8f3dc",
   "metadata": {},
   "outputs": [],
   "source": [
    "g = (i ** 2 for i in range(10))\n",
    "print(list(g)) # Generator jest jednorazowy\n",
    "print(sum(g), g)"
   ]
  },
  {
   "cell_type": "code",
   "execution_count": null,
   "id": "c34063ef-c746-4979-ab06-defffec7f823",
   "metadata": {},
   "outputs": [],
   "source": [
    "g = (i ** 2 for i in range(10))\n",
    "\n",
    "print(next(g)) # Funkcji next raczej nie używamy jawnie, pokazuje dla przykładu :)\n",
    "print(next(g))\n",
    "print(next(g))"
   ]
  },
  {
   "cell_type": "code",
   "execution_count": null,
   "id": "18e52698-e919-45ce-a8ad-1acad9155746",
   "metadata": {},
   "outputs": [],
   "source": [
    "g = (i ** 2 for i in range(10))\n",
    "\n",
    "for val in g:\n",
    "    print(val)"
   ]
  },
  {
   "cell_type": "code",
   "execution_count": null,
   "id": "7ca09d7e-eb5e-4546-816b-c000cb2c4836",
   "metadata": {},
   "outputs": [],
   "source": [
    "def kart(a, b):\n",
    "    res = []\n",
    "    for val1 in a:\n",
    "        for val2 in b:\n",
    "            res.append((val1, val2))\n",
    "    return res\n",
    "\n",
    "\n",
    "a = ['A', 'B', 'C']\n",
    "b = [10, 20, 30]\n",
    "print(kart(a, b))"
   ]
  },
  {
   "cell_type": "code",
   "execution_count": null,
   "id": "50da97b1-55d6-405c-8d0b-b4256d1294c9",
   "metadata": {},
   "outputs": [],
   "source": [
    "def kart_gen(a, b):\n",
    "    for val1 in a:\n",
    "        for val2 in b:\n",
    "            yield (val1, val2)\n",
    "\n",
    "\n",
    "a = ['A', 'B', 'C']\n",
    "b = [10, 20, 30]\n",
    "print(kart_gen(a, b))\n",
    "\n",
    "for x, y in kart_gen(a, b):\n",
    "    print(x, y)"
   ]
  },
  {
   "cell_type": "code",
   "execution_count": null,
   "id": "9d8f7e33-7c8f-4706-a9bb-1bb0f013452b",
   "metadata": {},
   "outputs": [],
   "source": [
    "def myrange(start, stop, step=1):\n",
    "    while start != stop:\n",
    "        yield start\n",
    "        start += step\n",
    "\n",
    "\n",
    "for i in myrange(0, 10, 2):\n",
    "    print(i)\n",
    "\n",
    "for i in myrange(10, 0, -2):\n",
    "    print(i)"
   ]
  },
  {
   "cell_type": "code",
   "execution_count": null,
   "id": "f08f53ff-86cf-4df5-80fe-103e3b1f1fc5",
   "metadata": {},
   "outputs": [],
   "source": [
    "# Bardzo prosty generator liczby pseudolosowy\n",
    "# Dla chętnych: https://en.wikipedia.org/wiki/Linear_congruential_generator\n",
    "def myrand(n, seed=10):\n",
    "    for i in range(n):\n",
    "        seed = (13 * seed + 7) % 101\n",
    "        yield seed\n",
    "\n",
    "\n",
    "for i in myrand(10, seed=123):\n",
    "    print(i)"
   ]
  },
  {
   "cell_type": "markdown",
   "id": "cfe481d5-2a20-48a5-841a-2d268e1166e4",
   "metadata": {},
   "source": [
    "# Moduły biblioteki standardowej\n",
    "\n",
    "- https://docs.python.org/3/library/index.html\n",
    "\n",
    "## Liczby pseudolosowe"
   ]
  },
  {
   "cell_type": "code",
   "execution_count": null,
   "id": "a63d1389-1c71-41dd-8346-786c14a2ddd0",
   "metadata": {},
   "outputs": [],
   "source": [
    "import random # Proszę zwrócić uwagę że wszystkie importy normalnie wrzucamy na górę pliku!\n",
    "\n",
    "random.seed(0)\n",
    "for i in range(10):\n",
    "    print(random.randint(0, 100))"
   ]
  },
  {
   "cell_type": "code",
   "execution_count": null,
   "id": "df9ab464-c3bd-4add-a36c-8614755f380e",
   "metadata": {},
   "outputs": [],
   "source": [
    "import time\n",
    "\n",
    "# Jako ziarno ustawiamy aktualny czas i mamy za każdym razem inne liczby :)\n",
    "def myrand(n, seed=None):\n",
    "    if seed is None:\n",
    "        seed = int(time.time())\n",
    "        \n",
    "    for i in range(n):\n",
    "        seed = (13 * seed + 7) % 101\n",
    "        yield seed\n",
    "\n",
    "\n",
    "for i in myrand(10):\n",
    "    print(i)"
   ]
  },
  {
   "cell_type": "markdown",
   "id": "8569fe01-f213-4def-a0e1-4c64e81edbae",
   "metadata": {},
   "source": [
    "## Collections\n",
    "\n",
    "- https://docs.python.org/3/library/collections.html"
   ]
  },
  {
   "cell_type": "code",
   "execution_count": null,
   "id": "71e88fe7-6172-4087-b3e7-05e97943a64b",
   "metadata": {},
   "outputs": [],
   "source": [
    "from collections import defaultdict, Counter\n",
    "\n",
    "s = 'vlijvslkeybakfwlibyskeybalekbmwbaoiebhaobiehblsiybadoiybslebmwrwka'\n",
    "\n",
    "# Sposób 1\n",
    "counts = {}\n",
    "for letter in s:\n",
    "    if letter in counts:\n",
    "        counts[letter] += 1\n",
    "    else:\n",
    "        counts[letter] = 1\n",
    "\n",
    "print(counts)\n",
    "print(sorted(list(counts.items()), key=lambda x: x[1], reverse=True)[:5])\n",
    "print()\n",
    "\n",
    "# Sposób 2\n",
    "counts = defaultdict(int)\n",
    "for letter in s:\n",
    "    counts[letter] += 1\n",
    "    \n",
    "print(counts)\n",
    "print(sorted(list(counts.items()), key=lambda x: x[1], reverse=True)[:5])\n",
    "print()\n",
    "\n",
    "# Sposób 3\n",
    "c = Counter(s)\n",
    "print(c)\n",
    "print(c.most_common(5))"
   ]
  },
  {
   "cell_type": "markdown",
   "id": "5c2a074b-62fa-4fe0-bc9a-6a7dae9c719b",
   "metadata": {},
   "source": [
    "## Itertools\n",
    "\n",
    "- https://docs.python.org/3/library/itertools.html"
   ]
  },
  {
   "cell_type": "code",
   "execution_count": null,
   "id": "69803de5-76da-46b5-bc4e-77d72edcc359",
   "metadata": {},
   "outputs": [],
   "source": [
    "for i in range(3):\n",
    "    for j in range(3):\n",
    "        print(i, j)"
   ]
  },
  {
   "cell_type": "code",
   "execution_count": null,
   "id": "946fbacb-4d5a-4228-864d-5dab819bbd39",
   "metadata": {},
   "outputs": [],
   "source": [
    "from itertools import product, combinations\n",
    "\n",
    "for i, j, k in product(range(3), range(3), range(3)):\n",
    "    print(i, j, k)"
   ]
  },
  {
   "cell_type": "code",
   "execution_count": null,
   "id": "9851cf59-ee07-41e4-bd47-b38be01da29d",
   "metadata": {},
   "outputs": [],
   "source": [
    "for i in range(5):\n",
    "    for j in range(i + 1, 5):\n",
    "        print(i, j)"
   ]
  },
  {
   "cell_type": "code",
   "execution_count": null,
   "id": "8daf3a03-3b29-47e2-88e7-ed86da004aa3",
   "metadata": {},
   "outputs": [],
   "source": [
    "for i, j in combinations(range(5), 2):\n",
    "    print(i, j)"
   ]
  },
  {
   "cell_type": "markdown",
   "id": "9bddcb6d-dccc-453e-97e7-cf5c9a22be6f",
   "metadata": {},
   "source": [
    "# Zadania"
   ]
  },
  {
   "cell_type": "markdown",
   "id": "25e17c4c",
   "metadata": {},
   "source": [
    "Zadanie 1.1"
   ]
  },
  {
   "cell_type": "code",
   "execution_count": null,
   "id": "5e12cd7f",
   "metadata": {},
   "outputs": [],
   "source": [
    "import random\n",
    "from collections import Counter\n",
    "\n",
    "s = (random.randint(0, 10) for i in range(50))\n",
    "\n",
    "c = Counter(s)\n",
    "print(c)\n",
    "print(c.most_common(5))"
   ]
  },
  {
   "cell_type": "code",
   "execution_count": null,
   "id": "1a19e6eb",
   "metadata": {},
   "outputs": [],
   "source": [
    "import random\n",
    "import collections\n",
    "\n",
    "lista = [random.randrange(10) for i in range(50)]\n",
    "\n",
    "print(Counter(lista))\n",
    "print(Counter(lista).most_common(5))"
   ]
  },
  {
   "cell_type": "markdown",
   "id": "db7aed43",
   "metadata": {},
   "source": [
    "Zadanie 1.2"
   ]
  },
  {
   "cell_type": "code",
   "execution_count": null,
   "id": "75885a73",
   "metadata": {},
   "outputs": [],
   "source": [
    "import itertools\n",
    "\n",
    "napis = input('Podaj napis: ')\n",
    "\n",
    "print('Permutacje:')\n",
    "for x, y in itertools.permutations(napis, 2):\n",
    "    print(f'{x}{y}')\n",
    "\n",
    "print('Kombinacje:')\n",
    "for x, y in itertools.combinations(napis, 2):\n",
    "    print(f'{x}{y}')"
   ]
  },
  {
   "cell_type": "markdown",
   "id": "519c71a6",
   "metadata": {},
   "source": [
    "Zadanie 1.3"
   ]
  },
  {
   "cell_type": "code",
   "execution_count": null,
   "id": "5f8817ef",
   "metadata": {},
   "outputs": [],
   "source": []
  },
  {
   "cell_type": "markdown",
   "id": "d03ae36b",
   "metadata": {},
   "source": [
    "Zadanie 1.4"
   ]
  },
  {
   "cell_type": "code",
   "execution_count": null,
   "id": "d1a7455c",
   "metadata": {},
   "outputs": [],
   "source": [
    "import itertools\n",
    "import math\n",
    "\n",
    "with open('points.txt', 'r') as f:\n",
    "    lines = f.read().splitlines()\n",
    "\n",
    "print(lines)\n",
    "\n",
    "points = (line.split() for line in lines)\n",
    "points = [(float(x), float(y)) for x, y in points]\n",
    "print(points)\n",
    "\n",
    "points_combinations = itertools.combinations(points, 2)\n",
    "points_distance = [(a, b, math.dist(a, b)) for a, b in points_combinations]\n",
    "points_distance.sort(key = lambda x: x[2])\n",
    "\n",
    "print(points_distance[0])"
   ]
  },
  {
   "cell_type": "markdown",
   "id": "26e49d33",
   "metadata": {},
   "source": [
    "Zadanie 1.5"
   ]
  },
  {
   "cell_type": "code",
   "execution_count": null,
   "id": "764259ae",
   "metadata": {},
   "outputs": [],
   "source": [
    "import math\n",
    "\n",
    "def solve(a, b, c):\n",
    "    delta = b ** 2 - 4 * a * c\n",
    "    delta_root = math.sqrt(delta)\n",
    "    x1 = (-b - delta_root) / (2 * a)\n",
    "    x2 = (-b + delta_root) / (2 * a)\n",
    "    print(f'Rozwiązania: {x1 = :.2f}, {x2 = :.2f}')\n",
    "\n",
    "a, b, c = 2, 9, 5\n",
    "\n",
    "try:\n",
    "    solve(a, b, c)\n",
    "except ValueError:\n",
    "    print('Równanie nie posiada rozwiązań')"
   ]
  },
  {
   "cell_type": "code",
   "execution_count": null,
   "id": "4eebe31f",
   "metadata": {},
   "outputs": [],
   "source": [
    "import math\n",
    "\n",
    "def solve(a, b, c):\n",
    "    sd = math.sqrt(b ** 2 - 4 * a * c)\n",
    "    x1 = (-b - sd) / (2 * a)\n",
    "    x2 = (-b + sd) / (2 * a)\n",
    "    return x1, x2\n",
    "\n",
    "\n",
    "while True:\n",
    "    wspolczynniki = input('Podaj współczynniki oddzielone spacją: ')\n",
    "    if not wspolczynniki:\n",
    "        break\n",
    "    try:\n",
    "        a, b, c = (float(x) for x in wspolczynniki.split())\n",
    "        try:\n",
    "            x1, x2 = solve(a, b, c)\n",
    "            print(f'Rozwiązania: {x1 = :.2f}, {x2 = :.2f}')\n",
    "        except ValueError:\n",
    "            print('Równanie nie posiada rozwiązań')\n",
    "    except ValueError:\n",
    "        print('Podaj 3 wspolczynniki rzeczywiste')"
   ]
  },
  {
   "cell_type": "markdown",
   "id": "56a06bbc",
   "metadata": {},
   "source": [
    "Zadanie 1.6"
   ]
  },
  {
   "cell_type": "code",
   "execution_count": 78,
   "id": "713be952",
   "metadata": {},
   "outputs": [
    {
     "name": "stdout",
     "output_type": "stream",
     "text": [
      "s: [False, False, True, True, True, True]\n",
      "i: 2\n",
      "Dla 2 s[2] wynosi: True\n",
      "j: 3\n",
      "j: 4\n",
      "Dla 4 s[4] wynosi: False\n",
      "j: 5\n",
      "i: 3\n",
      "Dla 3 s[3] wynosi: True\n",
      "j: 4\n",
      "j: 5\n",
      "i: 4\n",
      "Dla 4 s[4] wynosi: False\n",
      "i: 5\n",
      "Dla 5 s[5] wynosi: True\n",
      "[2, 3, 5]\n"
     ]
    }
   ],
   "source": [
    "def sieve(n):\n",
    "    s = [False] * 2 + [True] * (n - 2)\n",
    "    print(f's: {s}')\n",
    "    for i in range(2, n):\n",
    "        print(f'i: {i}')\n",
    "        if not s[i]:\n",
    "            print(f'Dla {i} s[{i}] wynosi: {s[i]}')\n",
    "            continue\n",
    "        print(f'Dla {i} s[{i}] wynosi: {s[i]}')\n",
    "        for j in range(i + 1, n):\n",
    "            print(f'j: {j}')\n",
    "            if j % i == 0:\n",
    "                s[j] = False\n",
    "                print(f'Dla {j} s[{j}] wynosi: {s[j]}')\n",
    "    return [i for i in range(n) if s[i]]\n",
    "\n",
    "print(sieve(6))"
   ]
  },
  {
   "cell_type": "markdown",
   "id": "2223b9c2",
   "metadata": {},
   "source": [
    "Zadanie 1.7"
   ]
  },
  {
   "cell_type": "code",
   "execution_count": 82,
   "id": "b0c2e956",
   "metadata": {},
   "outputs": [
    {
     "name": "stdout",
     "output_type": "stream",
     "text": [
      "0\n",
      "1\n",
      "1\n",
      "2\n",
      "3\n",
      "5\n",
      "8\n",
      "13\n",
      "21\n",
      "34\n"
     ]
    }
   ],
   "source": [
    "def fibo_gen(n):\n",
    "    n1, n2 = 0, 1\n",
    "\n",
    "    for i in range(n):\n",
    "        yield n1\n",
    "        n1, n2 = n2, n1 + n2\n",
    "\n",
    "for x in fibo_gen(10):\n",
    "    print(x)"
   ]
  },
  {
   "cell_type": "markdown",
   "id": "2f2027dc",
   "metadata": {},
   "source": [
    "Zadanie 1.8"
   ]
  },
  {
   "cell_type": "code",
   "execution_count": 83,
   "id": "64494072",
   "metadata": {},
   "outputs": [
    {
     "name": "stdout",
     "output_type": "stream",
     "text": [
      "[('Jan', 'Mazur', '33022', '4.0'), ('Zofia', 'Nowak', '33045', '4.5'), ('Filip', 'Kaczmarek', '33050', '4.0'), ('Bartosz', 'Mazur', '33054', '3.5'), ('Julia', 'Kowalska', '33060', '4.0'), ('Dominik', 'Kowalski', '33147', '2.0'), ('Aleksandra', 'Mazur', '33170', '4.0'), ('Kacper', 'Kowalczyk', '33184', '3.5'), ('Filip', 'Kaczmarek', '33207', '4.5'), ('Jakub', 'Lewandowski', '33210', '4.0'), ('Aleksander', 'Mazur', '33237', '3.0'), ('Kinga', 'Nowak', '33246', '3.5'), ('Dominik', 'Mazur', '33262', '2.0'), ('Dominik', 'Kowalczyk', '33268', '3.0'), ('Jakub', 'Kowalski', '33315', '4.5'), ('Anna', 'Kaczmarek', '33322', '4.5'), ('Anna', 'Kaczmarek', '33335', '4.0'), ('Jan', 'Kowalczyk', '33345', '2.0'), ('Dominik', 'Nowak', '33346', '2.0'), ('Aleksandra', 'Grabowska', '33365', '4.0'), ('Aleksander', 'Kaczmarek', '33376', '4.0'), ('Julia', 'Kowalska', '33391', '4.0'), ('Filip', 'Mazur', '33398', '4.5'), ('Filip', 'Mazur', '33419', '4.0'), ('Aleksandra', 'Kowalska', '33425', '4.0'), ('Julia', 'Lewandowska', '33431', '3.5'), ('Karolina', 'Lewandowska', '33438', '3.0'), ('Dominik', 'Nowak', '33442', '2.0'), ('Jakub', 'Kowalski', '33487', '3.5'), ('Kacper', 'Kowalczyk', '33488', '3.5'), ('Alicja', 'Nowak', '33490', '4.0'), ('Aleksander', 'Nowak', '33523', '3.5'), ('Oliwia', 'Kaczmarek', '33578', '4.5'), ('Adam', 'Mazur', '33592', '4.0'), ('Jakub', 'WiĹ›niewski', '33601', '2.0'), ('Kacper', 'Kaczmarek', '33753', '4.0'), ('Kacper', 'Grabowski', '33763', '3.5'), ('Anna', 'Mazur', '33769', '4.0'), ('Aleksander', 'Nowak', '33786', '3.0'), ('Emilia', 'Nowak', '33817', '4.5'), ('Aleksander', 'Mazur', '33837', '4.0'), ('Aleksander', 'Grabowski', '33838', '3.5'), ('Emilia', 'Kowalczyk', '33852', '4.0'), ('Emilia', 'Kaczmarek', '33863', '4.0'), ('Kacper', 'Mazur', '33926', '2.0'), ('Bartosz', 'Grabowski', '33932', '4.5'), ('Emilia', 'Kaczmarek', '33959', '2.0'), ('Aleksandra', 'Nowak', '33980', '4.0'), ('Emilia', 'Lewandowska', '33993', '4.0'), ('Adam', 'Lewandowski', '33997', '5.0')]\n",
      "[('Adam', 'Lewandowski', '33997', '5.0'), ('Jakub', 'Kowalski', '33315', '4.5'), ('Anna', 'Kaczmarek', '33322', '4.5'), ('Bartosz', 'Grabowski', '33932', '4.5'), ('Filip', 'Mazur', '33398', '4.5'), ('Zofia', 'Nowak', '33045', '4.5'), ('Filip', 'Kaczmarek', '33207', '4.5'), ('Emilia', 'Nowak', '33817', '4.5'), ('Oliwia', 'Kaczmarek', '33578', '4.5'), ('Emilia', 'Kaczmarek', '33863', '4.0'), ('Filip', 'Kaczmarek', '33050', '4.0'), ('Aleksander', 'Mazur', '33837', '4.0'), ('Aleksandra', 'Grabowska', '33365', '4.0'), ('Jan', 'Mazur', '33022', '4.0'), ('Alicja', 'Nowak', '33490', '4.0'), ('Anna', 'Kaczmarek', '33335', '4.0'), ('Emilia', 'Kowalczyk', '33852', '4.0'), ('Filip', 'Mazur', '33419', '4.0'), ('Jakub', 'Lewandowski', '33210', '4.0'), ('Kacper', 'Kaczmarek', '33753', '4.0'), ('Anna', 'Mazur', '33769', '4.0'), ('Emilia', 'Lewandowska', '33993', '4.0'), ('Julia', 'Kowalska', '33391', '4.0'), ('Aleksandra', 'Mazur', '33170', '4.0'), ('Aleksandra', 'Nowak', '33980', '4.0'), ('Adam', 'Mazur', '33592', '4.0'), ('Aleksander', 'Kaczmarek', '33376', '4.0'), ('Aleksandra', 'Kowalska', '33425', '4.0'), ('Julia', 'Kowalska', '33060', '4.0'), ('Kacper', 'Kowalczyk', '33488', '3.5'), ('Kacper', 'Kowalczyk', '33184', '3.5'), ('Aleksander', 'Grabowski', '33838', '3.5'), ('Bartosz', 'Mazur', '33054', '3.5'), ('Julia', 'Lewandowska', '33431', '3.5'), ('Jakub', 'Kowalski', '33487', '3.5'), ('Kacper', 'Grabowski', '33763', '3.5'), ('Aleksander', 'Nowak', '33523', '3.5'), ('Kinga', 'Nowak', '33246', '3.5'), ('Dominik', 'Kowalczyk', '33268', '3.0'), ('Aleksander', 'Nowak', '33786', '3.0'), ('Aleksander', 'Mazur', '33237', '3.0'), ('Karolina', 'Lewandowska', '33438', '3.0'), ('Dominik', 'Nowak', '33442', '2.0'), ('Dominik', 'Nowak', '33346', '2.0'), ('Jakub', 'WiĹ›niewski', '33601', '2.0'), ('Dominik', 'Kowalski', '33147', '2.0'), ('Emilia', 'Kaczmarek', '33959', '2.0'), ('Jan', 'Kowalczyk', '33345', '2.0'), ('Dominik', 'Mazur', '33262', '2.0'), ('Kacper', 'Mazur', '33926', '2.0')]\n",
      "('Adam', 'Lewandowski', '33997', '5.0')\n"
     ]
    }
   ],
   "source": [
    "with open ('students.csv', 'r') as f:\n",
    "    lines = f.readlines()\n",
    "    lista = [tuple(line.rstrip().split(', ')) for line in lines]\n",
    "    print(sorted(lista, key= lambda student: student[2]))\n",
    "    print(sorted(lista, key= lambda student: student[3], reverse=True))\n",
    "    print(max(lista, key=lambda student: student[3]))"
   ]
  },
  {
   "cell_type": "code",
   "execution_count": null,
   "id": "16285668",
   "metadata": {},
   "outputs": [],
   "source": []
  },
  {
   "cell_type": "markdown",
   "id": "6d8d066d",
   "metadata": {},
   "source": [
    "Zadanie 1.9"
   ]
  },
  {
   "cell_type": "code",
   "execution_count": 99,
   "id": "a891dc3f",
   "metadata": {},
   "outputs": [
    {
     "name": "stdout",
     "output_type": "stream",
     "text": [
      "5.00000000\n",
      "5.0\n"
     ]
    }
   ],
   "source": [
    "import math as m\n",
    "\n",
    "def my_sqrt(s):\n",
    "    if s < 0:\n",
    "        raise ValueError('s powinno być dodatnie')\n",
    "    x0 = s / 2\n",
    "    x1 = (x0 + s / x0) / 2\n",
    "    while abs(x0 - x1) >= 0.0001:\n",
    "        x0 = x1\n",
    "        x1 = (x0 + s / x0) / 2\n",
    "    return print(f'{x1:.8f}')\n",
    "\n",
    "my_sqrt(25)\n",
    "print(m.sqrt(25))"
   ]
  },
  {
   "cell_type": "markdown",
   "id": "e860e835",
   "metadata": {},
   "source": [
    "Zadanie 1.10"
   ]
  },
  {
   "cell_type": "code",
   "execution_count": 101,
   "id": "f11dc08f",
   "metadata": {},
   "outputs": [
    {
     "name": "stdout",
     "output_type": "stream",
     "text": [
      "True\n",
      "False\n"
     ]
    }
   ],
   "source": [
    "def is_all_numbers_even(lista):\n",
    "    #return False if False in [True if i % 2 == 0 else False for i in lista] else True\n",
    "    return all(n % 2 == 0 for n in lista)\n",
    " \n",
    "print(is_all_numbers_even([2,4,6]))\n",
    "print(is_all_numbers_even([1,2,3]))"
   ]
  },
  {
   "cell_type": "markdown",
   "id": "41f4785e",
   "metadata": {},
   "source": [
    "Zadanie 1.11"
   ]
  },
  {
   "cell_type": "code",
   "execution_count": 105,
   "id": "2f8e513f",
   "metadata": {},
   "outputs": [
    {
     "name": "stdout",
     "output_type": "stream",
     "text": [
      "True\n",
      "False\n"
     ]
    }
   ],
   "source": [
    "def is_sorted(lista):\n",
    "    for i in range(len(lista) - 1):\n",
    "        if lista[i] > lista[i + 1]:\n",
    "            return False\n",
    "    return True\n",
    "\n",
    "print(is_sorted([1, 12, 19]))\n",
    "print(is_sorted([92, 59, 79]))"
   ]
  },
  {
   "cell_type": "code",
   "execution_count": null,
   "id": "03d08874",
   "metadata": {},
   "outputs": [
    {
     "name": "stdout",
     "output_type": "stream",
     "text": [
      "Liczby są posortowane rosnąco\n"
     ]
    }
   ],
   "source": []
  },
  {
   "cell_type": "markdown",
   "id": "c5cb9b68",
   "metadata": {},
   "source": [
    "Zadanie 1.12"
   ]
  },
  {
   "cell_type": "code",
   "execution_count": 111,
   "id": "65441e07",
   "metadata": {},
   "outputs": [
    {
     "name": "stdout",
     "output_type": "stream",
     "text": [
      "[1, 1, 2, 3, 5, 7, 9]\n"
     ]
    }
   ],
   "source": [
    "def merge(a, b):\n",
    "    c = []\n",
    "    i, j = 0, 0\n",
    "    while i < len(a) and j < len(b):\n",
    "        if a[i] < b[j]:\n",
    "            c.append(a[i])\n",
    "            i += 1\n",
    "        else:\n",
    "            c.append(b[j])\n",
    "            j += 1\n",
    "    while i < len(a):\n",
    "        c.append(a[i])\n",
    "        i += 1\n",
    "    while j < len(b):\n",
    "        c.append(b[j])\n",
    "        j += 1\n",
    "    return c\n",
    "\n",
    "print(merge([1, 2, 5, 7], [1, 3, 9]))"
   ]
  }
 ],
 "metadata": {
  "kernelspec": {
   "display_name": "Python 3",
   "language": "python",
   "name": "python3"
  },
  "language_info": {
   "codemirror_mode": {
    "name": "ipython",
    "version": 3
   },
   "file_extension": ".py",
   "mimetype": "text/x-python",
   "name": "python",
   "nbconvert_exporter": "python",
   "pygments_lexer": "ipython3",
   "version": "3.13.0"
  }
 },
 "nbformat": 4,
 "nbformat_minor": 5
}
