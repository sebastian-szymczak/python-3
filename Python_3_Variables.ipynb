{
 "cells": [
  {
   "cell_type": "markdown",
   "metadata": {},
   "source": [
    "Zadanie 1.1.\n",
    "\n",
    "Uzupełnij brakujące elementy poniżej, aby uzyskać prawidłowe wartości zmiennych small_cased, stripped i stripped_lower_case.\n",
    "\n",
    "original = \" Python strings are COOL! \"\n",
    "\n",
    "lower_cased = original.?????\\\n",
    "stripped = ?????.strip()\\\n",
    "stripped_lower_cased = original.?????.?????"
   ]
  },
  {
   "cell_type": "code",
   "execution_count": null,
   "metadata": {},
   "outputs": [],
   "source": [
    "original = ' Python strings are COOL! '\n",
    "\n",
    "lower_cased = original.lower()\n",
    "stripped = original.strip()\n",
    "stripped_lower_cased = original.lower().strip()\n",
    "print(lower_cased)\n",
    "print(stripped)\n",
    "print(stripped_lower_cased)\n",
    "\n",
    "assert lower_cased == ' python strings are cool! '\n",
    "assert stripped == 'Python strings are COOL!'\n",
    "assert stripped_lower_cased == 'python strings are cool!'"
   ]
  },
  {
   "cell_type": "markdown",
   "metadata": {},
   "source": [
    "Zadanie 1.2.\n",
    "\n",
    "Zmodyfikuj podane ciągi wyrazów, aby wyglądały lepiej i zarazem zgadzały się z oczekiwanym wynikiem."
   ]
  },
  {
   "cell_type": "code",
   "execution_count": null,
   "metadata": {},
   "outputs": [],
   "source": [
    "ugly = ' tiTle of MY new Book\\n\\n'\n",
    "\n",
    "pretty = ugly.strip().title()\n",
    "print(pretty)\n",
    "\n",
    "assert pretty == 'Title Of My New Book'"
   ]
  },
  {
   "cell_type": "markdown",
   "metadata": {},
   "source": [
    "Zadanie 1.3.\n",
    "\n",
    "Sformatuj ciąg znaków w oparciu o istniejące zmienne."
   ]
  },
  {
   "cell_type": "code",
   "execution_count": null,
   "metadata": {},
   "outputs": [],
   "source": [
    "verb = 'is'\n",
    "language = 'Python'\n",
    "punctuation = '!'\n",
    "\n",
    "sentence = f'Learning {language} {verb} fun{punctuation}'\n",
    "print(sentence)\n",
    "\n",
    "assert sentence == 'Learning Python is fun!'"
   ]
  },
  {
   "cell_type": "markdown",
   "metadata": {},
   "source": [
    "Zadanie 1.4.\n",
    "\n",
    "Napisz następującą formułę matematyczną w Pythonie:\n",
    "\n",
    "result = 6a^3 8b^2/(4c)+11"
   ]
  },
  {
   "cell_type": "code",
   "execution_count": null,
   "metadata": {},
   "outputs": [],
   "source": [
    "a = 2\n",
    "b = 3\n",
    "c = 2\n",
    "\n",
    "result = 6 * a ** 3 - 8 * b ** 2 / (4 * c) + 11\n",
    "print(result)\n",
    "\n",
    "assert result == 50"
   ]
  },
  {
   "cell_type": "markdown",
   "metadata": {},
   "source": [
    "Zadanie 1.5.\n",
    "\n",
    "Wykonaj obliczenia na wprowadzonej przez użytkownika liczbie, dla przedstawionego przykładu zakładamy, że użytkownik zawsze wprowadza liczbę 20."
   ]
  },
  {
   "cell_type": "code",
   "execution_count": null,
   "metadata": {},
   "outputs": [],
   "source": [
    "number = int(input('Podaj liczbę do obliczeń: '))\n",
    "\n",
    "result = number / 2 + 4\n",
    "\n",
    "assert result == 14"
   ]
  },
  {
   "cell_type": "markdown",
   "metadata": {},
   "source": [
    "Zadanie 2.1.\n",
    "\n",
    "Napisz program w Pythonie, który przyjmuje od użytkownika imię i nazwisko, a następnie wyświetla je w odwrotnej kolejności ze spacją między nimi + powitanie."
   ]
  },
  {
   "cell_type": "code",
   "execution_count": null,
   "metadata": {},
   "outputs": [],
   "source": [
    "imie = str(input('Wprowadź swoje imię :'))\n",
    "nazwisko = str(input('Wprowadź swoje nazwisko: '))\n",
    "\n",
    "result = print(f'Cześć {nazwisko} {imie}')"
   ]
  },
  {
   "cell_type": "markdown",
   "metadata": {},
   "source": [
    "Zadanie 2.2.\n",
    "\n",
    "Napisz program w Pythonie, który przyjmuje nazwę pliku od użytkownika i wypisuje jego rozszerzenie."
   ]
  },
  {
   "cell_type": "code",
   "execution_count": null,
   "metadata": {},
   "outputs": [],
   "source": [
    "nazwa_pliku = str(input('Wprowadź nazwę pliku: '))\n",
    "\n",
    "print(f'Rozszerzenie pliku to: \"{nazwa_pliku.split(\".\")[1]}\".')"
   ]
  },
  {
   "cell_type": "markdown",
   "metadata": {},
   "source": [
    "Zadanie 2.3.\n",
    "\n",
    "Napisz program, który pobierze trzy wartości od użytkownika, a następnie wyświetli datę wydarzenia w formacie \"DD/MM/YYYY\"."
   ]
  },
  {
   "cell_type": "code",
   "execution_count": null,
   "metadata": {},
   "outputs": [],
   "source": [
    "dzien = int(input('Podaj dzień: '))\n",
    "miesiac = int(input('Podaj miesiąc: '))\n",
    "rok = int(input('Podaj rok: '))\n",
    "\n",
    "print(f'{dzien}/{miesiac}/{rok}')"
   ]
  },
  {
   "cell_type": "markdown",
   "metadata": {},
   "source": [
    "Zadanie 2.4.\n",
    "\n",
    "Pobierz od użytkownika dwie liczby całkowite, dodaj je do siebie i wyświetl wynik.\n",
    "\n",
    "Wynik powinien zostać wyświetlony w poniższej postaci:\\\n",
    "Suma 6 oraz 2 to 8."
   ]
  },
  {
   "cell_type": "code",
   "execution_count": null,
   "metadata": {},
   "outputs": [],
   "source": [
    "x = int(input('Podaj pierwszą liczbę: '))\n",
    "y = int(input('Podaj drugą liczbę: '))\n",
    "\n",
    "suma = x + y\n",
    "print(f'Suma {x} oraz {y} to {suma}.')"
   ]
  },
  {
   "cell_type": "markdown",
   "metadata": {},
   "source": [
    "Zadanie 2.5.\n",
    "\n",
    "Pobierz od użytkownika cztery liczby, dwie całkowite i dwie zmiennoprzecinkowe. Dodaj pierwszą i trzecią do siebie, odejmij drugą od czwartej, a następnie dodaj do siebie liczby wynikowe z poprzednich operacji. Wyświetl poszczególne operacje oraz typy tych zmiennych (pobranych od użytkownika oraz przejściowych, tj. tych po każdej z operacji)."
   ]
  },
  {
   "cell_type": "code",
   "execution_count": null,
   "metadata": {},
   "outputs": [],
   "source": [
    "a = int(input('Podaj pierwszą liczbę: '))\n",
    "b = int(input('Podaj drugą liczbę: '))\n",
    "c = float(input('Podaj pierwszą liczbę: '))\n",
    "d = float(input('Podaj drugą liczbę: '))\n",
    "\n",
    "res_1 = a + c\n",
    "print(f'Suma liczb {a} i {c} wynosi {res_1}.')\n",
    "print(type(res_1))\n",
    "\n",
    "res_2 = round(d - b, 1)\n",
    "print(f'Różnica liczb {d} i {b} wynosi {res_2}.')\n",
    "print(type(res_2))\n",
    "\n",
    "res_3 = (res_1 + res_2)\n",
    "print(f'Suma liczb {res_1} i {res_2} wynosi {res_3:.1f}.')\n",
    "print(type(res_3))"
   ]
  },
  {
   "cell_type": "markdown",
   "metadata": {},
   "source": [
    "Zadanie 2.6.\n",
    "\n",
    "Pobierz od użytkownika dwie wartości, liczbę oraz stopień pierwiastka, następnie oblicz i wyświetl sformatowany wynik."
   ]
  },
  {
   "cell_type": "code",
   "execution_count": null,
   "metadata": {},
   "outputs": [],
   "source": [
    "liczba = int(input('Podaj liczbę: '))\n",
    "stopien = int(input('Podaj stopień pierwiastka: '))\n",
    "\n",
    "wynik = liczba ** (1 / stopien)\n",
    "print(f'Pierwiastek {stopien} stopnia z {liczba} wynosi {wynik}.')"
   ]
  },
  {
   "cell_type": "markdown",
   "metadata": {},
   "source": [
    "Zadanie 2.7.\n",
    "\n",
    "Pobierz od użytkownika dwa napisy, a następnie wyświetl je w jednej linii wykorzystując trzy różne sposoby formatowania."
   ]
  },
  {
   "cell_type": "code",
   "execution_count": null,
   "metadata": {},
   "outputs": [],
   "source": [
    "x = str(input('Podaj pierwsze słowo: '))\n",
    "y = str(input('Podaj drugie słowo: '))\n",
    "\n",
    "print(f'{x} {y}')\n",
    "print(x, y, sep = \", \")\n",
    "print(x, end = \" \")\n",
    "print(y)"
   ]
  },
  {
   "cell_type": "markdown",
   "metadata": {},
   "source": [
    "Zadanie 2.8.\n",
    "\n",
    "Pobierz od użytkownika trzy boki trójkąta, a następnie oblicz pole trójkąta korzystając ze wzoru Herona, który został podany poniżej:\n",
    "\n",
    "P = (p(p − a)(p − b)(p − c))^(1/2)\n",
    "\n",
    "Program powinien działać w następujący sposób:\n",
    "\n",
    "Pobieranie danych od użytkownika:\\\n",
    "Wprowadź pierwszy bok: 15\\\n",
    "Wprowadź drugi bok: 9\\\n",
    "Wprowadź trzeci bok: 7\n",
    "\n",
    "Wynik:\\\n",
    "Pole trójkąta wynosi: 20.69"
   ]
  },
  {
   "cell_type": "code",
   "execution_count": null,
   "metadata": {},
   "outputs": [],
   "source": [
    "# Pobieranie danych od użytkownika\n",
    "bok_1 = int(input('Wprowadź pierwszy bok: '))\n",
    "bok_2 = int(input('Wprowadź drugi bok: '))\n",
    "bok_3 = int(input('Wprowadź trzeci bok: '))\n",
    "\n",
    "# Wynik\n",
    "heron = 1 / 2 * (bok_1 + bok_2 + bok_3)\n",
    "print(f'Pole trójkąta wynosi: {(heron * (heron - bok_1) * (heron - bok_2) * (heron - bok_3)) ** (1 / 2):.2f}')"
   ]
  },
  {
   "cell_type": "markdown",
   "metadata": {},
   "source": [
    "Zadanie 2.9.\n",
    "\n",
    "Pobierz od użytkownika odległość w kilometrach, a następnie dokonaj konwersji na mile. Wynik wyświetl w poniższy sposób:\n",
    "\n",
    "Przykładowy input:\\\n",
    "Wprowadź wartość w kilometrach: 2.5\n",
    "\n",
    "Przykładowy output:\\\n",
    "2.50 kilometra to 1.55 mili."
   ]
  },
  {
   "cell_type": "code",
   "execution_count": null,
   "metadata": {},
   "outputs": [],
   "source": [
    "km = float(input('Wprowadź wartość w kilometrach: '))\n",
    "\n",
    "print(f'{km:.2f} kilometra/ów to {km * 0.6214:.2f} mil/i.')"
   ]
  },
  {
   "cell_type": "markdown",
   "metadata": {},
   "source": [
    "Zadanie 2.10.\n",
    "\n",
    "Pobierz od użytkownika temperaturę w stopniach Celsjusza, a następnie dokonaj konwersji na Fahrenheita. Wynik wyświetl w poniższy sposób.\n",
    "\n",
    "Przykładowy input:\\\n",
    "Wprowadź temperaturę w stopniach Celsjusza: 37.5\n",
    "\n",
    "Przykładowy output:\\\n",
    "37.5 stopni Celsjusza to 99.5 stopni Fahrenheita."
   ]
  },
  {
   "cell_type": "code",
   "execution_count": null,
   "metadata": {},
   "outputs": [],
   "source": [
    "cels = float(input('Podaj temperaturę w stopniach Celsjusza: '))\n",
    "\n",
    "print(f'{cels:.1f} stopni Celsjusza to {(cels * 9 / 5) + 32:.1f} stopni Fahrenheita.')"
   ]
  }
 ],
 "metadata": {
  "kernelspec": {
   "display_name": "Python 3 (ipykernel)",
   "language": "python",
   "name": "python3"
  },
  "language_info": {
   "codemirror_mode": {
    "name": "ipython",
    "version": 3
   },
   "file_extension": ".py",
   "mimetype": "text/x-python",
   "name": "python",
   "nbconvert_exporter": "python",
   "pygments_lexer": "ipython3",
   "version": "3.10.9"
  }
 },
 "nbformat": 4,
 "nbformat_minor": 2
}
