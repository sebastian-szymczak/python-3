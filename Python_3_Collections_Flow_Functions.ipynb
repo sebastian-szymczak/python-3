{
 "cells": [
  {
   "cell_type": "markdown",
   "metadata": {},
   "source": [
    "Zadanie 1.1.1.\n",
    "\n",
    "Uzupełnij brakujące elementy - wypełnij ????? w poniższym kodzie:\n",
    "\n",
    "my_list = ?????\n",
    "\n",
    "my_list.?????(\"Python\")\\\n",
    "my_list.?????(\"is ok\")\\\n",
    "my_list.?????(\"sometimes\")\n",
    "\n",
    "my_list.?????(\"sometimes\")\n",
    "\n",
    "my_list[?????] = \"is neat\""
   ]
  },
  {
   "cell_type": "code",
   "execution_count": null,
   "metadata": {},
   "outputs": [],
   "source": [
    "my_list = []\n",
    "\n",
    "my_list.append('Python')\n",
    "my_list.append('is ok')\n",
    "my_list.append('sometimes')\n",
    "\n",
    "my_list.remove('sometimes')\n",
    "\n",
    "my_list[1] = 'is neat'\n",
    "my_list.reverse()\n",
    "print(my_list)\n",
    "\n",
    "assert my_list == ['is neat', 'Python']"
   ]
  },
  {
   "cell_type": "markdown",
   "metadata": {},
   "source": [
    "Zadanie 1.1.2.\n",
    "\n",
    "Utwórz nową listę bez modyfikowania oryginalnej."
   ]
  },
  {
   "cell_type": "code",
   "execution_count": null,
   "metadata": {},
   "outputs": [],
   "source": [
    "original = ['I', 'am', 'learning', 'hacking', 'in']\n",
    "\n",
    "modified = original[:]\n",
    "# modified = original.copy()\n",
    "# modified = [*original, 'Python']\n",
    "modified[3] = 'lists'\n",
    "modified.append('Python')\n",
    "print(original)\n",
    "print(modified)\n",
    "\n",
    "assert original == ['I', 'am', 'learning', 'hacking', 'in']\n",
    "assert modified == ['I', 'am', 'learning', 'lists', 'in', 'Python']"
   ]
  },
  {
   "cell_type": "markdown",
   "metadata": {},
   "source": [
    "Zadanie 1.1.3.\n",
    "\n",
    "Z istniejącej listy usuń Ducati jako zbyt drogi model. Napisz odpowiedni komentarz i wyświetl zmodyfikowaną listę."
   ]
  },
  {
   "cell_type": "code",
   "execution_count": null,
   "metadata": {},
   "outputs": [],
   "source": [
    "motorcycles = ['honda', 'yamaha', 'suzuki', 'ducati']\n",
    "\n",
    "too_expensive = 'ducati'\n",
    "print(f'Motocykl {motorcycles.pop(motorcycles.index(too_expensive)).title()} jest zbyt drogi dla mnie.')\n",
    "print(motorcycles)"
   ]
  },
  {
   "cell_type": "markdown",
   "metadata": {},
   "source": [
    "Zadanie 1.1.4.\n",
    "\n",
    "Utwórz połączoną posortowaną listę."
   ]
  },
  {
   "cell_type": "code",
   "execution_count": null,
   "metadata": {},
   "outputs": [],
   "source": [
    "list1 = [6, 12, 5]\n",
    "list2 = [6.2, 0, 14, 1]\n",
    "list3 = [0.9]\n",
    "\n",
    "my_list = sorted([*list1, *list2, *list3], reverse=True)\n",
    "# my_list = [*list1, *list2, *list3]\n",
    "# my_list.sort(reverse=True)\n",
    "print(my_list)\n",
    "\n",
    "assert my_list == [14, 12, 6.2, 6, 5, 1, 0.9, 0]"
   ]
  },
  {
   "cell_type": "markdown",
   "metadata": {},
   "source": [
    "Zadanie 1.2.1.\n",
    "\n",
    "Utwórz słownik, korzystając ze wszystkich podanych zmiennych."
   ]
  },
  {
   "cell_type": "code",
   "execution_count": null,
   "metadata": {},
   "outputs": [],
   "source": [
    "first_name = 'John'\n",
    "last_name = 'Doe'\n",
    "favorite_hobby = 'Python'\n",
    "sports_hobby = 'gym'\n",
    "age = 82\n",
    "\n",
    "my_dict = {\n",
    "    'name': f'{first_name} {last_name}',\n",
    "    'age': age,\n",
    "    'hobbies': [favorite_hobby, sports_hobby]\n",
    "    }\n",
    "print(my_dict)\n",
    "\n",
    "assert my_dict == {'name': 'John Doe', 'age': 82, 'hobbies': ['Python', 'gym']}"
   ]
  },
  {
   "cell_type": "markdown",
   "metadata": {},
   "source": [
    "Zadanie 1.2.2.\n",
    "\n",
    "Wykorzystaj dict1, dict2 i dict3, aby utworzyć my_dict. Dodatkowo pobierz wartość special_key z my_dict do zmiennej special_value. Pamiętaj, że oryginalne słowniki powinny pozostać niezmienione, a klucz specjalny powinien zostać usunięty z my_dict."
   ]
  },
  {
   "cell_type": "code",
   "execution_count": null,
   "metadata": {},
   "outputs": [],
   "source": [
    "dict1 = dict(key1 = 'This is not that hard', key2 = 'Python is still cool')\n",
    "dict2 = {'key1': 123, 'special_key': 'secret'}\n",
    "dict3 = dict([('key2', 456), ('keyX', 'X')])\n",
    "\n",
    "my_dict = {**dict1, **dict2, **dict3}\n",
    "special_value = my_dict.pop('special_key')\n",
    "print(my_dict)\n",
    "print(special_value)\n",
    "\n",
    "assert my_dict == {'key1': 123, 'key2': 456, 'keyX': 'X'}\n",
    "assert special_value == 'secret'\n",
    "\n",
    "assert dict1 == {'key1': 'This is not that hard', 'key2': 'Python is still cool'}\n",
    "assert dict2 == {'key1': 123, 'special_key': 'secret'}\n",
    "assert dict3 == {'key2': 456, 'keyX': 'X'}"
   ]
  },
  {
   "cell_type": "markdown",
   "metadata": {},
   "source": [
    "Zadanie 1.3.1.\n",
    "\n",
    "Uzupełnij brakujące elementy ????? w poniższym kodzie tak, aby uzyskać poprawny wynik.\n",
    "\n",
    "name = \"John Wayne\"\n",
    "\n",
    "if ?????:\\\n",
    "print(f'Name \"{name}\" is more than 20 chars long.')\\\n",
    "length_description = \"long\"\\\n",
    "elif ?????:\\\n",
    "print(f'Name \"{name}\" is more than 15 chars long.')\\\n",
    "length_description = \"semi long\"\\\n",
    "elif ?????:\\\n",
    "print(f'Name \"{name}\" is more than 10 chars long.')\\\n",
    "length_description = \"semi long\"\\\n",
    "elif ?????:\\\n",
    "print(f'Name \"{name}\" is 8, 9 or 10 chars long.')\\\n",
    "length_description = \"semi short\"\\\n",
    "else:\\\n",
    "print(f'Name \"{name}\" is a short name.')\\\n",
    "length_description = \"short\""
   ]
  },
  {
   "cell_type": "code",
   "execution_count": null,
   "metadata": {},
   "outputs": [],
   "source": [
    "name = str(input('Enter a name: '))\n",
    "\n",
    "if len(name) - name.count(' ') > 20:\n",
    "    print(f'Name \"{name}\" is more than 20 chars long.')\n",
    "    length_description = \"long\"\n",
    "elif len(name) - name.count(' ') > 15:\n",
    "    print(f'Name \"{name}\" is more than 15 chars long.')\n",
    "    length_description = \"semi long\"\n",
    "elif len(name) - name.count(' ') > 10:\n",
    "    print(f'Name \"{name}\" is more than 10 chars long.')\n",
    "    length_description = \"semi long\"\n",
    "elif len(name) - name.count(' ') <= 10 and len(name) - name.count(' ') >= 8:\n",
    "    # elif len(name) - name.count(' ') in range (8, 11)\n",
    "    # elif 8 <= len(name) - name.count(' ') <= 10\n",
    "    print(f'Name \"{name}\" is 8, 9 or 10 chars long.')\n",
    "    length_description = \"semi short\"\n",
    "else:\n",
    "    print(f'Name \"{name}\" is a short name.')\n",
    "    length_description = \"short\""
   ]
  },
  {
   "cell_type": "markdown",
   "metadata": {},
   "source": [
    "Zadanie 1.3.2.\n",
    "\n",
    "Uzupełnij brakujące elementy ????? w poniższym kodzie tak, aby uzyskać poprawny wynik:\n",
    "\n",
    "words = [\"PYTHON\", \"JOHN\", \"chEEse\", \"hAm\", \"DOE\", \"123\"]\\\n",
    "upper_case_words = []\n",
    "\n",
    "for ????? in words:\\\n",
    "&emsp;if ?????.isupper():\\\n",
    "&emsp;&emsp;?????.append(?????)"
   ]
  },
  {
   "cell_type": "code",
   "execution_count": null,
   "metadata": {},
   "outputs": [],
   "source": [
    "words = ['PYTHON', 'JOHN', 'chEEse', 'hAm', 'DOE', '123']\n",
    "upper_case_words = []\n",
    "\n",
    "for word in words:\n",
    "    if word.isupper():\n",
    "        upper_case_words.append(word)\n",
    "# upper_case_words = [word for word in words if word.isupper()]\n",
    "# upper_case_words = [word if word.isupper() else 1 for word in words]\n",
    "print(upper_case_words)\n",
    "\n",
    "assert upper_case_words == ['PYTHON', 'JOHN', 'DOE']"
   ]
  },
  {
   "cell_type": "markdown",
   "metadata": {},
   "source": [
    "Zadanie 1.3.3.\n",
    "\n",
    "Oblicz sumę wartości w magic_dict, biorąc pod uwagę tylko wartości numeryczne."
   ]
  },
  {
   "cell_type": "code",
   "execution_count": null,
   "metadata": {},
   "outputs": [],
   "source": [
    "magic_dict = dict(val1 = 44, val2 = 'secretvalue', val3 = 55.0, val4 = 1)\n",
    "\n",
    "sum_of_values = 0\n",
    "for value in magic_dict.values():\n",
    "    if isinstance(value, (int, float)):\n",
    "        sum_of_values += value\n",
    "# for key in magic_dict.keys()\n",
    "# sum_of_values = sum([magic_dict[key] for key in magic_dict.keys() if isinstance(magic_dict[key], (int, float))])\n",
    "print(sum_of_values)\n",
    "\n",
    "assert sum_of_values == 100"
   ]
  },
  {
   "cell_type": "markdown",
   "metadata": {},
   "source": [
    "Zadanie 1.3.4.\n",
    "\n",
    "Utwórz listę wyrazów na podstawie listy liczb.\n",
    "\n",
    "Zasady:\n",
    "\n",
    "• jeśli liczba jest wielokrotnością pięciu i jest nieparzysta, wyraz powinien mieć wartość ’five\n",
    "odd’;\\\n",
    "• jeśli liczba jest wielokrotnością pięciu i parzystą, wyraz powinien być ’five even’;\\\n",
    "• jeśli liczba jest nieparzysta, ciąg znaków jest ’odd’;\\\n",
    "• jeśli liczba jest parzysta, ciąg znaków jest ’even’.\n"
   ]
  },
  {
   "cell_type": "code",
   "execution_count": null,
   "metadata": {},
   "outputs": [],
   "source": [
    "numbers = [1, 3, 4, 6, 81, 80, 100, 95]\n",
    "\n",
    "my_list = []\n",
    "for number in numbers:\n",
    "    if number % 5 == 0 and number % 2 == 1:\n",
    "        my_list.append('five odd')\n",
    "    elif number % 5 == 0 and number % 2 == 0:\n",
    "        my_list.append('five even')\n",
    "    elif number % 2 == 1:\n",
    "        my_list.append('odd')\n",
    "    elif number % 2 == 0:\n",
    "        my_list.append('even')\n",
    "print(my_list)\n",
    "\n",
    "assert my_list == [\n",
    "    \"odd\",\n",
    "    \"odd\",\n",
    "    \"even\",\n",
    "    \"even\",\n",
    "    \"odd\",\n",
    "    \"five even\",\n",
    "    \"five even\",\n",
    "    \"five odd\",\n",
    "    ]"
   ]
  },
  {
   "cell_type": "markdown",
   "metadata": {},
   "source": [
    "Zadanie 1.4.1.\n",
    "\n",
    "Wypełnij brakujące fragmenty ????? funkcji count_even_numbers.\\\n",
    "Można założyć, że argument numbers jest listą liczb całkowitych.\n",
    "\n",
    "????? count_even_numbers(numbers):\\\n",
    "&emsp;count = 0\\\n",
    "&emsp;for num in ?????:\\\n",
    "&emsp;&emsp;if ????? % 2 == ?????:\\\n",
    "&emsp;&emsp;&emsp;count += ?????\\\n",
    "&emsp;????? ?????"
   ]
  },
  {
   "cell_type": "code",
   "execution_count": 4,
   "metadata": {},
   "outputs": [],
   "source": [
    "def count_even_numbers(numbers):\n",
    "    count = 0\n",
    "    for num in numbers:\n",
    "        if num % 2 == 0:\n",
    "            count += 1\n",
    "    return count\n",
    "\n",
    "assert count_even_numbers([1, 2, 3, 4, 5, 6]) == 3\n",
    "assert count_even_numbers([1, 3, 5, 7]) == 0\n",
    "assert count_even_numbers([-2, 2, -10, 8]) == 4"
   ]
  },
  {
   "cell_type": "markdown",
   "metadata": {},
   "source": [
    "Zadanie 1.4.2.\n",
    "\n",
    "Zaimplementuj funkcję find_wanted_people, która jako argument przyjmuje listę nazw (ciągów znaków). Funkcja powinna zwrócić listę nazw, które występują zarówno w WANTED_PEOPLE, jak i na liście nazw podanej jako argument funkcji."
   ]
  },
  {
   "cell_type": "code",
   "execution_count": null,
   "metadata": {},
   "outputs": [],
   "source": [
    "WANTED_PEOPLE = ['John Doe', 'Clint Eastwood', 'Chuck Norris']\n",
    "\n",
    "def find_wanted_people(szukaj = 'people_to_check'):\n",
    "    wanted = []\n",
    "    for people in szukaj:\n",
    "        if people in WANTED_PEOPLE:\n",
    "            wanted.append(people)\n",
    "    return wanted\n",
    "    pass\n",
    "\n",
    "people_to_check1 = ['Donald Duck', 'Clint Eastwood', 'John Doe', 'Barack Obama']\n",
    "wanted1 = find_wanted_people(people_to_check1)\n",
    "print(wanted1)\n",
    "print(len(wanted1))\n",
    "assert len(wanted1) == 2\n",
    "assert 'John Doe' in wanted1\n",
    "assert 'Clint Eastwood' in wanted1\n",
    "\n",
    "people_to_check2 = ['Donald Duck', 'Mickey Mouse', 'Zorro', 'Superman', 'Robin Hood']\n",
    "wanted2 = find_wanted_people(people_to_check2)\n",
    "print(wanted2)\n",
    "assert wanted2 == []"
   ]
  },
  {
   "cell_type": "markdown",
   "metadata": {},
   "source": [
    "Zadanie 1.4.3.\n",
    "\n",
    "Utwórz funkcję average_length_of_words, która przyjmuje ciąg znaków jako argument i zwraca średnią długość słów w ciągu. Można założyć, że pomiędzy każdym słowem występuje pojedyncza spacja i że dane wejściowe nie zawierają znaków interpunkcyjnych. Wynik należy zaokrąglić do jednego miejsca po przecinku."
   ]
  },
  {
   "cell_type": "code",
   "execution_count": null,
   "metadata": {},
   "outputs": [],
   "source": [
    "def average_length_of_words(tekst):\n",
    "    slowa = tekst.split(' ')\n",
    "    lenght = 0\n",
    "    print(slowa)\n",
    "    for slowo in slowa:\n",
    "        lenght += len(slowo)\n",
    "    return round(lenght / len(slowa), 1)\n",
    "    pass\n",
    "\n",
    "assert average_length_of_words('only four lett erwo rdss') == 4\n",
    "assert average_length_of_words('one two three') == 3.7\n",
    "assert average_length_of_words('one two three four') == 3.8\n",
    "assert average_length_of_words('') == 0"
   ]
  },
  {
   "cell_type": "markdown",
   "metadata": {},
   "source": [
    "Zadanie 2.1.\n",
    "\n",
    "Napisz kod który ocenia studentów według poniższych wartości, a następnie wyświetl czy student zdał czy nie, oraz jaką ocenę uzyskał. Na wejściu programu powinna być wartość pobrana od użytkownika.\n",
    "\n",
    "System oceniania:\\\n",
    "90-100, 5.0\\\n",
    "75-89, 4.5\\\n",
    "65-75, 4.0\\\n",
    "60-65, 3.5\\\n",
    "50-59 3.0\\\n",
    "0-49, 2.0\n",
    "\n",
    "Przykładowy output:\\\n",
    "Liczba punktów: 63\\\n",
    "Uzyskana ocena: 3.5\\\n",
    "Student zaliczył zadanie."
   ]
  },
  {
   "cell_type": "code",
   "execution_count": null,
   "metadata": {},
   "outputs": [],
   "source": [
    "punkty = int(input('Podaj liczbę punktów: '))\n",
    "\n",
    "if 90 <= punkty <= 100:\n",
    "    print(f'Liczba punktów: {punkty}')\n",
    "    print(f'Uzyskana ocena: 5.0')\n",
    "    print(f'Student zaliczył zadanie.')\n",
    "elif 75 <= punkty <= 89:\n",
    "    print(f'Liczba punktów: {punkty}')\n",
    "    print(f'Uzyskana ocena: 4.5')\n",
    "    print(f'Student zaliczył zadanie.')\n",
    "elif 65 <= punkty <= 74:\n",
    "    print(f'Liczba punktów: {punkty}')\n",
    "    print(f'Uzyskana ocena: 4.0')\n",
    "    print(f'Student zaliczył zadanie.')\n",
    "elif 60 <= punkty <= 64:\n",
    "    print(f'Liczba punktów: {punkty}')\n",
    "    print(f'Uzyskana ocena: 3.5')\n",
    "    print(f'Student zaliczył zadanie.')\n",
    "elif 50 <= punkty <= 59:\n",
    "    print(f'Liczba punktów: {punkty}')\n",
    "    print(f'Uzyskana ocena: 3.0')\n",
    "    print(f'Student zaliczył zadanie.')\n",
    "else:\n",
    "    print(f'Liczba punktów: {punkty}')\n",
    "    print(f'Uzyskana ocena: 2.0')\n",
    "    print(f'Student nie zaliczył zadania.')"
   ]
  },
  {
   "cell_type": "code",
   "execution_count": null,
   "metadata": {},
   "outputs": [],
   "source": [
    "score = {\n",
    "    (90, 100): 5.0,\n",
    "    (75, 89): 4.5,\n",
    "    (65, 74): 4.0,\n",
    "    (60, 64): 3.5,\n",
    "    (50, 59): 3.0,\n",
    "    (0, 49): 2.0\n",
    "}\n",
    "punkty = int(input('Podaj liczbę punktów: '))\n",
    "ocena = None\n",
    "for przedzial, ocena_wynik in score.items():\n",
    "    if przedzial[0] <= punkty <= przedzial[1]:\n",
    "        ocena = ocena_wynik\n",
    "        break\n",
    "print(f'Liczba punktów: {punkty}')\n",
    "print(f'Uzyskana ocena: {ocena}')\n",
    "if ocena >= 3.0:\n",
    "    print(f'Student zaliczył zadanie.')\n",
    "else:\n",
    "    print(f'Student nie zaliczył zadania.')"
   ]
  },
  {
   "cell_type": "markdown",
   "metadata": {},
   "source": [
    "Zadanie 2.2.\n",
    "\n",
    "Pobierz od użytkownika miesiąc, a następnie wyświetl jaka to pora roku.\n",
    "\n",
    "Przykładowy input:\\\n",
    "Wprowadź miesiąc: październik\n",
    "\n",
    "Przykładowy output:\\\n",
    "Pora roku dla miesiąca październik: jesień"
   ]
  },
  {
   "cell_type": "code",
   "execution_count": null,
   "metadata": {},
   "outputs": [],
   "source": [
    "month = (input('Wprowadż miesiąc: '))\n",
    "\n",
    "seasons = {\n",
    "    ('1', '2', '12', 'styczeń', 'luty', 'grudzień'): 'zima',\n",
    "    ('3', '4', '5', 'marzec', 'kwieceń', 'maj'): 'wiosna',\n",
    "    ('6', '7', '8', 'czerwiec', 'lipiec', 'sierpień'): 'lato',\n",
    "    ('9', '10', '11', 'wrzesień', 'październik', 'listopad'): 'jesień'\n",
    "    }\n",
    "season = None\n",
    "for key, value in seasons.items():\n",
    "    if month in key:\n",
    "        season = value\n",
    "        print(f'Pora roku dla miesiąca {month}: {season}')\n",
    "if season == None:\n",
    "    print(f'Nie ma takiego miesiąca \"{month}\"!')"
   ]
  },
  {
   "cell_type": "markdown",
   "metadata": {},
   "source": [
    "Zadanie 2.3.\n",
    "\n",
    "Zainicjalizuj listę zawierającą więcej niż 5 elementów z różnymi typami danych. Następnie wyświetl jej długość, pierwszy, środkowy oraz ostatni element. Następnie dodaj jeden element na początku oraz na końcu listy oraz wyświetl listę przed i po modyfikacji."
   ]
  },
  {
   "cell_type": "code",
   "execution_count": null,
   "metadata": {},
   "outputs": [],
   "source": [
    "lista = ['tekst', 1, 1.5, True, [0]]\n",
    "\n",
    "print(len(lista))\n",
    "print(lista[0])\n",
    "print(lista[len(lista) // 2])\n",
    "print(lista[-1])\n",
    "\n",
    "print(lista)\n",
    "lista.insert(0, 'Pierwszy')\n",
    "lista.append('Ostatni')\n",
    "print(lista)"
   ]
  },
  {
   "cell_type": "markdown",
   "metadata": {},
   "source": [
    "Zadanie 2.4.\n",
    "\n",
    "Stwórz listę liczb od 1 do 10 włącznie, następnie posortuj ją malejąco. Pierwsze pięć elementów przypisz do nowej listy, następnie usuń z nowej listy element środkowy oraz posortuj rosnąco. Wyświetl listę po każdej modyfikacji. Dodatkowo sprawdź czy istnieje element o wartości 8, w jednej i drugiej liście, wyświetlając stosowny komunikat w przypadku jego istnienia, bądź braku. Na końcu usuń obie listy."
   ]
  },
  {
   "cell_type": "code",
   "execution_count": null,
   "metadata": {},
   "outputs": [],
   "source": [
    "my_list = list(range(1, 11))\n",
    "# my_list = [x for x in range(1, 11)]\n",
    "\n",
    "print(my_list)\n",
    "my_list.sort(reverse=True)\n",
    "print(my_list)\n",
    "new_list = my_list[:5]\n",
    "print(new_list)\n",
    "new_list.remove(new_list[len(new_list) // 2])\n",
    "print(new_list)\n",
    "new_list.sort()\n",
    "print(new_list)\n",
    "element = 8\n",
    "if element in my_list:\n",
    "    print(f'W pierwszej liście występuje element \"{element}\".')\n",
    "else:\n",
    "    print(f'W pierwszej liście nie występuje element \"{element}\".')\n",
    "if element in new_list:\n",
    "    print(f'W nowej liście występuje element \"{element}\".')\n",
    "else:\n",
    "    print(f'W nowej liście nie występuje element \"{element}\".')\n",
    "del my_list\n",
    "del new_list"
   ]
  },
  {
   "cell_type": "markdown",
   "metadata": {},
   "source": [
    "Zadanie 2.5.\n",
    "\n",
    "Pobierz od użytkownika trzy wartości, dwie liczbowe oraz trzecią w formie string. Następnie stwórz prosty kalkulator, który będzie przyjmował podstawowe operacje arytmetyczne to jest dodawanie, odejmowanie, możenie oraz dzielenie (+, -, *, /).\n",
    "\n",
    "Program powinien wyświetlać wynik w poniższej postaci:\\\n",
    "Działanie: 2 + 4\\\n",
    "Wynik: 6"
   ]
  },
  {
   "cell_type": "code",
   "execution_count": null,
   "metadata": {},
   "outputs": [],
   "source": [
    "x = int(input('Podaj pierwszą liczbę: '))\n",
    "y = int(input('Podaj drugą liczbę: '))\n",
    "dzialanie = str(input('Podaj symbol działania (+, -, *, /): '))\n",
    "\n",
    "if dzialanie == '+':\n",
    "    print(f'Działanie: {x} {dzialanie} {y}')\n",
    "    print(f'Wynik: {x + y}')\n",
    "elif dzialanie == '-':\n",
    "    print(f'Działanie: {x} {dzialanie} {y}')\n",
    "    print(f'Wynik: {x - y}')\n",
    "    wynik = x - y\n",
    "elif dzialanie == '*':\n",
    "    print(f'Działanie: {x} {dzialanie} {y}')\n",
    "    print(f'Wynik: {x * y}')\n",
    "    wynik = x * y\n",
    "elif dzialanie == '/':\n",
    "    try:\n",
    "        print(f'Działanie: {x} {dzialanie} {y}')\n",
    "        print(f'Wynik: {x / y}')\n",
    "    except ZeroDivisionError:\n",
    "        print('Błąd: nie można dzielić przez zero.')\n",
    "else:\n",
    "    print(f'Działanie: {x} {dzialanie} {y}')\n",
    "    print(f'Wynik: Jesteś głupi.')"
   ]
  },
  {
   "cell_type": "code",
   "execution_count": null,
   "metadata": {},
   "outputs": [],
   "source": [
    "x = int(input(\"Podaj liczbę: \"))\n",
    "y = int(input(\"Podaj liczbę: \"))\n",
    "dzialanie = input('Podaj symbol działania (+, -, *, /): ')\n",
    "\n",
    "lista = ['*', '/', '+', '-']\n",
    "if dzialanie in lista:\n",
    "    try:\n",
    "        expression = f'{x} {dzialanie} {y}'\n",
    "        result = eval(expression)\n",
    "        print(f'Działanie: {x} {dzialanie} {y}')\n",
    "        print(f'Wynik: {result}')\n",
    "    except ZeroDivisionError:\n",
    "        print('Błąd: nie można dzielić przez zero.')\n",
    "else:\n",
    "    print('Nieprawidłowy operator.')"
   ]
  },
  {
   "cell_type": "markdown",
   "metadata": {},
   "source": [
    "Zadanie 2.6.\n",
    "\n",
    "Przerób powyższy program tak, aby zamiast pobierać od użytkownika trzy wartości, pobierać całe działanie w jednej linii."
   ]
  },
  {
   "cell_type": "code",
   "execution_count": null,
   "metadata": {},
   "outputs": [],
   "source": [
    "dzialanie = input('Podaj pełne działanie: ')\n",
    "\n",
    "lista = dzialanie.split()\n",
    "x = float(lista[0])\n",
    "y = float(lista[2])\n",
    "operat = lista[1]\n",
    "dzialania = {\n",
    "    \"+\": x + y,\n",
    "    \"*\": x * y,\n",
    "    \"-\": x - y,\n",
    "    \"/\": x / y,\n",
    "    }\n",
    "wynik = [value for key, value in dzialania.items() if operat in key][0]\n",
    "print(f'Działanie: {dzialanie}')\n",
    "print(f'Wynik: {wynik}')"
   ]
  },
  {
   "cell_type": "markdown",
   "metadata": {},
   "source": [
    "Zadanie 2.7.\n",
    "\n",
    "Przefiltruj poniższą listę liczb korzystając z list comprehension, w taki sposób, aby odfiltrować liczby ujemne oraz zero."
   ]
  },
  {
   "cell_type": "code",
   "execution_count": null,
   "metadata": {},
   "outputs": [],
   "source": [
    "list = [-4, -3, -2, -1, 0, 3, 6, 9, 12]\n",
    "print([value for value in list if value > 0])"
   ]
  },
  {
   "cell_type": "markdown",
   "metadata": {},
   "source": [
    "Zadanie 2.8.\n",
    "\n",
    "Używając list comprehension utwórz następującą listę krotek:\n",
    "\n",
    "[(0, 1, 0, 0, 0), (1, 1, 1, 1, 1), (2, 1, 2, 4, 8), (3, 1, 3, 9, 27), (4, 1, 4, 16, 64), (5, 1, 5, 25, 125), (6, 1, 6, 36, 216), (7, 1, 7, 49, 343), (8, 1, 8, 64, 512), (9, 1, 9, 81, 729), (10, 1, 10, 100, 1000)]"
   ]
  },
  {
   "cell_type": "code",
   "execution_count": null,
   "metadata": {},
   "outputs": [],
   "source": [
    "tuple = [(x, x**0, x**1, x**2, x**3) for x in range(11)]\n",
    "print(tuple)"
   ]
  },
  {
   "cell_type": "markdown",
   "metadata": {},
   "source": [
    "Zadanie 2.9.\n",
    "\n",
    "Poniższą listę przekształć na zbiór i porównaj długość listy i zbioru, a następnie wyświetl który jest większy:\n",
    "\n",
    "list = [22, 19, 24, 25, 26, 24, 25, 24]"
   ]
  },
  {
   "cell_type": "code",
   "execution_count": null,
   "metadata": {},
   "outputs": [],
   "source": [
    "lista = [22, 19, 24, 25, 26, 24, 25, 24]\n",
    "\n",
    "zbior = set(lista)\n",
    "print(f'Długość listy: {len(lista)}, długość zbioru: {len(zbior)}')\n",
    "print(lista if len(lista) > len(zbior) else zbior)"
   ]
  },
  {
   "cell_type": "markdown",
   "metadata": {},
   "source": [
    "Zadanie 2.10.\n",
    "\n",
    "Wyświetl tabliczkę mnożenia od 1 do 10 włącznie dla liczby wprowadzonej przez użytkownika."
   ]
  },
  {
   "cell_type": "code",
   "execution_count": null,
   "metadata": {},
   "outputs": [],
   "source": [
    "liczba = int(input('Podaj liczbę do mnożenia: '))\n",
    "\n",
    "for x in range(1, 11):\n",
    "    print(f'{liczba} * {x} = {liczba * x}')"
   ]
  },
  {
   "cell_type": "markdown",
   "metadata": {},
   "source": [
    "Zadanie 2.11.\n",
    "\n",
    "Wykorzystaj pętlę for, aby przeiterować od 0 do 100 włącznie i wypisać sumę wszystkich liczb parzystych i sumę wszystkich liczb nieparzystych (suma wszystkich parzystych wynosi 2 550, natomiast liczb nieparzystych 2 500)."
   ]
  },
  {
   "cell_type": "code",
   "execution_count": null,
   "metadata": {},
   "outputs": [],
   "source": [
    "sump = 0\n",
    "sumn = 0\n",
    "for x in range(0, 101):\n",
    "    if x % 2 == 0:\n",
    "        sump += x\n",
    "    else:\n",
    "        sumn += x\n",
    "# sumn = sum(x for x in range(101) if x % 2 == 1)\n",
    "# sump = sum(x for x in range(101) if x % 2 == 0)\n",
    "print(f'Suma liczb nieparzystych: {sumn}')\n",
    "print(f'Suma liczb parzystych: {sump}')"
   ]
  },
  {
   "cell_type": "markdown",
   "metadata": {},
   "source": [
    "Zadanie 2.12.\n",
    "\n",
    "\"Uczę się Pythona, aby móc tworzyć aplikacje. Dużą zaletą Pythona jest to, że jest bardzo zbliżony do języka angielskiego. Posiada prostą składnię, ale czasami potrafi być skomplikowany przez wysoki poziom abstrakcji. Jednak dobrze jest się nauczyć Pythona, aby dalej rozwijać się w stronę programowania.\"\n",
    "\n",
    "Ile unikalnych słów zostało użytych w zdaniu, a ile słów jest w zdaniu? Wyświetl odpowiedź."
   ]
  },
  {
   "cell_type": "code",
   "execution_count": null,
   "metadata": {},
   "outputs": [],
   "source": [
    "tekst = 'Uczę się Pythona, aby móc tworzyć aplikacje. Dużą zaletą Pythona jest to, że jest bardzo zbliżony do języka angielskiego. Posiada prostą składnię, ale czasami potrafi być skomplikowany przez wysoki poziom abstrakcji. Jednak dobrze jest się nauczyć Pythona, aby dalej rozwijać się w stronę programowania.'\n",
    "\n",
    "def rreplace(string: str, find: str, replace: str, n_occurences: int):\n",
    "    # given a `string`, `find` and `replace` the first `n_occurences`\n",
    "    # found from the right of the string.\n",
    "    temp = string.rsplit(find, n_occurences)\n",
    "    return replace.join(temp)\n",
    "tekst = rreplace(string = tekst, find = '.', replace = '', n_occurences = 1)\n",
    "zdania = tekst.split('. ')\n",
    "\n",
    "for zdanie in zdania:\n",
    "    print(f'\\n{zdanie}')\n",
    "    slowa = zdanie.split(' ')\n",
    "    print(f'Liczba unikalnych słów: {len(set(slowa))}.')\n",
    "    print(f'Liczba słów: {len(slowa)}.')"
   ]
  },
  {
   "cell_type": "markdown",
   "metadata": {},
   "source": [
    "Zadanie 2.13.\n",
    "\n",
    "Dodaj macierze."
   ]
  },
  {
   "cell_type": "code",
   "execution_count": null,
   "metadata": {},
   "outputs": [],
   "source": [
    "X = [\n",
    "    [12,9,3],\n",
    "    [4,5,6],\n",
    "    [7,8,3]\n",
    "    ]\n",
    "\n",
    "Y = [\n",
    "    [9,8,1],\n",
    "    [6,7,3],\n",
    "    [4,5,9]\n",
    "    ]\n",
    "\n",
    "result = []\n",
    "for wiersz in range(len(X)):\n",
    "    row = []\n",
    "    for kolumna in range(len(X[wiersz])):\n",
    "        row.append(X[wiersz][kolumna] + Y[wiersz][kolumna])\n",
    "    result.append(row)\n",
    "print(result)\n",
    "\n",
    "assert result == [[21, 17, 4], [10, 12, 9], [11, 13, 12]]"
   ]
  },
  {
   "cell_type": "markdown",
   "metadata": {},
   "source": [
    "Zadanie 2.14.\n",
    "\n",
    "Transponuj macierz."
   ]
  },
  {
   "cell_type": "code",
   "execution_count": null,
   "metadata": {},
   "outputs": [],
   "source": [
    "X = [\n",
    "    [12, 9],\n",
    "    [7, 3],\n",
    "    [5, 6]\n",
    "    ]\n",
    "\n",
    "result = [\n",
    "    [0, 0, 0],\n",
    "    [0, 0, 0]\n",
    "    ]\n",
    "\n",
    "for wiersz in range(len(result)):\n",
    "    row = []\n",
    "    for kolumna in range(len(result[wiersz])):\n",
    "        result[wiersz][kolumna] = X[kolumna][wiersz]\n",
    "print(result)\n",
    "\n",
    "assert result == [[12, 7, 5], [9, 3, 6]]"
   ]
  },
  {
   "cell_type": "markdown",
   "metadata": {},
   "source": [
    "Zadanie 2.15.\n",
    "\n",
    "Sprawdź czy podany wyraz jest palindromem (palindrom to ciąg znaków, który jest taki sam czytany do przodu i do tyłu). Wyświetl stosowny komunikat, a następnie przekształć program tak, aby przyjmował wyraz od użytkownika."
   ]
  },
  {
   "cell_type": "code",
   "execution_count": null,
   "metadata": {},
   "outputs": [],
   "source": [
    "my_str = str(input('Podaj wyraz: '))\n",
    "\n",
    "if my_str.lower() == my_str[::-1].lower():\n",
    "    print(f'Słowo \"{my_str}\" jest palindromem.')\n",
    "else:\n",
    "    print(f'Słowo \"{my_str}\" nie jest palindromem.')"
   ]
  },
  {
   "cell_type": "code",
   "execution_count": null,
   "metadata": {},
   "outputs": [],
   "source": [
    "orig_str = str(input('Podaj zdanie: '))\n",
    "\n",
    "my_list = orig_str.split(' ')\n",
    "my_str = ''.join(my_list)\n",
    "if my_str.lower() == my_str[::-1].lower():\n",
    "    print(f'Zdanie \"{orig_str}\" jest palindromem.')\n",
    "else:\n",
    "    print(f'Zdanie \"{orig_str}\" nie jest palindromem.')"
   ]
  },
  {
   "cell_type": "markdown",
   "metadata": {},
   "source": [
    "Zadanie 2.16.\n",
    "\n",
    "Pobierz dwie wartości od użytkownika, pierwsze jest słowem, drugie znakiem, a następnie zlicz wystąpienia podanego znaku w zadanym słowie."
   ]
  },
  {
   "cell_type": "code",
   "execution_count": null,
   "metadata": {},
   "outputs": [],
   "source": [
    "my_str = input('Podaj wyraz: ')\n",
    "my_sign = input('Podaj znak: ')\n",
    "\n",
    "ile = my_str.count(my_sign)\n",
    "# ile_wlk = my_str.lower().count(my_sign)\n",
    "print(f'Znak \"{my_sign}\" występuje w słowie \"{my_str}\" {ile} raz/y.')"
   ]
  },
  {
   "cell_type": "markdown",
   "metadata": {},
   "source": [
    "Zadanie 2.17.\n",
    "\n",
    "Sprawdź czy rok jest rokiem przestępnym oraz wyświetl stosowny komunikat (sprawdzić rok 1900)."
   ]
  },
  {
   "cell_type": "code",
   "execution_count": null,
   "metadata": {},
   "outputs": [],
   "source": [
    "rok = int(input('Podaj rok: '))\n",
    "\n",
    "if rok % 4 == 0 and rok % 100 != 0 or rok % 400 == 0:\n",
    "    print(f'Rok {rok} jest przestępny.')\n",
    "else:\n",
    "    print(f'Rok {rok} nie jest przestępny.')"
   ]
  },
  {
   "cell_type": "markdown",
   "metadata": {},
   "source": [
    "Zadanie 2.18.\n",
    "\n",
    "Pobierz trzy liczby od użytkownika, następnie sprawdź która jest największa i wyświetl stosowny komunikat."
   ]
  },
  {
   "cell_type": "code",
   "execution_count": null,
   "metadata": {
    "scrolled": true
   },
   "outputs": [],
   "source": [
    "l_1 = int(input('Wprowadź pierwszą liczbę: '))\n",
    "l_2 = int(input('Wprowadź drugą liczbę: '))\n",
    "l_3 = int(input('Wprowadź trzecią liczbę: '))\n",
    "\n",
    "liczby = {\n",
    "    'pierwsza': l_1,\n",
    "    'druga': l_2,\n",
    "    'trzecia': l_3\n",
    "    }\n",
    "l_max = max(zip(liczby.values(), liczby.keys()))\n",
    "print(f'Liczba {l_max[1]} jest największa, a jej wartość to: {l_max[0]}.')"
   ]
  },
  {
   "cell_type": "markdown",
   "metadata": {},
   "source": [
    "Zadanie 2.19.\n",
    "\n",
    "Sprawdź czy dwa słowa są anagramem (mówi się, że dwa ciągi są anagramami, jeśli możemy utworzyć jeden ciąg poprzez ułożenie znaków innego ciągu).\\\n",
    "Wyświetl stosowny komunikat."
   ]
  },
  {
   "cell_type": "code",
   "execution_count": null,
   "metadata": {},
   "outputs": [],
   "source": [
    "pierwszy = str(input('Podaj pierwszy wyraz: '))\n",
    "drugi = str(input('Podaj drugi wyraz: '))\n",
    "\n",
    "pierwszy_list = list(pierwszy.lower())\n",
    "drugi_list = list(drugi.lower())\n",
    "if sorted(pierwszy_list) == sorted(drugi_list):\n",
    "    print(f'Wyrazy \"{pierwszy}\" i \"{drugi}\" są anagramami.')\n",
    "else:\n",
    "    print(f'Wyrazy \"{pierwszy}\" i \"{drugi}\" nie są anagramami.')"
   ]
  },
  {
   "cell_type": "code",
   "execution_count": null,
   "metadata": {
    "scrolled": true
   },
   "outputs": [],
   "source": [
    "pierwszy = str(input('Podaj pierwszy wyraz: '))\n",
    "drugi = str(input('Podaj drugi wyraz: '))\n",
    "\n",
    "pierwszy_list = list(pierwszy.lower())\n",
    "drugi_list = list(drugi.lower())\n",
    "pierwszy_list.sort()\n",
    "drugi_list.sort()\n",
    "if pierwszy_list == drugi_list:\n",
    "    print(f'Wyrazy \"{pierwszy}\" i \"{drugi}\" są anagramami.')\n",
    "else:\n",
    "    print(f'Wyrazy \"{pierwszy}\" i \"{drugi}\" nie są anagramami.')"
   ]
  },
  {
   "cell_type": "markdown",
   "metadata": {},
   "source": [
    "Zadanie 2.20.\n",
    "\n",
    "Pobierz zdanie od użytkownika, a następnie sprawdź liczbę samogłosek w zdaniu i wyświetl je."
   ]
  },
  {
   "cell_type": "code",
   "execution_count": null,
   "metadata": {},
   "outputs": [],
   "source": [
    "zdanie = input('Podaj zdanie: ')\n",
    "vowels = 'aeiouyąęó'\n",
    "\n",
    "vowels = list(vowels)\n",
    "licznik = 0\n",
    "for char in vowels:\n",
    "    if char in zdanie:\n",
    "        licznik += zdanie.count(char)\n",
    "        print(f'Samogłoska \"{char}\" występuje w zdaniu {zdanie.count(char)} raz/y.')\n",
    "print(f'W zdaniu \"{zdanie}\" występuje {licznik} samogłosek.')"
   ]
  },
  {
   "cell_type": "markdown",
   "metadata": {},
   "source": [
    "Zadanie 2.21.\n",
    "\n",
    "Zainicjalizuj poniższy słownik (wartości w słowniku możesz zmienić według uznania).\\\n",
    "Sprawdź, czy słownik osoby zawiera klucz skills, jeśli tak, wypisz środkową umiejętność z listy umiejętności.\\\n",
    "Sprawdź, czy słownik osoby ma klucz umiejętności, jeśli tak, sprawdź, czy osoba ma umiejętność \"Python\" i wypisz wynik.\\\n",
    "Jeśli dana osoba ma tylko umiejętności Python i Matlab, wyświetl ’Zna uczenie maszynowe’, jeśli dana osoba ma umiejętności Python i R, wyświetl ’Zna statystykę’, jeśli dana osoba ma umiejętności C i C++, wyświetl ’Zna tworzenie oprogramowania’, w przeciwnym wypadku wyświetl ’nieznany zestaw umiejętności’.\\\n",
    "Wyświetl stosowną informację, na temat stanu cywilnego oraz w jakim kraju mieszka osoba."
   ]
  },
  {
   "cell_type": "code",
   "execution_count": null,
   "metadata": {},
   "outputs": [],
   "source": [
    "person = {\n",
    "'first_name': 'Jan',\n",
    "'last_name': 'Kowalski',\n",
    "'age': 44,\n",
    "'country': 'Polska',\n",
    "'is_married': False,\n",
    "'skills': ['Python', 'Matlab',\n",
    "           'R', 'C', 'C++'\n",
    "          ],\n",
    "'address': {\n",
    "'street': 'Ulica',\n",
    "'postalcode': '22-210'\n",
    "        }\n",
    "    }\n",
    "skille = 0\n",
    "if 'skills' in person.keys():\n",
    "    print(f\"Środkowa umiejętność: {person['skills'][len(person['skills']) // 2]}.\")\n",
    "    if 'Python' in person['skills']:\n",
    "        print(f\"{person['first_name']} {person['last_name']} posiada umiejętność 'Python'.\")\n",
    "    else:\n",
    "        print(f\"{person['first_name']} {person['last_name']} nie posiada umiejętności 'Python'.\")\n",
    "    if 'Python' in person['skills'] and 'Matlab' in person['skills']:\n",
    "        print(f\"{person['first_name']} {person['last_name']} zna uczenie maszynowe.\")\n",
    "        skille = 1\n",
    "    if 'Python' in person['skills'] and 'R' in person['skills']:\n",
    "        print(f\"{person['first_name']} {person['last_name']} zna statystykę.\")\n",
    "        skille = 1\n",
    "    if 'C' in person['skills'] and 'C++' in person['skills']:\n",
    "        print(f\"{person['first_name']} {person['last_name']} zna tworzenie oprogramowania.\")\n",
    "        skille = 1\n",
    "    if skille == 0:\n",
    "        print(f'Nieznany zestaw umiejętności.')\n",
    "else:\n",
    "    print(f\"Słownik nie zawiera klucza 'skills'.\")\n",
    "print(f\"{person['first_name']} {person['last_name']} mieszka w kraju {person['country']} i {'jest żonaty' if person['is_married'] else 'jest stanu wolnego'}.\")"
   ]
  },
  {
   "cell_type": "markdown",
   "metadata": {},
   "source": [
    "Zadanie 3.1.1\n",
    "\n",
    "Napisz funkcję która przyjmuje liczbę x jako jedyny argument i zwraca wartość funkcji f(x) = x^2+4x−3 dla podanego argumentu x."
   ]
  },
  {
   "cell_type": "code",
   "execution_count": 1,
   "metadata": {},
   "outputs": [
    {
     "name": "stdout",
     "output_type": "stream",
     "text": [
      "2\n",
      "9\n",
      "42\n",
      "137\n",
      "10397\n"
     ]
    }
   ],
   "source": [
    "def f(x):\n",
    "    return x ** 2 + 4 * x - 3\n",
    "\n",
    "print(f(1))\n",
    "print(f(2))\n",
    "print(f(5))\n",
    "print(f(10))\n",
    "print(f(100))"
   ]
  },
  {
   "cell_type": "markdown",
   "metadata": {},
   "source": [
    "Zadanie 3.1.2\n",
    "\n",
    "Napisz funkcję, która dodaje dwie liczby a i b podane w argumentach. Wartość domyślną dla drugiej liczby proszę ustawić na 2. Następnie, wywołaj tą funkcję na 5 różnych możliwych sposobów tak, żeby została obliczona suma liczb 1 i 2."
   ]
  },
  {
   "cell_type": "code",
   "execution_count": 2,
   "metadata": {},
   "outputs": [
    {
     "name": "stdout",
     "output_type": "stream",
     "text": [
      "3\n",
      "3\n",
      "3\n",
      "3\n",
      "3\n",
      "3\n"
     ]
    }
   ],
   "source": [
    "def f(a, b = 2):\n",
    "    return a + b\n",
    " \n",
    "print(f(1))\n",
    "print(f(1, b = 2))\n",
    "print(f(1, 2))\n",
    "print(f(a = 1))\n",
    "print(f(a = 1, b = 2))\n",
    "print(f(b = 2, a = 1))"
   ]
  },
  {
   "cell_type": "markdown",
   "metadata": {},
   "source": [
    "Zadanie 3.1.3\n",
    "\n",
    "Napisz funkcję, która przyjmuje jako argument listę liczb całkowitych, tworzy kopię tej listy i modyfikuje jej kopię w następujący sposób:\n",
    "\n",
    "• usuwa wszystkie podzielne przez 3 liczby;\\\n",
    "• wkleja wartość -1 przed każdą liczbą parzystą.\n",
    "\n",
    "Po dokonaniu modyfikacji zmodyfikowana wersja listy ma być zwrócona z funkcji. Przy tym funkcję należy napisać tak, żeby lista podana jako argument została niezmieniona. Zademonstruj działanie funkcji na liście liczb losowych z zakresu od 0 do 10.\n",
    "\n",
    "Przykładowe działanie programu:\\\n",
    "Lista: [2, 3, 1, 5, 6, 3, 2, 4]\\\n",
    "Wynik: [-1, 2, 1, 5, -1, 2, -1, 4]\n"
   ]
  },
  {
   "cell_type": "code",
   "execution_count": 3,
   "metadata": {},
   "outputs": [
    {
     "name": "stdout",
     "output_type": "stream",
     "text": [
      "[1, -1, 2, -1, 4, 9, -1, 10]\n"
     ]
    }
   ],
   "source": [
    "lista = [1, 2, 3, 4, 6]\n",
    "\n",
    "def f(lista = [1, 2, 3, 4, 6, 9, 10]):\n",
    "    wynik = lista.copy()\n",
    "    for x in wynik:\n",
    "        if x % 3 == 0:\n",
    "            wynik.remove(x)\n",
    "    dlugosc = len(wynik)\n",
    "    x = 0    \n",
    "    while x < dlugosc:\n",
    "        if wynik[x] % 2 == 0:\n",
    "            wynik.insert(x, -1)\n",
    "            dlugosc += 1\n",
    "            x += 2\n",
    "        else:\n",
    "            x += 1\n",
    "    return wynik\n",
    "\n",
    "print(f())"
   ]
  },
  {
   "cell_type": "markdown",
   "metadata": {},
   "source": [
    "Zadanie 3.1.4\n",
    "\n",
    "Utwórz funkcję, która przyjmuje trzy argumenty: n, a, b i zwraca listę o długości n, wypełnioną losowymi liczbami całkowitymi z zakresu od a do b. Argument n ma mieć wartość domyślną 10, argument a wartość domyślną 0 i argument b wartość domyślną 10."
   ]
  },
  {
   "cell_type": "code",
   "execution_count": 4,
   "metadata": {},
   "outputs": [
    {
     "name": "stdout",
     "output_type": "stream",
     "text": [
      "[0, 9, 8, 4, 9, 4, 8, 3, 1, 1]\n"
     ]
    }
   ],
   "source": [
    "import random\n",
    " \n",
    "def stworz_liste(n = 10, a = 0, b = 10):\n",
    "    lista = []\n",
    "    for x in range(n):\n",
    "        lista.append(random.randrange(a, b))\n",
    "    return lista\n",
    " \n",
    "print(stworz_liste())"
   ]
  },
  {
   "cell_type": "markdown",
   "metadata": {},
   "source": [
    "Zadanie 3.1.5\n",
    "\n",
    "Napisz funkcję, która przyjmuje jeden argument n i wykona następujące rzeczy:\n",
    "\n",
    "• utworzy listę liczb losowych z zakresu od 0 do 10 o długości n (można użyć funkcji z poprzedniego zadania);\\\n",
    "• wypisze na ekran wylosowaną listę;\\\n",
    "• wypisze na ekran największą liczbę z listy;\\\n",
    "• wypisze indeks, pod którym znajduje się najmniejsza liczba w liście;\\\n",
    "• wypisze sumę liczb w liście;\\\n",
    "• wypisze ile razy w liście występuje wartość 5;\\\n",
    "• wypisze zbiór liczb unikalnych występujących w tej liście."
   ]
  },
  {
   "cell_type": "code",
   "execution_count": 37,
   "metadata": {},
   "outputs": [
    {
     "name": "stdout",
     "output_type": "stream",
     "text": [
      "[6, 7, 4, 6, 4, 8, 0, 3, 4, 8]\n",
      "8\n",
      "6\n",
      "50\n",
      "0\n",
      "{0, 3, 4, 6, 7, 8}\n"
     ]
    }
   ],
   "source": [
    "import random\n",
    " \n",
    "def losuj(n = 10, a = 0, b = 10):\n",
    "  return [random.randrange(a, b) for i in range(n)]\n",
    " \n",
    "def f(n):\n",
    "  lista = losuj(n)\n",
    "  print(lista)\n",
    "  print(max(lista))\n",
    "  print(lista.index(min(lista)))\n",
    "  print(sum(lista))\n",
    "  print(lista.count(5))\n",
    "  print(set(lista))\n",
    " \n",
    "f(10)"
   ]
  },
  {
   "cell_type": "markdown",
   "metadata": {},
   "source": [
    "Zadanie 3.1.6\n",
    "\n",
    "Napisz funkcję, która przyjmuje dwie listy a i b o dowolnych długościach jako argumenty i zwraca iloczyn kartezjański elementów tych dwóch list w postaci listy tupli."
   ]
  },
  {
   "cell_type": "code",
   "execution_count": 5,
   "metadata": {},
   "outputs": [
    {
     "name": "stdout",
     "output_type": "stream",
     "text": [
      "[(1, 'a'), (1, 'b'), (2, 'a'), (2, 'b'), (3, 'a'), (3, 'b')]\n"
     ]
    }
   ],
   "source": [
    "l1 = [1, 2, 3]\n",
    "l2 = ['a', 'b']\n",
    "\n",
    "def f(l1, l2):\n",
    "    wynik = []\n",
    "    for x in l1:\n",
    "        for y in l2:\n",
    "            wynik.append((x, y))\n",
    "    return wynik\n",
    "\n",
    "print(f(l1, l2))"
   ]
  },
  {
   "cell_type": "code",
   "execution_count": 6,
   "metadata": {},
   "outputs": [
    {
     "name": "stdout",
     "output_type": "stream",
     "text": [
      "[(1, 'a'), (1, 'b'), (2, 'a'), (2, 'b'), (3, 'a'), (3, 'b')]\n"
     ]
    }
   ],
   "source": [
    "def iloczyn_kartezjanski(a, b):\n",
    "    return [(i,j) for i in a for j in b]\n",
    " \n",
    "lista1 = [1, 2, 3]\n",
    "lista2 = ['a', 'b']\n",
    "\n",
    "print(iloczyn_kartezjanski(lista1, lista2))"
   ]
  },
  {
   "cell_type": "markdown",
   "metadata": {},
   "source": [
    "Zadanie 3.1.7\n",
    "\n",
    "Zaznajom się ze składnią list składanych (list comprehension), następnie napisz program, który utworzy używając tej składni trzy listy:\n",
    "\n",
    "• listę składająca się z sześcianów liczb naturalnych od 0 do 10;\\\n",
    "• listę składająca się z sześcianów liczb naturalnych od 0 do 10 pod warunkiem że sześcian tej liczby jest podzielny przez 3;\\\n",
    "• listę składająca się z na przemian kwadratów i sześcianów liczb naturalnych od 0 do 10. Jeżeli liczba jest podzielna na 3, to zapisujemy jej sześcian, inaczej kwadrat. Początek listy: [0, 1, 4, 27, 16, ...."
   ]
  },
  {
   "cell_type": "code",
   "execution_count": 7,
   "metadata": {},
   "outputs": [
    {
     "name": "stdout",
     "output_type": "stream",
     "text": [
      "[0, 1, 4, 9, 16, 25, 36, 49, 64, 81, 100]\n",
      "[1, 9, 25, 49, 81, 121, 169, 225, 289, 361]\n",
      "[0, 1, 4, 27, 16, 125, 36, 343, 64, 729, 100]\n"
     ]
    }
   ],
   "source": [
    "a = [x ** 2 for x in range(11)]\n",
    "b = [x ** 2 for x in range(21) if x ** 2 % 2 != 0]\n",
    "c = [x ** 2 if x % 2 == 0 else x ** 3 for x in range(11)]\n",
    " \n",
    "print(a)\n",
    "print(b)\n",
    "print(c)"
   ]
  },
  {
   "cell_type": "markdown",
   "metadata": {},
   "source": [
    "Zadanie 3.1.8\n",
    "\n",
    "Napisz program, który wygeneruje listę składającą się z 20 całkowitych liczb losowych od -10 do 10, a następnie obliczy sumę kwadratów liczb ujemnych z tej listy, korzystając się ze składni list składanych (list comprehension)."
   ]
  },
  {
   "cell_type": "code",
   "execution_count": 8,
   "metadata": {},
   "outputs": [
    {
     "name": "stdout",
     "output_type": "stream",
     "text": [
      "[-2, 2, -10, 8, 50, 76, -77, 72, 13, 18, 96, 84, 10, 58, -90, -58, -58, -85, -31, -8]\n",
      "487\n"
     ]
    }
   ],
   "source": [
    "import random\n",
    "\n",
    "lista = [random.randrange(-100, 101) for i in range(20)]\n",
    "print(lista) \n",
    "print(sum([x for x in lista if x > 0]))"
   ]
  },
  {
   "cell_type": "code",
   "execution_count": 19,
   "metadata": {},
   "outputs": [
    {
     "name": "stdout",
     "output_type": "stream",
     "text": [
      "[2, 5, 5, 5, 2, 3, -1, -4, 0, -5, 0, -5, -1, -2, 5, 4, -1, 0, 4, 4]\n"
     ]
    },
    {
     "data": {
      "text/plain": [
       "39"
      ]
     },
     "execution_count": 19,
     "metadata": {},
     "output_type": "execute_result"
    }
   ],
   "source": [
    "def suma_listy(n = 20, threshold = 0):\n",
    "    lista = [random.randrange(-5, 6) for i in range(n)]\n",
    "    print(lista)\n",
    "    return sum([x for x in lista if x > threshold])\n",
    "\n",
    "suma_listy()"
   ]
  },
  {
   "cell_type": "markdown",
   "metadata": {},
   "source": [
    "Zadanie 3.1.9\n",
    "\n",
    "Napisz funkcję, która przyjmuje jeden argument który może być liczbą albo listą liczb. Jeżeli jako argument została podana liczba, należy zwrócić tą liczbę pomnożoną razy 2. Jeżeli jako argument została podana lista należy utworzyć nową listę, która będzie zawierała elementy pierwotnej listy, pomnożone razy 2. Zademonstruj działanie tej funkcji dla liczby i listy losowej."
   ]
  },
  {
   "cell_type": "code",
   "execution_count": 20,
   "metadata": {},
   "outputs": [
    {
     "name": "stdout",
     "output_type": "stream",
     "text": [
      "24\n",
      "[2, 4, 6]\n"
     ]
    }
   ],
   "source": [
    "def f(a):\n",
    "    return a * 2 if isinstance(a, int) or isinstance(a, float) else [i * 2 for i in a]\n",
    "\n",
    "print(f(12))\n",
    "print(f([1, 2, 3]))"
   ]
  },
  {
   "cell_type": "markdown",
   "metadata": {},
   "source": [
    "Zadanie 3.1.10\n",
    "\n",
    "Napisz funkcję, która zamieni znaki podanego jako argument napisu s na liste odpowiadających tym znakom kody ASCII. Ta lista ma być zwrócona jako wynik działania tej funkcji. Do napisania funkcji użyj składni list comprehension."
   ]
  },
  {
   "cell_type": "code",
   "execution_count": 147,
   "metadata": {},
   "outputs": [
    {
     "name": "stdout",
     "output_type": "stream",
     "text": [
      "[65, 108, 97, 32, 109, 97, 32, 107, 111, 116, 97, 46]\n"
     ]
    }
   ],
   "source": [
    "s = 'Ala ma kota.'\n",
    "\n",
    "def zamien(s):\n",
    "    return [ord(x) for x in s]\n",
    "\n",
    "print(zamien(s))"
   ]
  },
  {
   "cell_type": "markdown",
   "metadata": {},
   "source": [
    "Zadanie 3.1.11\n",
    "\n",
    "Napisz funkcję, która przyjmuje dwa napisy (słowa czy zdania), a następnie w kolejnych wierszach wypisuje:\n",
    "\n",
    "• zbiór wszystkich znaków unikatowych występujących w obu napisach;\\\n",
    "• zbiór znaków występujących w obu napisach jednocześnie;\\\n",
    "• zbiór znaków występujących w pierwszym napisie, ale nie występujących w drugim."
   ]
  },
  {
   "cell_type": "code",
   "execution_count": 158,
   "metadata": {},
   "outputs": [
    {
     "name": "stdout",
     "output_type": "stream",
     "text": [
      "{'p', 'e', ' ', 'a', 't', 'm', 'k', 'o', 'l'}\n",
      "{'a', 'l'}\n",
      "{' ', 't', 'm', 'k', 'o'}\n"
     ]
    }
   ],
   "source": [
    "napis1 = \"ala ma kota\"\n",
    "napis2 = \"apple\"\n",
    "\n",
    "def f(napis1, napis2):\n",
    "    zbior1 = set(napis1)\n",
    "    zbior2 = set(napis2)\n",
    "    return print(f'{zbior1.union(zbior2)}\\n{zbior1.intersection(zbior2)}\\n{zbior1.difference(zbior2)}')\n",
    "\n",
    "f(napis1, napis2)"
   ]
  },
  {
   "cell_type": "markdown",
   "metadata": {},
   "source": [
    "Zadanie 3.1.12\n",
    "\n",
    "Napisz funkcję, która będzie posługiwać się predefiniowanym słownikiem do tłumaczenia słów zawierających się w tym słowniku na język polski. Funkcja ma przyjmować napis, będący zbiorem słów w języku angielskim (wystarczy około 5 słów) i zwracać napis składający się z przetłumaczonych słów, jeżeli słowo zawiera się w słowniku, i oryginałów słów zawartych w nawiasy kwadratowe, jeżeli słowo jest nieznane."
   ]
  },
  {
   "cell_type": "code",
   "execution_count": 21,
   "metadata": {},
   "outputs": [
    {
     "name": "stdout",
     "output_type": "stream",
     "text": [
      "jabłko banan [lemon] [orange] grusza\n"
     ]
    }
   ],
   "source": [
    "def przetlumacz(napis):\n",
    "\n",
    "    slownik = {\n",
    "    'banana': 'banan',\n",
    "    'cherry': 'wiśnia',\n",
    "    'apple': 'jabłko',\n",
    "    'pear': 'grusza',\n",
    "    'watermelon': 'arbuz'\n",
    "        }\n",
    "    lista_slow = napis.split(' ')\n",
    "    return ' '.join([slownik[slowo] if slowo in slownik.keys() else f'[{slowo}]' for slowo in lista_slow])\n",
    "\n",
    "napis = 'apple banana lemon orange pear'\n",
    "print(przetlumacz(napis))"
   ]
  },
  {
   "cell_type": "markdown",
   "metadata": {},
   "source": [
    "Zadanie 3.1.13\n",
    "\n",
    "Stwórz generator dla listy liczb od 1 do 4 i wywołaj kolejne wartości."
   ]
  },
  {
   "cell_type": "code",
   "execution_count": 23,
   "metadata": {},
   "outputs": [
    {
     "name": "stdout",
     "output_type": "stream",
     "text": [
      "1\n",
      "2\n",
      "3\n",
      "4\n"
     ]
    }
   ],
   "source": [
    "def f():\n",
    "    lista = [1, 2, 3, 4]\n",
    "    for i in lista:\n",
    "        yield i\n",
    " \n",
    "generator = f()\n",
    "print(next(generator))\n",
    "print(next(generator))\n",
    "print(next(generator))\n",
    "print(next(generator))"
   ]
  },
  {
   "cell_type": "markdown",
   "metadata": {},
   "source": [
    "Zadanie 3.2.1\n",
    "\n",
    "Napisz funkcję która przyjmuje liczbę x jako jedyny argument i zwraca wartość funkcji f(x) = x^3−3x^2+8x−2 dla podanego argumentu x."
   ]
  },
  {
   "cell_type": "code",
   "execution_count": 25,
   "metadata": {},
   "outputs": [
    {
     "name": "stdout",
     "output_type": "stream",
     "text": [
      "10\n"
     ]
    }
   ],
   "source": [
    "def f(x):\n",
    "    return x ** 3 - 3 * x ** 2 + 8 * x - 2\n",
    "\n",
    "print(f(2))"
   ]
  },
  {
   "cell_type": "markdown",
   "metadata": {},
   "source": [
    "Zadanie 3.2.2\n",
    "\n",
    "Napisz funkcję, która przyjmuje jako argumenty dwie liczby a i b. Funkcja ma służyć do rozwiązywania równań liniowych typu ax + b = 0. Wystarczy że funkcja będzie zwracać pierwiastek w przypadku gdy istnieje tylko jedno rozwiązanie równania i wypisywać stosowny komunikat w pozostałych dwóch przypadkach.\\\n",
    "Wartość domyślną dla argumentu b proszę ustawić na 0. Następnie, wywołaj tą funkcję na kilka różnych możliwych sposobów tak, żeby został obliczony pierwiastek równania x + 2 = 0."
   ]
  },
  {
   "cell_type": "code",
   "execution_count": 162,
   "metadata": {},
   "outputs": [
    {
     "name": "stdout",
     "output_type": "stream",
     "text": [
      "-2.0\n",
      "-2.0\n",
      "-2.0\n",
      "-2.0\n"
     ]
    }
   ],
   "source": [
    "def f(a, b = 0):\n",
    "    return -b / a if a else 'Brak rozwiązań!' if b else 'Nieskończenie wiele rozwiazań!'\n",
    " \n",
    "print(f(1, 2))\n",
    "print(f(1, b = 2))\n",
    "print(f(a = 1, b = 2))\n",
    "print(f(b = 2, a = 1))"
   ]
  },
  {
   "cell_type": "markdown",
   "metadata": {},
   "source": [
    "Zadanie 3.2.3\n",
    "\n",
    "Napisz funkcję, która przyjmuje jako argument listę liczb całkowitych, tworzy kopię tej listy i modyfikuje jej\n",
    "kopię w następujący sposób:\n",
    "\n",
    "• usuwa wszystkie podzielne przez 4 liczby;\\\n",
    "• wkleja wartość -1 przed każdą liczbą nieparzystą.\n",
    "\n",
    "Po dokonaniu modyfikacji zmodyfikowana wersja listy ma być zwrócona z funkcji. Przy tym funkcję należy napisać tak, żeby lista, podana jako argument została niezmieniona. Zademonstruj działanie funkcji na liście liczb losowych z zakresu od 0 do 10."
   ]
  },
  {
   "cell_type": "code",
   "execution_count": 26,
   "metadata": {},
   "outputs": [
    {
     "name": "stdout",
     "output_type": "stream",
     "text": [
      "[2, -1, 3, -1, 1, -1, 5, -1, 3, 2]\n"
     ]
    }
   ],
   "source": [
    "lista = [2, 3, 1, 5, 8, 3, 2, 4]\n",
    "\n",
    "def f(lista = [2, 3, 1, 5, 8, 3, 2, 4]):\n",
    "    wynik = lista.copy()\n",
    "    for x in wynik:\n",
    "        if x % 4 == 0:\n",
    "            wynik.remove(x)\n",
    "    dlugosc = len(wynik)\n",
    "    x = 0    \n",
    "    while x < dlugosc:\n",
    "        if wynik[x] % 2 == 1:\n",
    "            wynik.insert(x, -1)\n",
    "            dlugosc += 1\n",
    "            x += 2\n",
    "        else:\n",
    "            x += 1\n",
    "    return wynik\n",
    "\n",
    "print(f())"
   ]
  },
  {
   "cell_type": "markdown",
   "metadata": {},
   "source": [
    "Zadanie 3.2.4\n",
    "\n",
    "Utwórz funkcję, która przyjmuje trzy argumenty: n, a, b i zwraca listę o długości n, wypełnioną losowymi liczbami całkowitymi z zakresu od a do b. Argument n ma mieć wartość domyślną 10, argument a wartość domyślną 0 i argument b wartość domyślną 10."
   ]
  },
  {
   "cell_type": "code",
   "execution_count": 27,
   "metadata": {},
   "outputs": [
    {
     "name": "stdout",
     "output_type": "stream",
     "text": [
      "[1, 7, 2, 3, 3, 6, 1, 8, 7, 9]\n"
     ]
    }
   ],
   "source": [
    "import random\n",
    " \n",
    "def f(n = 10, a = 0, b = 10):\n",
    "    return [random.randrange(a, b) for i in range(n)]\n",
    "\n",
    "print(f())"
   ]
  },
  {
   "cell_type": "markdown",
   "metadata": {},
   "source": [
    "Zadanie 3.2.5\n",
    "\n",
    "Napisz funkcję, która przyjmuje jeden argument n, i wykona następujące rzeczy:\n",
    "\n",
    "• utworzy listę liczb losowych z zakresu od 0 do 10 o długości n (można użyć funkcję z poprzedniego zadania);\\\n",
    "• wypisze na ekran wylosowaną listę;\\\n",
    "• wypisze na ekran najmniejszą liczbę z listy;\\\n",
    "• wypisze indeks, pod którym znajduje się największa liczba w liście;\\\n",
    "• wypisze sumę liczb w liście;\\\n",
    "• wypisze posortowaną listę liczb (przy tym zachowując też wersje nieposortowaną);\\\n",
    "• wypisze ile razy w liście występuje wartość 3;\\\n",
    "• wypisze zbiór liczb unikalnych występujących w tej liście."
   ]
  },
  {
   "cell_type": "code",
   "execution_count": 28,
   "metadata": {},
   "outputs": [
    {
     "name": "stdout",
     "output_type": "stream",
     "text": [
      "[8, 5, 3, 3, 7, 5, 4, 6, 9, 9]\n",
      "3\n",
      "8\n",
      "59\n",
      "[3, 3, 4, 5, 5, 6, 7, 8, 9, 9]\n",
      "2\n",
      "{3, 4, 5, 6, 7, 8, 9}\n"
     ]
    }
   ],
   "source": [
    "import random\n",
    " \n",
    "def losuj(n = 10, a = 0, b = 10):\n",
    "    return [random.randrange(a, b) for i in range(n)]\n",
    "\n",
    "def f(n):\n",
    "    lista = losuj(n)\n",
    "    print(lista)\n",
    "    print(min(lista))\n",
    "    print(lista.index(max(lista)))\n",
    "    print(sum(lista))\n",
    "    print(sorted(lista))\n",
    "    print(lista.count(3))\n",
    "    print(set(lista))\n",
    "\n",
    "f(10)"
   ]
  },
  {
   "cell_type": "markdown",
   "metadata": {},
   "source": [
    "Zadanie 3.2.6\n",
    "\n",
    "Napisz funkcję, która przyjmuje napis o dowolnej długości jako jedyny argument i zwraca listę napisów będących kombinacjami par symboli, z których składa się podany jako argument napis."
   ]
  },
  {
   "cell_type": "code",
   "execution_count": 30,
   "metadata": {},
   "outputs": [
    {
     "name": "stdout",
     "output_type": "stream",
     "text": [
      "['AB', 'AC', 'AD', 'BC', 'BD', 'CD']\n"
     ]
    }
   ],
   "source": [
    "napis = 'ABCD'\n",
    "\n",
    "def funkcja(napis):\n",
    "    kombinacje = []\n",
    "    for i in napis:\n",
    "        for j in napis:\n",
    "            if i != j:\n",
    "                if j + i not in kombinacje:\n",
    "                    kombinacje.append(i + j)\n",
    "    return kombinacje\n",
    "\n",
    "print(funkcja(napis))"
   ]
  },
  {
   "cell_type": "markdown",
   "metadata": {},
   "source": [
    "Zadanie 3.2.7\n",
    "\n",
    "Zaznajom się ze składnią list składanych (list comprehension), następnie napisz program, który utworzy używając tej składni trzy listy:\n",
    "\n",
    "• listę składająca się z sześcianów liczb naturalnych od 0 do 10;\\\n",
    "• listę składająca się z sześcianów liczb naturalnych od 0 do 10 pod warunkiem że sześcian tej liczby jest podzielny przez 3;\\\n",
    "• listę składająca się z na przemian kwadratów i sześcianów liczb naturalnych od 0 do 10. Jeżeli liczba jest podzielna na 3, to zapisujemy jej sześcian, inaczej kwadrat. Początek listy: [0, 1, 4, 27, 16, ...."
   ]
  },
  {
   "cell_type": "code",
   "execution_count": 182,
   "metadata": {},
   "outputs": [
    {
     "name": "stdout",
     "output_type": "stream",
     "text": [
      "[0, 1, 8, 27, 64, 125, 216, 343, 512, 729, 1000]\n",
      "[0, 27, 216, 729]\n",
      "[0, 1, 4, 27, 16, 25, 216, 49, 64, 729, 100]\n"
     ]
    }
   ],
   "source": [
    "a = [x ** 3 for x in range(11)]\n",
    "b = [x ** 3 for x in range(11) if x ** 3 % 3 == 0]\n",
    "c = [x ** 3 if x % 3 == 0 else x ** 2 for x in range(11)]\n",
    "\n",
    "print(a)\n",
    "print(b)\n",
    "print(c)"
   ]
  },
  {
   "cell_type": "markdown",
   "metadata": {},
   "source": [
    "Zadanie 3.2.8\n",
    "\n",
    "Napisz program, który wygeneruje listę składającą się z 20 całkowitych liczb losowych od -10 do 10, a następnie obliczy sumę kwadratów liczb ujemnych z tej listy, korzystając się ze składni list składanych (list comprehension)."
   ]
  },
  {
   "cell_type": "code",
   "execution_count": 31,
   "metadata": {},
   "outputs": [
    {
     "name": "stdout",
     "output_type": "stream",
     "text": [
      "[-2, 6, 8, -3, -2, -2, 8, -1, 1, -9, -5, -2, -9, 3, -2, -10, 9, -10, -10, 2]\n"
     ]
    },
    {
     "data": {
      "text/plain": [
       "517"
      ]
     },
     "execution_count": 31,
     "metadata": {},
     "output_type": "execute_result"
    }
   ],
   "source": [
    "def suma_listy(n = 20, t = 0):\n",
    "    lista = [random.randrange(-10, 11) for i in range(n)]\n",
    "    print(lista)\n",
    "    return sum([x ** 2 for x in lista if x < t])\n",
    "\n",
    "suma_listy()"
   ]
  },
  {
   "cell_type": "markdown",
   "metadata": {},
   "source": [
    "Zadanie 3.2.9\n",
    "\n",
    "Napisz funkcję, która przyjmuje jeden argument który może być liczbą albo listą liczb. Jeżeli jako argument została podana liczba, należy zwrócić tą liczbę podniesioną do kradratu. Jeżeli jako argument została podana lista należy utworzyć nową listę, która będzie zawierała elementy pierwotnej listy, podniesione do kwadratu. Zademonstruj działanie tej funkcji dla liczby i listy losowej."
   ]
  },
  {
   "cell_type": "code",
   "execution_count": 32,
   "metadata": {},
   "outputs": [
    {
     "name": "stdout",
     "output_type": "stream",
     "text": [
      "146.41\n",
      "[1, 4, 9]\n"
     ]
    }
   ],
   "source": [
    "def f(x):\n",
    "    return x ** 2 if isinstance(x, (int, float)) else [i ** 2 for i in x]\n",
    "\n",
    "print(f(12.1))\n",
    "print(f([1, 2, 3]))"
   ]
  },
  {
   "cell_type": "markdown",
   "metadata": {},
   "source": [
    "Zadanie 3.2.10\n",
    "\n",
    "Napisz funkcję, która zamieni listę kodów ASCII podawaną jako argument na napis. Ten napis ma być zwrócony jako wynik działania tej funkcji. Do napisania funkcji użyj składni list comprehension. Następnie, wygeneruj listę składającą się z 10 całkowitych liczb losowych z zakresu od 97 (kod ASCII małej litery ’a’) do 122 (kod ASCII małej litery ’z’) włącznie i użyj poprzednio zaimplementowanej funkcji do zamiany tej listy na losowy ciąg liter."
   ]
  },
  {
   "cell_type": "code",
   "execution_count": 89,
   "metadata": {},
   "outputs": [
    {
     "name": "stdout",
     "output_type": "stream",
     "text": [
      "Wygenerowano 7-elementową listę kodów ASCII: [114, 97, 122, 99, 110, 122, 115]\n",
      "Powstałe słowo to: razcnzs.\n"
     ]
    }
   ],
   "source": [
    "def zamien(n = 10, a = 97, b = 123):\n",
    "    list = [random.randrange(a, b) for i in range(n)]\n",
    "    print(f'Wygenerowano {n}-elementową listę kodów ASCII: {list}')\n",
    "    conv = ''.join([chr(x) for x in list])\n",
    "    return print(f'Powstałe słowo to: {conv}.')\n",
    "\n",
    "(zamien(n = 7))"
   ]
  },
  {
   "cell_type": "markdown",
   "metadata": {},
   "source": [
    "Zadanie 3.2.11\n",
    "\n",
    "Napisz funkcję, która przyjmuje dwie listy składających się z liczb losowych, a następnie w kolejnych wierszach wypisuje:\n",
    "\n",
    "• zbiór wszystkich liczb unikatowych występujących w obu listach;\\\n",
    "• zbiór liczb występujących w obu listach jednocześnie;\\\n",
    "• zbiór liczb występujących w pierwszej liście, ale nie występującej w drugiej.\n",
    "\n",
    "Następnie należy wygenerować dwie listy składające się z 10 całkowitych liczb losowych z zakresu od 0 do 10 i zademonstrować działanie zaimplementowanej funkcji."
   ]
  },
  {
   "cell_type": "code",
   "execution_count": 94,
   "metadata": {},
   "outputs": [
    {
     "name": "stdout",
     "output_type": "stream",
     "text": [
      "[10, 1, 1, 9, 3, 7, 7, 7, 5, 5]\n",
      "[1, 3, 6, 2, 9, 2, 10, 0, 4, 5]\n",
      "{0, 1, 2, 3, 4, 5, 6, 7, 9, 10}\n",
      "{1, 3, 5, 9, 10}\n",
      "{7}\n"
     ]
    }
   ],
   "source": [
    "import random\n",
    "\n",
    "def losuj(n = 10, a = 0, b = 11):\n",
    "    return [random.randrange(a, b) for i in range(n)]\n",
    "\n",
    "lista1 = losuj(10)\n",
    "lista2 = losuj(10)\n",
    "print(lista1)\n",
    "print(lista2)\n",
    "\n",
    "def f(lista1, lista2):\n",
    "    zbior1 = set(lista1)\n",
    "    zbior2 = set(lista2)\n",
    "    return print(f'{zbior1.union(zbior2)}\\n{zbior1.intersection(zbior2)}\\n{zbior1.difference(zbior2)}')\n",
    "\n",
    "f(lista1, lista2)"
   ]
  },
  {
   "cell_type": "markdown",
   "metadata": {},
   "source": [
    "Zadanie 3.2.12\n",
    "\n",
    "Napisz program, który będzie pobierać od użytkownika słowa w języku angielskim i tłumaczył na język polski za pomocą predefiniowanego słownika. Jeżeli wprowadzone słowo nie zawiera się w słowniku, należy zapytać użytkownika czy on chce dodać słowo wraz z tłumaczeniem do słownika. Jeżeli użytkownik odpowie tak, to należy zapytać się o tłumaczenie tego słowa i dodać parę nieznane słowo - tłumaczenie do słownika. Program ma działać w pętli do momentu wprowadzenia przez użytkownika pustego wiersza (po prostu wciśnięcie Enter)."
   ]
  },
  {
   "cell_type": "code",
   "execution_count": 95,
   "metadata": {},
   "outputs": [
    {
     "name": "stdout",
     "output_type": "stream",
     "text": [
      "Podaj słowo: apple\n",
      "jabłko\n",
      "Podaj słowo: goat\n",
      "Słowo jest nieznane. Czy chcesz je dodać? [tak/nie]: tak\n",
      "Wpisz tłumaczenie tego słowa: koza\n",
      "Słowo goat zostało dodane do słownika.\n",
      "Podaj słowo: pear\n",
      "gruszka\n",
      "Podaj słowo: goat\n",
      "koza\n",
      "Podaj słowo: \n"
     ]
    }
   ],
   "source": [
    "slownik = {\n",
    "    'banana': 'banan',\n",
    "    'cherry': 'wiśnia',\n",
    "    'apple': 'jabłko',\n",
    "    'pear': 'gruszka',\n",
    "    'watermelon': 'arbuz'\n",
    "    }\n",
    "\n",
    "slowo = ' '\n",
    "while slowo != '':\n",
    "    slowo = input('Podaj słowo: ')\n",
    "    if slowo in slownik.keys():\n",
    "        print(slownik[slowo])\n",
    "    else:\n",
    "        if slowo == '':\n",
    "            break\n",
    "        else:\n",
    "            pytanie = input('Słowo jest nieznane. Czy chcesz je dodać? [tak/nie]: ')\n",
    "            if pytanie == 'tak':\n",
    "                tlumaczenie = input('Wpisz tłumaczenie tego słowa: ')\n",
    "                slownik.update({slowo: tlumaczenie})\n",
    "                print(f'Słowo {slowo} zostało dodane do słownika.')\n",
    "            elif pytanie == 'nie':\n",
    "                print(f'Słowo {slowo} nie zostanie dodane.')\n",
    "            else:\n",
    "                break"
   ]
  },
  {
   "cell_type": "markdown",
   "metadata": {},
   "source": [
    "Zadanie 3.3.7\n",
    "\n",
    "Napisz funkcję grupuj_wedlug_typow, która:\n",
    "\n",
    "• przyjmuje dowolną liczbę argumentów pozycyjnych (*args);\\\n",
    "• grupuje te argumenty według ich typów;\\\n",
    "• zwraca wynik w postaci słownika, gdzie kluczami są nazwy typów, a wartościami listy elementów danego typu;\\\n",
    "• obsługuje również typy złożone, takie jak lista, słownik, czy zbiór."
   ]
  },
  {
   "cell_type": "code",
   "execution_count": 242,
   "metadata": {},
   "outputs": [
    {
     "name": "stdout",
     "output_type": "stream",
     "text": [
      "int\n",
      "1\n",
      "str\n",
      "tekst\n",
      "list\n",
      "[1, 2]\n",
      "dict\n",
      "{'klucz': 'wartosc'}\n",
      "set\n",
      "{1, 2, 3}\n",
      "float\n",
      "3.14\n",
      "int\n",
      "29\n"
     ]
    },
    {
     "data": {
      "text/plain": [
       "{'int': [1, 29],\n",
       " 'str': ['tekst'],\n",
       " 'list': [[1, 2]],\n",
       " 'dict': [{'klucz': 'wartosc'}],\n",
       " 'set': [{1, 2, 3}],\n",
       " 'float': [3.14]}"
      ]
     },
     "execution_count": 242,
     "metadata": {},
     "output_type": "execute_result"
    }
   ],
   "source": [
    "def grupuj_wedlug_typow(*args):\n",
    "    slownik = {}\n",
    "    for arg in args:\n",
    "        typ = type(arg).__name__\n",
    "        if typ not in slownik.keys():\n",
    "            slownik[typ] = []\n",
    "        slownik[typ].append(arg)\n",
    "    return slownik\n",
    "\n",
    "grupuj_wedlug_typow(1, \"tekst\", [1, 2], {\"klucz\": \"wartosc\"}, {1, 2, 3}, 3.14, 29)"
   ]
  },
  {
   "cell_type": "code",
   "execution_count": null,
   "metadata": {},
   "outputs": [],
   "source": []
  }
 ],
 "metadata": {
  "kernelspec": {
   "display_name": "Python 3 (ipykernel)",
   "language": "python",
   "name": "python3"
  },
  "language_info": {
   "codemirror_mode": {
    "name": "ipython",
    "version": 3
   },
   "file_extension": ".py",
   "mimetype": "text/x-python",
   "name": "python",
   "nbconvert_exporter": "python",
   "pygments_lexer": "ipython3",
   "version": "3.10.9"
  }
 },
 "nbformat": 4,
 "nbformat_minor": 2
}
