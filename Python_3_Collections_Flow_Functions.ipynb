{
 "cells": [
  {
   "cell_type": "markdown",
   "metadata": {},
   "source": [
    "Zadanie 1.1.1.\n",
    "\n",
    "Uzupełnij brakujące elementy - wypełnij ????? w poniższym kodzie:\n",
    "\n",
    "my_list = ?????\n",
    "\n",
    "my_list.?????(\"Python\")\\\n",
    "my_list.?????(\"is ok\")\\\n",
    "my_list.?????(\"sometimes\")\n",
    "\n",
    "my_list.?????(\"sometimes\")\n",
    "\n",
    "my_list[?????] = \"is neat\""
   ]
  },
  {
   "cell_type": "code",
   "execution_count": 5,
   "metadata": {},
   "outputs": [
    {
     "name": "stdout",
     "output_type": "stream",
     "text": [
      "['is neat', 'Python']\n"
     ]
    }
   ],
   "source": [
    "my_list = []\n",
    "\n",
    "my_list.append('Python')\n",
    "my_list.append('is ok')\n",
    "my_list.append('sometimes')\n",
    "\n",
    "my_list.remove('sometimes')\n",
    "\n",
    "my_list[1] = 'is neat'\n",
    "my_list.reverse()\n",
    "print(my_list)\n",
    "\n",
    "assert my_list == ['is neat', 'Python']"
   ]
  },
  {
   "cell_type": "markdown",
   "metadata": {},
   "source": [
    "Zadanie 1.1.2.\n",
    "\n",
    "Utwórz nową listę bez modyfikowania oryginalnej."
   ]
  },
  {
   "cell_type": "code",
   "execution_count": 51,
   "metadata": {},
   "outputs": [
    {
     "name": "stdout",
     "output_type": "stream",
     "text": [
      "['I', 'am', 'learning', 'hacking', 'in']\n",
      "['I', 'am', 'learning', 'lists', 'in', 'Python']\n"
     ]
    }
   ],
   "source": [
    "original = ['I', 'am', 'learning', 'hacking', 'in']\n",
    "\n",
    "modified = original[:]\n",
    "# modified = original.copy()\n",
    "# modified = [*original, 'Python']\n",
    "modified[3] = 'lists'\n",
    "modified.append('Python')\n",
    "print(original)\n",
    "print(modified)\n",
    "\n",
    "assert original == ['I', 'am', 'learning', 'hacking', 'in']\n",
    "assert modified == ['I', 'am', 'learning', 'lists', 'in', 'Python']"
   ]
  },
  {
   "cell_type": "markdown",
   "metadata": {},
   "source": [
    "Zadanie 1.1.3.\n",
    "\n",
    "Z istniejącej listy usuń Ducati jako zbyt drogi model. Napisz odpowiedni komentarz i wyświetl zmodyfikowaną listę."
   ]
  },
  {
   "cell_type": "code",
   "execution_count": 14,
   "metadata": {},
   "outputs": [
    {
     "name": "stdout",
     "output_type": "stream",
     "text": [
      "Motocykl Ducati jest zbyt drogi dla mnie.\n",
      "['honda', 'yamaha', 'suzuki']\n"
     ]
    }
   ],
   "source": [
    "motorcycles = ['honda', 'yamaha', 'suzuki', 'ducati']\n",
    "\n",
    "too_expensive = 'ducati'\n",
    "print(f'Motocykl {motorcycles.pop(motorcycles.index(too_expensive)).title()} jest zbyt drogi dla mnie.')\n",
    "print(motorcycles)"
   ]
  },
  {
   "cell_type": "markdown",
   "metadata": {},
   "source": [
    "Zadanie 1.1.4.\n",
    "\n",
    "Utwórz połączoną posortowaną listę."
   ]
  },
  {
   "cell_type": "code",
   "execution_count": 29,
   "metadata": {},
   "outputs": [
    {
     "name": "stdout",
     "output_type": "stream",
     "text": [
      "[14, 12, 6.2, 6, 5, 1, 0.9, 0]\n"
     ]
    }
   ],
   "source": [
    "list1 = [6, 12, 5]\n",
    "list2 = [6.2, 0, 14, 1]\n",
    "list3 = [0.9]\n",
    "\n",
    "my_list = sorted([*list1, *list2, *list3], reverse=True)\n",
    "# my_list = [*list1, *list2, *list3]\n",
    "# my_list.sort(reverse=True)\n",
    "print(my_list)\n",
    "\n",
    "assert my_list == [14, 12, 6.2, 6, 5, 1, 0.9, 0]"
   ]
  },
  {
   "cell_type": "markdown",
   "metadata": {},
   "source": [
    "Zadanie 1.2.1.\n",
    "\n",
    "Utwórz słownik, korzystając ze wszystkich podanych zmiennych."
   ]
  },
  {
   "cell_type": "code",
   "execution_count": 30,
   "metadata": {},
   "outputs": [
    {
     "name": "stdout",
     "output_type": "stream",
     "text": [
      "{'name': 'John Doe', 'age': 82, 'hobbies': ['Python', 'gym']}\n"
     ]
    }
   ],
   "source": [
    "first_name = 'John'\n",
    "last_name = 'Doe'\n",
    "favorite_hobby = 'Python'\n",
    "sports_hobby = 'gym'\n",
    "age = 82\n",
    "\n",
    "my_dict = {\n",
    "    'name': f'{first_name} {last_name}',\n",
    "    'age': age,\n",
    "    'hobbies': [favorite_hobby, sports_hobby]\n",
    "    }\n",
    "print(my_dict)\n",
    "\n",
    "assert my_dict == {'name': 'John Doe', 'age': 82, 'hobbies': ['Python', 'gym']}"
   ]
  },
  {
   "cell_type": "markdown",
   "metadata": {},
   "source": [
    "Zadanie 1.2.2.\n",
    "\n",
    "Wykorzystaj dict1, dict2 i dict3, aby utworzyć my_dict. Dodatkowo pobierz wartość special_key z my_dict do zmiennej special_value. Pamiętaj, że oryginalne słowniki powinny pozostać niezmienione, a klucz specjalny powinien zostać usunięty z my_dict."
   ]
  },
  {
   "cell_type": "code",
   "execution_count": 31,
   "metadata": {},
   "outputs": [
    {
     "name": "stdout",
     "output_type": "stream",
     "text": [
      "{'key1': 123, 'key2': 456, 'keyX': 'X'}\n",
      "secret\n"
     ]
    }
   ],
   "source": [
    "dict1 = dict(key1 = 'This is not that hard', key2 = 'Python is still cool')\n",
    "dict2 = {'key1': 123, 'special_key': 'secret'}\n",
    "dict3 = dict([('key2', 456), ('keyX', 'X')])\n",
    "\n",
    "my_dict = {**dict1, **dict2, **dict3}\n",
    "special_value = my_dict.pop('special_key')\n",
    "print(my_dict)\n",
    "print(special_value)\n",
    "\n",
    "assert my_dict == {'key1': 123, 'key2': 456, 'keyX': 'X'}\n",
    "assert special_value == 'secret'\n",
    "\n",
    "assert dict1 == {'key1': 'This is not that hard', 'key2': 'Python is still cool'}\n",
    "assert dict2 == {'key1': 123, 'special_key': 'secret'}\n",
    "assert dict3 == {'key2': 456, 'keyX': 'X'}"
   ]
  },
  {
   "cell_type": "markdown",
   "metadata": {},
   "source": [
    "Zadanie 1.3.1.\n",
    "\n",
    "Uzupełnij brakujące elementy ????? w poniższym kodzie tak, aby uzyskać poprawny wynik.\n",
    "\n",
    "name = \"John Wayne\"\n",
    "\n",
    "if ?????:\\\n",
    "print(f'Name \"{name}\" is more than 20 chars long.')\\\n",
    "length_description = \"long\"\\\n",
    "elif ?????:\\\n",
    "print(f'Name \"{name}\" is more than 15 chars long.')\\\n",
    "length_description = \"semi long\"\\\n",
    "elif ?????:\\\n",
    "print(f'Name \"{name}\" is more than 10 chars long.')\\\n",
    "length_description = \"semi long\"\\\n",
    "elif ?????:\\\n",
    "print(f'Name \"{name}\" is 8, 9 or 10 chars long.')\\\n",
    "length_description = \"semi short\"\\\n",
    "else:\\\n",
    "print(f'Name \"{name}\" is a short name.')\\\n",
    "length_description = \"short\""
   ]
  },
  {
   "cell_type": "code",
   "execution_count": 58,
   "metadata": {},
   "outputs": [
    {
     "name": "stdout",
     "output_type": "stream",
     "text": [
      "Enter a name: John Wayne\n",
      "Name \"John Wayne\" is 8, 9 or 10 chars long.\n"
     ]
    }
   ],
   "source": [
    "name = str(input('Enter a name: '))\n",
    "\n",
    "if len(name) - name.count(' ') > 20:\n",
    "    print(f'Name \"{name}\" is more than 20 chars long.')\n",
    "    length_description = \"long\"\n",
    "elif len(name) - name.count(' ') > 15:\n",
    "    print(f'Name \"{name}\" is more than 15 chars long.')\n",
    "    length_description = \"semi long\"\n",
    "elif len(name) - name.count(' ') > 10:\n",
    "    print(f'Name \"{name}\" is more than 10 chars long.')\n",
    "    length_description = \"semi long\"\n",
    "elif len(name) - name.count(' ') <= 10 and len(name) - name.count(' ') >= 8:\n",
    "    # elif len(name) - name.count(' ') in range (8, 11)\n",
    "    # elif 8 <= len(name) - name.count(' ') <= 10\n",
    "    print(f'Name \"{name}\" is 8, 9 or 10 chars long.')\n",
    "    length_description = \"semi short\"\n",
    "else:\n",
    "    print(f'Name \"{name}\" is a short name.')\n",
    "    length_description = \"short\""
   ]
  },
  {
   "cell_type": "markdown",
   "metadata": {},
   "source": [
    "Zadanie 1.3.2.\n",
    "\n",
    "Uzupełnij brakujące elementy ????? w poniższym kodzie tak, aby uzyskać poprawny wynik:\n",
    "\n",
    "words = [\"PYTHON\", \"JOHN\", \"chEEse\", \"hAm\", \"DOE\", \"123\"]\\\n",
    "upper_case_words = []\n",
    "\n",
    "for ????? in words:\\\n",
    "&emsp;if ?????.isupper():\\\n",
    "&emsp;&emsp;?????.append(?????)"
   ]
  },
  {
   "cell_type": "code",
   "execution_count": 19,
   "metadata": {},
   "outputs": [
    {
     "name": "stdout",
     "output_type": "stream",
     "text": [
      "['PYTHON', 'JOHN', 'DOE']\n"
     ]
    }
   ],
   "source": [
    "words = ['PYTHON', 'JOHN', 'chEEse', 'hAm', 'DOE', '123']\n",
    "upper_case_words = []\n",
    "\n",
    "for word in words:\n",
    "    if word.isupper():\n",
    "        upper_case_words.append(word)\n",
    "# upper_case_words = [word for word in words if word.isupper()]\n",
    "# upper_case_words = [word if word.isupper() else 1 for word in words]\n",
    "print(upper_case_words)\n",
    "\n",
    "assert upper_case_words == ['PYTHON', 'JOHN', 'DOE']"
   ]
  },
  {
   "cell_type": "markdown",
   "metadata": {},
   "source": [
    "Zadanie 1.3.3.\n",
    "\n",
    "Oblicz sumę wartości w magic_dict, biorąc pod uwagę tylko wartości numeryczne."
   ]
  },
  {
   "cell_type": "code",
   "execution_count": 20,
   "metadata": {},
   "outputs": [
    {
     "name": "stdout",
     "output_type": "stream",
     "text": [
      "100.0\n"
     ]
    }
   ],
   "source": [
    "magic_dict = dict(val1 = 44, val2 = 'secretvalue', val3 = 55.0, val4 = 1)\n",
    "\n",
    "sum_of_values = 0\n",
    "for value in magic_dict.values():\n",
    "    if isinstance(value, (int, float)):\n",
    "        sum_of_values += value\n",
    "# for key in magic_dict.keys()\n",
    "# sum_of_values = sum([magic_dict[key] for key in magic_dict.keys() if isinstance(magic_dict[key], (int, float))])\n",
    "print(sum_of_values)\n",
    "\n",
    "assert sum_of_values == 100"
   ]
  },
  {
   "cell_type": "markdown",
   "metadata": {},
   "source": [
    "Zadanie 1.3.4.\n",
    "\n",
    "Utwórz listę wyrazów na podstawie listy liczb.\\\n",
    "Zasady:\n",
    "\n",
    "• jeśli liczba jest wielokrotnością pięciu i jest nieparzysta, wyraz powinien mieć wartość ’five\n",
    "odd’;\\\n",
    "• jeśli liczba jest wielokrotnością pięciu i parzystą, wyraz powinien być ’five even’;\\\n",
    "• jeśli liczba jest nieparzysta, ciąg znaków jest ’odd’;\\\n",
    "• jeśli liczba jest parzysta, ciąg znaków jest ’even’.\n"
   ]
  },
  {
   "cell_type": "code",
   "execution_count": 34,
   "metadata": {},
   "outputs": [
    {
     "name": "stdout",
     "output_type": "stream",
     "text": [
      "['odd', 'odd', 'even', 'even', 'odd', 'five even', 'five even', 'five odd']\n"
     ]
    }
   ],
   "source": [
    "numbers = [1, 3, 4, 6, 81, 80, 100, 95]\n",
    "\n",
    "my_list = []\n",
    "for number in numbers:\n",
    "    if number % 5 == 0 and number % 2 == 1:\n",
    "        my_list.append('five odd')\n",
    "    elif number % 5 == 0 and number % 2 == 0:\n",
    "        my_list.append('five even')\n",
    "    elif number % 2 == 1:\n",
    "        my_list.append('odd')\n",
    "    elif number % 2 == 0:\n",
    "        my_list.append('even')\n",
    "print(my_list)\n",
    "\n",
    "assert my_list == [\n",
    "    \"odd\",\n",
    "    \"odd\",\n",
    "    \"even\",\n",
    "    \"even\",\n",
    "    \"odd\",\n",
    "    \"five even\",\n",
    "    \"five even\",\n",
    "    \"five odd\",\n",
    "    ]"
   ]
  },
  {
   "cell_type": "markdown",
   "metadata": {},
   "source": [
    "Zadanie 1.4.1.\n",
    "\n",
    "Wypełnij brakujące fragmenty ????? funkcji count_even_numbers.\\\n",
    "Można założyć, że argument numbers jest listą liczb całkowitych.\n",
    "\n",
    "????? count_even_numbers(numbers):\\\n",
    "&emsp;count = 0\\\n",
    "&emsp;for num in ?????:\\\n",
    "&emsp;&emsp;if ????? % 2 == ?????:\\\n",
    "&emsp;&emsp;&emsp;count += ?????\\\n",
    "&emsp;????? ?????"
   ]
  },
  {
   "cell_type": "code",
   "execution_count": 42,
   "metadata": {},
   "outputs": [],
   "source": [
    "def count_even_numbers(numbers):\n",
    "    count = 0\n",
    "    for num in numbers:\n",
    "        if num % 2 == 0:\n",
    "            count += 1\n",
    "    return count\n",
    "\n",
    "assert count_even_numbers([1, 2, 3, 4, 5, 6]) == 3\n",
    "assert count_even_numbers([1, 3, 5, 7]) == 0\n",
    "assert count_even_numbers([-2, 2, -10, 8]) == 4"
   ]
  },
  {
   "cell_type": "markdown",
   "metadata": {},
   "source": [
    "Zadanie 1.4.2.\n",
    "\n",
    "Zaimplementuj funkcję find_wanted_people, która jako argument przyjmuje listę nazw (ciągów znaków). Funkcja powinna zwrócić listę nazw, które występują zarówno w WANTED_PEOPLE, jak i na liście nazw podanej jako argument funkcji."
   ]
  },
  {
   "cell_type": "code",
   "execution_count": 52,
   "metadata": {},
   "outputs": [
    {
     "name": "stdout",
     "output_type": "stream",
     "text": [
      "['Clint Eastwood', 'John Doe']\n",
      "2\n",
      "[]\n"
     ]
    }
   ],
   "source": [
    "WANTED_PEOPLE = ['John Doe', 'Clint Eastwood', 'Chuck Norris']\n",
    "\n",
    "def find_wanted_people(szukaj = 'people_to_check'):\n",
    "    wanted = []\n",
    "    for people in szukaj:\n",
    "        if people in WANTED_PEOPLE:\n",
    "            wanted.append(people)\n",
    "    return wanted\n",
    "    pass\n",
    "\n",
    "people_to_check1 = ['Donald Duck', 'Clint Eastwood', 'John Doe', 'Barack Obama']\n",
    "wanted1 = find_wanted_people(people_to_check1)\n",
    "print(wanted1)\n",
    "print(len(wanted1))\n",
    "assert len(wanted1) == 2\n",
    "assert 'John Doe' in wanted1\n",
    "assert 'Clint Eastwood' in wanted1\n",
    "\n",
    "people_to_check2 = ['Donald Duck', 'Mickey Mouse', 'Zorro', 'Superman', 'Robin Hood']\n",
    "wanted2 = find_wanted_people(people_to_check2)\n",
    "print(wanted2)\n",
    "assert wanted2 == []"
   ]
  },
  {
   "cell_type": "markdown",
   "metadata": {},
   "source": [
    "Zadanie 1.4.3.\n",
    "\n",
    "Utwórz funkcję average_length_of_words, która przyjmuje ciąg znaków jako argument i zwraca średnią długość słów w ciągu. Można założyć, że pomiędzy każdym słowem występuje pojedyncza spacja i że dane wejściowe nie zawierają znaków interpunkcyjnych. Wynik należy zaokrąglić do jednego miejsca po przecinku."
   ]
  },
  {
   "cell_type": "code",
   "execution_count": 57,
   "metadata": {},
   "outputs": [
    {
     "name": "stdout",
     "output_type": "stream",
     "text": [
      "['only', 'four', 'lett', 'erwo', 'rdss']\n",
      "['one', 'two', 'three']\n",
      "['one', 'two', 'three', 'four']\n",
      "['']\n"
     ]
    }
   ],
   "source": [
    "def average_length_of_words(tekst):\n",
    "    slowa = tekst.split(' ')\n",
    "    lenght = 0\n",
    "    print(slowa)\n",
    "    for slowo in slowa:\n",
    "        lenght += len(slowo)\n",
    "    return round(lenght / len(slowa), 1)\n",
    "    pass\n",
    "\n",
    "assert average_length_of_words('only four lett erwo rdss') == 4\n",
    "assert average_length_of_words('one two three') == 3.7\n",
    "assert average_length_of_words('one two three four') == 3.8\n",
    "assert average_length_of_words('') == 0"
   ]
  },
  {
   "cell_type": "markdown",
   "metadata": {},
   "source": [
    "Zadanie 2.1.\n",
    "\n",
    "Napisz kod który ocenia studentów według poniższych wartości, a następnie wyświetl czy student zdał czy nie, oraz jaką ocenę uzyskał. Na wejściu programu powinna być wartość pobrana od użytkownika.\n",
    "\n",
    "System oceniania:\\\n",
    "90-100, 5.0\\\n",
    "75-89, 4.5\\\n",
    "65-75, 4.0\\\n",
    "60-65, 3.5\\\n",
    "50-57, 3.0\\\n",
    "0-49, 2.0\n",
    "\n",
    "Przykładowy output:\\\n",
    "Liczba punktów: 53\\\n",
    "Uzyskana ocena: 3.5\\\n",
    "Student zaliczył zadanie."
   ]
  },
  {
   "cell_type": "code",
   "execution_count": null,
   "metadata": {},
   "outputs": [
    {
     "name": "stdout",
     "output_type": "stream",
     "text": [
      "Liczba punktów: 92\n",
      "Uzyskana ocena: 5.0\n",
      "Student zaliczył zadanie.\n"
     ]
    }
   ],
   "source": [
    "punkty = int(input('Podaj liczbę punktów: '))\n",
    "\n",
    "if 90 <= punkty <= 100:\n",
    "    print(f'Liczba punktów: {punkty}')\n",
    "    print(f'Uzyskana ocena: 5.0')\n",
    "    print(f'Student zaliczył zadanie.')\n",
    "elif 75 <= punkty <= 89:\n",
    "    print(f'Liczba punktów: {punkty}')\n",
    "    print(f'Uzyskana ocena: 4.5')\n",
    "    print(f'Student zaliczył zadanie.')\n",
    "elif 65 <= punkty <= 74:\n",
    "    print(f'Liczba punktów: {punkty}')\n",
    "    print(f'Uzyskana ocena: 4.0')\n",
    "    print(f'Student zaliczył zadanie.')\n",
    "elif 60 <= punkty <= 64:\n",
    "    print(f'Liczba punktów: {punkty}')\n",
    "    print(f'Uzyskana ocena: 3.5')\n",
    "    print(f'Student zaliczył zadanie.')\n",
    "elif 50 <= punkty <= 59:\n",
    "    print(f'Liczba punktów: {punkty}')\n",
    "    print(f'Uzyskana ocena: 3.0')\n",
    "    print(f'Student zaliczył zadanie.')\n",
    "else:\n",
    "    print(f'Liczba punktów: {punkty}')\n",
    "    print(f'Uzyskana ocena: 2.0')\n",
    "    print(f'Student nie zaliczył zadania.')"
   ]
  },
  {
   "cell_type": "code",
   "execution_count": 24,
   "metadata": {},
   "outputs": [
    {
     "name": "stdout",
     "output_type": "stream",
     "text": [
      "Podaj liczbę punktów: 92\n",
      "Liczba punktów: 92\n",
      "Uzyskana ocena: 5.0\n",
      "Student zaliczył zadanie.\n"
     ]
    }
   ],
   "source": [
    "score = {\n",
    "    (90, 100): 5.0,\n",
    "    (75, 89): 4.5,\n",
    "    (65, 74): 4.0,\n",
    "    (60, 64): 3.5,\n",
    "    (50, 59): 3.0,\n",
    "    (0, 49): 2.0\n",
    "}\n",
    "punkty = int(input('Podaj liczbę punktów: '))\n",
    "ocena = None\n",
    "for przedzial, ocena_wynik in score.items():\n",
    "    if przedzial[0] <= punkty <= przedzial[1]:\n",
    "        ocena = ocena_wynik\n",
    "        break\n",
    "print(f'Liczba punktów: {punkty}')\n",
    "print(f'Uzyskana ocena: {ocena}')\n",
    "if ocena >= 3.0:\n",
    "    print(f'Student zaliczył zadanie.')\n",
    "else:\n",
    "    print(f'Student nie zaliczył zadania.')"
   ]
  },
  {
   "cell_type": "markdown",
   "metadata": {},
   "source": [
    "Zadanie 2.2.\n",
    "\n",
    "Pobierz od użytkownika miesiąc, a następnie wyświetl jaka to pora roku.\n",
    "\n",
    "Przykładowy input:\\\n",
    "Wprowadź miesiąc: październik\n",
    "\n",
    "Przykładowy output:\\\n",
    "Pora roku dla miesiąca październik: jesień"
   ]
  },
  {
   "cell_type": "code",
   "execution_count": 18,
   "metadata": {},
   "outputs": [
    {
     "name": "stdout",
     "output_type": "stream",
     "text": [
      "Wprowadż miesiąc: październik\n",
      "Pora roku dla miesiąca październik: jesień\n"
     ]
    }
   ],
   "source": [
    "month = (input('Wprowadż miesiąc: '))\n",
    "\n",
    "seasons = {\n",
    "    ('1', '2', '12', 'styczeń', 'luty', 'grudzień'): 'zima',\n",
    "    ('3', '4', '5', 'marzec', 'kwieceń', 'maj'): 'wiosna',\n",
    "    ('6', '7', '8', 'czerwiec', 'lipiec', 'sierpień'): 'lato',\n",
    "    ('9', '10', '11', 'wrzesień', 'październik', 'listopad'): 'jesień'\n",
    "    }\n",
    "season = None\n",
    "for key, value in seasons.items():\n",
    "    if month in key:\n",
    "        season = value\n",
    "        print(f'Pora roku dla miesiąca {month}: {season}')\n",
    "if season == None:\n",
    "    print(f'Nie ma takiego miesiąca \"{month}\"!')"
   ]
  },
  {
   "cell_type": "markdown",
   "metadata": {},
   "source": [
    "Zadanie 2.3.\n",
    "\n",
    "Zainicjalizuj listę zawierającą więcej niż 5 elementów z różnymi typami danych. Następnie wyświetl jej długość, pierwszy, środkowy oraz ostatni element. Następnie dodaj jeden element na początku oraz na końcu listy oraz wyświetl listę przed i po modyfikacji."
   ]
  },
  {
   "cell_type": "code",
   "execution_count": 19,
   "metadata": {},
   "outputs": [
    {
     "name": "stdout",
     "output_type": "stream",
     "text": [
      "5\n",
      "tekst\n",
      "1.5\n",
      "[0]\n",
      "['tekst', 1, 1.5, True, [0]]\n",
      "['Pierwszy', 'tekst', 1, 1.5, True, [0], 'Ostatni']\n"
     ]
    }
   ],
   "source": [
    "lista = ['tekst', 1, 1.5, True, [0]]\n",
    "\n",
    "print(len(lista))\n",
    "print(lista[0])\n",
    "print(lista[len(lista) // 2])\n",
    "print(lista[-1])\n",
    "\n",
    "print(lista)\n",
    "lista.insert(0, 'Pierwszy')\n",
    "lista.append('Ostatni')\n",
    "print(lista)"
   ]
  },
  {
   "cell_type": "markdown",
   "metadata": {},
   "source": [
    "Zadanie 2.4.\n",
    "\n",
    "Stwórz listę liczb od 1 do 10 włącznie, następnie posortuj ją malejąco. Pierwsze pięć elementów przypisz do nowej listy, następnie usuń z nowej listy element środkowy oraz posortuj rosnąco. Wyświetl listę po każdej modyfikacji. Dodatkowo sprawdź czy istnieje element o wartości 8, w jednej i drugiej liście, wyświetlając stosowny komunikat w przypadku jego istnienia, bądź braku. Na końcu usuń obie listy."
   ]
  },
  {
   "cell_type": "code",
   "execution_count": 39,
   "metadata": {},
   "outputs": [
    {
     "name": "stdout",
     "output_type": "stream",
     "text": [
      "[1, 2, 3, 4, 5, 6, 7, 8, 9, 10]\n",
      "[10, 9, 8, 7, 6, 5, 4, 3, 2, 1]\n",
      "[10, 9, 8, 7, 6]\n",
      "[10, 9, 7, 6]\n",
      "[6, 7, 9, 10]\n",
      "W pierwszej liście występuje element \"8\".\n",
      "W nowej liście nie występuje element \"8\".\n"
     ]
    }
   ],
   "source": [
    "my_list = list(range(1, 11))\n",
    "# my_list = [x for x in range(1, 11)]\n",
    "\n",
    "print(my_list)\n",
    "my_list.sort(reverse=True)\n",
    "print(my_list)\n",
    "new_list = my_list[:5]\n",
    "print(new_list)\n",
    "new_list.remove(new_list[len(new_list) // 2])\n",
    "print(new_list)\n",
    "new_list.sort()\n",
    "print(new_list)\n",
    "element = 8\n",
    "if element in my_list:\n",
    "    print(f'W pierwszej liście występuje element \"{element}\".')\n",
    "else:\n",
    "    print(f'W pierwszej liście nie występuje element \"{element}\".')\n",
    "if element in new_list:\n",
    "    print(f'W nowej liście występuje element \"{element}\".')\n",
    "else:\n",
    "    print(f'W nowej liście nie występuje element \"{element}\".')\n",
    "del my_list\n",
    "del new_list"
   ]
  },
  {
   "cell_type": "markdown",
   "metadata": {},
   "source": [
    "Zadanie 2.5.\n",
    "\n",
    "Pobierz od użytkownika trzy wartości, dwie liczbowe oraz trzecią w formie string. Następnie stwórz prosty kalkulator, który będzie przyjmował podstawowe operacje arytmetyczne to jest dodawanie, odejmowanie, możenie oraz dzielenie (+, -, *, /).\n",
    "\n",
    "Program powinien wyświetlać wynik w poniższej postaci:\\\n",
    "Działanie: 2 + 4\\\n",
    "Wynik: 6"
   ]
  },
  {
   "cell_type": "code",
   "execution_count": 27,
   "metadata": {},
   "outputs": [
    {
     "name": "stdout",
     "output_type": "stream",
     "text": [
      "Podaj pierwszą liczbę: 2\n",
      "Podaj drugą liczbę: 4\n",
      "Podaj symbol działania: +\n",
      "Działanie: 2 + 4\n",
      "Wynik: 6\n"
     ]
    }
   ],
   "source": [
    "x = int(input('Podaj pierwszą liczbę: '))\n",
    "y = int(input('Podaj drugą liczbę: '))\n",
    "dzialanie = str(input('Podaj symbol działania (+, -, *, /): '))\n",
    "\n",
    "if dzialanie == '+':\n",
    "    print(f'Działanie: {x} {dzialanie} {y}')\n",
    "    print(f'Wynik: {x + y}')\n",
    "elif dzialanie == '-':\n",
    "    print(f'Działanie: {x} {dzialanie} {y}')\n",
    "    print(f'Wynik: {x - y}')\n",
    "    wynik = x - y\n",
    "elif dzialanie == '*':\n",
    "    print(f'Działanie: {x} {dzialanie} {y}')\n",
    "    print(f'Wynik: {x * y}')\n",
    "    wynik = x * y\n",
    "elif dzialanie == '/':\n",
    "    try:\n",
    "        print(f'Działanie: {x} {dzialanie} {y}')\n",
    "        print(f'Wynik: {x / y}')\n",
    "    except ZeroDivisionError:\n",
    "        print('Błąd: nie można dzielić przez zero.')\n",
    "else:\n",
    "    print(f'Działanie: {x} {dzialanie} {y}')\n",
    "    print(f'Wynik: Jesteś głupi.')"
   ]
  },
  {
   "cell_type": "code",
   "execution_count": 36,
   "metadata": {},
   "outputs": [
    {
     "name": "stdout",
     "output_type": "stream",
     "text": [
      "Podaj liczbę: 2\n",
      "Podaj liczbę: 4\n",
      "Podaj symbol działania (+, -, *, /): +\n",
      "Działanie: 2 + 4\n",
      "Wynik: 6\n"
     ]
    }
   ],
   "source": [
    "x = int(input(\"Podaj liczbę: \"))\n",
    "y = int(input(\"Podaj liczbę: \"))\n",
    "dzialanie = input('Podaj symbol działania (+, -, *, /): ')\n",
    "\n",
    "lista = ['*', '/', '+', '-']\n",
    "if dzialanie in lista:\n",
    "    try:\n",
    "        expression = f'{x} {dzialanie} {y}'\n",
    "        result = eval(expression)\n",
    "        print(f'Działanie: {x} {dzialanie} {y}')\n",
    "        print(f'Wynik: {result}')\n",
    "    except ZeroDivisionError:\n",
    "        print('Błąd: nie można dzielić przez zero.')\n",
    "else:\n",
    "    print('Nieprawidłowy operator.')"
   ]
  },
  {
   "cell_type": "markdown",
   "metadata": {},
   "source": [
    "Zadanie 2.6.\n",
    "\n",
    "Przerób powyższy program tak, aby zamiast pobierać od użytkownika trzy wartości, pobierać całe działanie w jednej linii."
   ]
  },
  {
   "cell_type": "code",
   "execution_count": 38,
   "metadata": {},
   "outputs": [
    {
     "name": "stdout",
     "output_type": "stream",
     "text": [
      "Podaj pełne działanie: 2 + 4\n",
      "Działanie: 2 + 4\n",
      "Wynik: 6.0\n"
     ]
    }
   ],
   "source": [
    "dzialanie = input('Podaj pełne działanie: ')\n",
    "\n",
    "lista = dzialanie.split()\n",
    "x = float(lista[0])\n",
    "y = float(lista[2])\n",
    "operat = lista[1]\n",
    "dzialania = {\n",
    "    \"+\": x + y,\n",
    "    \"*\": x * y,\n",
    "    \"-\": x - y,\n",
    "    \"/\": x / y,\n",
    "    }\n",
    "wynik = [value for key, value in dzialania.items() if operat in key][0]\n",
    "print(f'Działanie: {dzialanie}')\n",
    "print(f'Wynik: {wynik}')"
   ]
  },
  {
   "cell_type": "markdown",
   "metadata": {},
   "source": [
    "Zadanie 2.7.\n",
    "\n",
    "Przefiltruj poniższą listę liczb korzystając z list comprehension, w taki sposób, aby odfiltrować liczby ujemne oraz zero."
   ]
  },
  {
   "cell_type": "code",
   "execution_count": 23,
   "metadata": {},
   "outputs": [
    {
     "name": "stdout",
     "output_type": "stream",
     "text": [
      "[3, 6, 9, 12]\n"
     ]
    }
   ],
   "source": [
    "list = [-4, -3, -2, -1, 0, 3, 6, 9, 12]\n",
    "print([value for value in list if value > 0])"
   ]
  },
  {
   "cell_type": "markdown",
   "metadata": {},
   "source": [
    "Zadanie 2.8.\n",
    "\n",
    "Używając list comprehension utwórz następującą listę krotek:\n",
    "\n",
    "[(0, 1, 0, 0, 0), (1, 1, 1, 1, 1), (2, 1, 2, 4, 8), (3, 1, 3, 9, 27), (4, 1, 4, 16, 64), (5, 1, 5, 25, 125), (6, 1, 6, 36, 216), (7, 1, 7, 49, 343), (8, 1, 8, 64, 512), (9, 1, 9, 81, 729), (10, 1, 10, 100, 1000)]"
   ]
  },
  {
   "cell_type": "code",
   "execution_count": 40,
   "metadata": {},
   "outputs": [
    {
     "name": "stdout",
     "output_type": "stream",
     "text": [
      "[(0, 1, 0, 0, 0), (1, 1, 1, 1, 1), (2, 1, 2, 4, 8), (3, 1, 3, 9, 27), (4, 1, 4, 16, 64), (5, 1, 5, 25, 125), (6, 1, 6, 36, 216), (7, 1, 7, 49, 343), (8, 1, 8, 64, 512), (9, 1, 9, 81, 729), (10, 1, 10, 100, 1000)]\n"
     ]
    }
   ],
   "source": [
    "tuple = [(x, x**0, x**1, x**2, x**3) for x in range(11)]\n",
    "print(tuple)"
   ]
  },
  {
   "cell_type": "markdown",
   "metadata": {},
   "source": [
    "Zadanie 2.9.\n",
    "\n",
    "Poniższą listę przekształć na zbiór i porównaj długość listy i zbioru, a następnie wyświetl który jest większy:\n",
    "\n",
    "list = [22, 19, 24, 25, 26, 24, 25, 24]"
   ]
  },
  {
   "cell_type": "code",
   "execution_count": 27,
   "metadata": {},
   "outputs": [
    {
     "name": "stdout",
     "output_type": "stream",
     "text": [
      "Długość listy: 8, długość zbioru: 5\n",
      "[22, 19, 24, 25, 26, 24, 25, 24]\n"
     ]
    }
   ],
   "source": [
    "lista = [22, 19, 24, 25, 26, 24, 25, 24]\n",
    "\n",
    "zbior = set(lista)\n",
    "print(f'Długość listy: {len(lista)}, długość zbioru: {len(zbior)}')\n",
    "print(lista if len(lista) > len(zbior) else zbior)"
   ]
  },
  {
   "cell_type": "markdown",
   "metadata": {},
   "source": [
    "Zadanie 2.10.\n",
    "\n",
    "Wyświetl tabliczkę mnożenia od 1 do 10 włącznie dla liczby wprowadzonej przez użytkownika."
   ]
  },
  {
   "cell_type": "code",
   "execution_count": 41,
   "metadata": {},
   "outputs": [
    {
     "name": "stdout",
     "output_type": "stream",
     "text": [
      "Podaj liczbę do mnożenia: 12\n",
      "12 * 1 = 12\n",
      "12 * 2 = 24\n",
      "12 * 3 = 36\n",
      "12 * 4 = 48\n",
      "12 * 5 = 60\n",
      "12 * 6 = 72\n",
      "12 * 7 = 84\n",
      "12 * 8 = 96\n",
      "12 * 9 = 108\n",
      "12 * 10 = 120\n"
     ]
    }
   ],
   "source": [
    "liczba = int(input('Podaj liczbę do mnożenia: '))\n",
    "\n",
    "for x in range(1, 11):\n",
    "    print(f'{liczba} * {x} = {liczba * x}')"
   ]
  },
  {
   "cell_type": "markdown",
   "metadata": {},
   "source": [
    "Zadanie 2.11.\n",
    "\n",
    "Wykorzystaj pętlę for, aby przeiterować od 0 do 100 włącznie i wypisać sumę wszystkich liczb parzystych i sumę wszystkich liczb nieparzystych (suma wszystkich parzystych wynosi 2 550, natomiast liczb nieparzystych 2 500)."
   ]
  },
  {
   "cell_type": "code",
   "execution_count": 42,
   "metadata": {},
   "outputs": [
    {
     "name": "stdout",
     "output_type": "stream",
     "text": [
      "Suma liczb nieparzystych: 2500\n",
      "Suma liczb parzystych: 2550\n"
     ]
    }
   ],
   "source": [
    "sump = 0\n",
    "sumn = 0\n",
    "for x in range(0, 101):\n",
    "    if x % 2 == 0:\n",
    "        sump += x\n",
    "    else:\n",
    "        sumn += x\n",
    "# sumn = sum(x for x in range(101) if x % 2 == 1)\n",
    "# sump = sum(x for x in range(101) if x % 2 == 0)\n",
    "print(f'Suma liczb nieparzystych: {sumn}')\n",
    "print(f'Suma liczb parzystych: {sump}')"
   ]
  },
  {
   "cell_type": "markdown",
   "metadata": {},
   "source": [
    "Zadanie 2.12.\n",
    "\n",
    "\"Uczę się Pythona, aby móc tworzyć aplikacje. Dużą zaletą Pythona jest to, że jest bardzo zbliżony do języka angielskiego. Posiada prostą składnię, ale czasami potrafi być skomplikowany przez wysoki poziom abstrakcji. Jednak dobrze jest się nauczyć Pythona, aby dalej rozwijać się w stronę programowania.\"\n",
    "\n",
    "Ile unikalnych słów zostało użytych w zdaniu, a ile słów jest w zdaniu? Wyświetl odpowiedź."
   ]
  },
  {
   "cell_type": "code",
   "execution_count": 18,
   "metadata": {},
   "outputs": [
    {
     "name": "stdout",
     "output_type": "stream",
     "text": [
      "\n",
      "Uczę się Pythona, aby móc tworzyć aplikacje\n",
      "Liczba unikalnych słów: 7.\n",
      "Liczba słów: 7.\n",
      "\n",
      "Dużą zaletą Pythona jest to, że jest bardzo zbliżony do języka angielskiego\n",
      "Liczba unikalnych słów: 11.\n",
      "Liczba słów: 12.\n",
      "\n",
      "Posiada prostą składnię, ale czasami potrafi być skomplikowany przez wysoki poziom abstrakcji\n",
      "Liczba unikalnych słów: 12.\n",
      "Liczba słów: 12.\n",
      "\n",
      "Jednak dobrze jest się nauczyć Pythona, aby dalej rozwijać się w stronę programowania\n",
      "Liczba unikalnych słów: 12.\n",
      "Liczba słów: 13.\n"
     ]
    }
   ],
   "source": [
    "tekst = 'Uczę się Pythona, aby móc tworzyć aplikacje. Dużą zaletą Pythona jest to, że jest bardzo zbliżony do języka angielskiego. Posiada prostą składnię, ale czasami potrafi być skomplikowany przez wysoki poziom abstrakcji. Jednak dobrze jest się nauczyć Pythona, aby dalej rozwijać się w stronę programowania.'\n",
    "\n",
    "def rreplace(string: str, find: str, replace: str, n_occurences: int):\n",
    "    # given a `string`, `find` and `replace` the first `n_occurences`\n",
    "    # found from the right of the string.\n",
    "    temp = string.rsplit(find, n_occurences)\n",
    "    return replace.join(temp)\n",
    "tekst = rreplace(string = tekst, find = '.', replace = '', n_occurences = 1)\n",
    "zdania = tekst.split('. ')\n",
    "\n",
    "for zdanie in zdania:\n",
    "    print(f'\\n{zdanie}')\n",
    "    slowa = zdanie.split(' ')\n",
    "    print(f'Liczba unikalnych słów: {len(set(slowa))}.')\n",
    "    print(f'Liczba słów: {len(slowa)}.')"
   ]
  },
  {
   "cell_type": "markdown",
   "metadata": {},
   "source": [
    "Zadanie 2.13.\n",
    "\n",
    "Dodaj macierze."
   ]
  },
  {
   "cell_type": "code",
   "execution_count": 21,
   "metadata": {},
   "outputs": [
    {
     "name": "stdout",
     "output_type": "stream",
     "text": [
      "[[21, 17, 4], [10, 12, 9], [11, 13, 12]]\n"
     ]
    }
   ],
   "source": [
    "X = [\n",
    "    [12,9,3],\n",
    "    [4,5,6],\n",
    "    [7,8,3]\n",
    "    ]\n",
    "\n",
    "Y = [\n",
    "    [9,8,1],\n",
    "    [6,7,3],\n",
    "    [4,5,9]\n",
    "    ]\n",
    "\n",
    "result = []\n",
    "for wiersz in range(len(X)):\n",
    "    row = []\n",
    "    for kolumna in range(len(X[wiersz])):\n",
    "        row.append(X[wiersz][kolumna] + Y[wiersz][kolumna])\n",
    "    result.append(row)\n",
    "print(result)\n",
    "\n",
    "assert result == [[21, 17, 4], [10, 12, 9], [11, 13, 12]]"
   ]
  },
  {
   "cell_type": "markdown",
   "metadata": {},
   "source": [
    "Zadanie 2.14.\n",
    "\n",
    "Transponuj macierz."
   ]
  },
  {
   "cell_type": "code",
   "execution_count": null,
   "metadata": {},
   "outputs": [
    {
     "name": "stdout",
     "output_type": "stream",
     "text": [
      "[[12, 7, 5], [9, 3, 6]]\n"
     ]
    }
   ],
   "source": [
    "X = [\n",
    "    [12, 9],\n",
    "    [7, 3],\n",
    "    [5, 6]\n",
    "    ]\n",
    "\n",
    "result = [\n",
    "    [0, 0, 0],\n",
    "    [0, 0, 0]\n",
    "    ]\n",
    "\n",
    "for wiersz in range(len(result)):\n",
    "    row = []\n",
    "    for kolumna in range(len(result[wiersz])):\n",
    "        result[wiersz][kolumna] = X[kolumna][wiersz]\n",
    "print(result)\n",
    "\n",
    "assert result == [[12, 7, 5], [9, 3, 6]]"
   ]
  },
  {
   "cell_type": "markdown",
   "metadata": {},
   "source": [
    "Zadanie 2.15.\n",
    "\n",
    "Sprawdź czy podany wyraz jest palindromem (palindrom to ciąg znaków, który jest taki sam czytany do przodu i do tyłu). Wyświetl stosowny komunikat, a następnie przekształć program tak, aby przyjmował wyraz od użytkownika."
   ]
  },
  {
   "cell_type": "code",
   "execution_count": 17,
   "metadata": {},
   "outputs": [
    {
     "name": "stdout",
     "output_type": "stream",
     "text": [
      "Podaj wyraz: aIbohPhoBiA\n",
      "Słowo \"aIbohPhoBiA\" jest palindromem.\n"
     ]
    }
   ],
   "source": [
    "my_str = str(input('Podaj wyraz: '))\n",
    "\n",
    "if my_str.lower() == my_str[::-1].lower():\n",
    "    print(f'Słowo \"{my_str}\" jest palindromem.')\n",
    "else:\n",
    "    print(f'Słowo \"{my_str}\" nie jest palindromem.')"
   ]
  },
  {
   "cell_type": "code",
   "execution_count": 16,
   "metadata": {},
   "outputs": [
    {
     "name": "stdout",
     "output_type": "stream",
     "text": [
      "Podaj zdanie: Ino gnam jak Kajman goni\n",
      "Zdanie \"Ino gnam jak Kajman goni\" jest palindromem.\n"
     ]
    }
   ],
   "source": [
    "orig_str = str(input('Podaj zdanie: '))\n",
    "\n",
    "my_list = orig_str.split(' ')\n",
    "my_str = ''.join(my_list)\n",
    "if my_str.lower() == my_str[::-1].lower():\n",
    "    print(f'Zdanie \"{orig_str}\" jest palindromem.')\n",
    "else:\n",
    "    print(f'Zdanie \"{orig_str}\" nie jest palindromem.')"
   ]
  },
  {
   "cell_type": "markdown",
   "metadata": {},
   "source": [
    "Zadanie 2.16.\n",
    "\n",
    "Pobierz dwie wartości od użytkownika, pierwsze jest słowem, drugie znakiem, a następnie zlicz wystąpienia podanego znaku w zadanym słowie."
   ]
  },
  {
   "cell_type": "code",
   "execution_count": 71,
   "metadata": {},
   "outputs": [
    {
     "name": "stdout",
     "output_type": "stream",
     "text": [
      "Podaj wyraz: aIbohPhoBiA\n",
      "Podaj znak: a\n",
      "Znak 'a' występuje w słowie 'aIbohPhoBiA' 1 raz/y.\n"
     ]
    }
   ],
   "source": [
    "my_str = input('Podaj wyraz: ')\n",
    "my_sign = input('Podaj znak: ')\n",
    "\n",
    "ile = my_str.count(my_sign)\n",
    "# ile_wlk = my_str.lower().count(my_sign)\n",
    "print(f'Znak \"{my_sign}\" występuje w słowie \"{my_str}\" {ile} raz/y.')"
   ]
  },
  {
   "cell_type": "markdown",
   "metadata": {},
   "source": [
    "Zadanie 2.17.\n",
    "\n",
    "Sprawdź czy rok jest rokiem przestępnym oraz wyświetl stosowny komunikat (sprawdzić rok 1900)."
   ]
  },
  {
   "cell_type": "code",
   "execution_count": 43,
   "metadata": {},
   "outputs": [
    {
     "name": "stdout",
     "output_type": "stream",
     "text": [
      "Podaj rok: 1900\n",
      "Rok 1900 nie jest przestępny.\n"
     ]
    }
   ],
   "source": [
    "rok = int(input('Podaj rok: '))\n",
    "\n",
    "if rok % 4 == 0 and rok % 100 != 0 or rok % 400 == 0:\n",
    "    print(f'Rok {rok} jest przestępny.')\n",
    "else:\n",
    "    print(f'Rok {rok} nie jest przestępny.')"
   ]
  },
  {
   "cell_type": "markdown",
   "metadata": {},
   "source": [
    "Zadanie 2.18.\n",
    "\n",
    "Pobierz trzy liczby od użytkownika, następnie sprawdź która jest największa i wyświetl stosowny komunikat."
   ]
  },
  {
   "cell_type": "code",
   "execution_count": 100,
   "metadata": {
    "scrolled": true
   },
   "outputs": [
    {
     "name": "stdout",
     "output_type": "stream",
     "text": [
      "Wprowadź pierwszą liczbę: 1\n",
      "Wprowadź drugą liczbę: 2\n",
      "Wprowadź trzecią liczbę: 3\n",
      "Liczba trzecia jest największa, a jej wartość to: 3.\n"
     ]
    }
   ],
   "source": [
    "l_1 = int(input('Wprowadź pierwszą liczbę: '))\n",
    "l_2 = int(input('Wprowadź drugą liczbę: '))\n",
    "l_3 = int(input('Wprowadź trzecią liczbę: '))\n",
    "\n",
    "liczby = {\n",
    "    'pierwsza': l_1,\n",
    "    'druga': l_2,\n",
    "    'trzecia': l_3\n",
    "    }\n",
    "l_max = max(zip(liczby.values(), liczby.keys()))\n",
    "print(f'Liczba {l_max[1]} jest największa, a jej wartość to: {l_max[0]}.')"
   ]
  },
  {
   "cell_type": "markdown",
   "metadata": {},
   "source": [
    "Zadanie 2.19.\n",
    "\n",
    "Sprawdź czy dwa słowa są anagramem (mówi się, że dwa ciągi są anagramami, jeśli możemy utworzyć jeden ciąg poprzez ułożenie znaków innego ciągu).\\\n",
    "Wyświetl stosowny komunikat."
   ]
  },
  {
   "cell_type": "code",
   "execution_count": 55,
   "metadata": {},
   "outputs": [
    {
     "name": "stdout",
     "output_type": "stream",
     "text": [
      "Podaj pierwszy wyraz: brama\n",
      "Podaj drugi wyraz: ambra\n",
      "Wyrazy \"brama\" i \"ambra\" są anagramami.\n"
     ]
    }
   ],
   "source": [
    "pierwszy = str(input('Podaj pierwszy wyraz: '))\n",
    "drugi = str(input('Podaj drugi wyraz: '))\n",
    "\n",
    "pierwszy_list = list(pierwszy.lower())\n",
    "drugi_list = list(drugi.lower())\n",
    "if sorted(pierwszy_list) == sorted(drugi_list):\n",
    "    print(f'Wyrazy \"{pierwszy}\" i \"{drugi}\" są anagramami.')\n",
    "else:\n",
    "    print(f'Wyrazy \"{pierwszy}\" i \"{drugi}\" nie są anagramami.')"
   ]
  },
  {
   "cell_type": "code",
   "execution_count": 54,
   "metadata": {
    "scrolled": true
   },
   "outputs": [
    {
     "name": "stdout",
     "output_type": "stream",
     "text": [
      "Podaj pierwszy wyraz: brama\n",
      "Podaj drugi wyraz: ambra\n",
      "Wyrazy \"brama\" i \"ambra\" są anagramami.\n"
     ]
    }
   ],
   "source": [
    "pierwszy = str(input('Podaj pierwszy wyraz: '))\n",
    "drugi = str(input('Podaj drugi wyraz: '))\n",
    "\n",
    "pierwszy_list = list(pierwszy.lower())\n",
    "drugi_list = list(drugi.lower())\n",
    "pierwszy_list.sort()\n",
    "drugi_list.sort()\n",
    "if pierwszy_list == drugi_list:\n",
    "    print(f'Wyrazy \"{pierwszy}\" i \"{drugi}\" są anagramami.')\n",
    "else:\n",
    "    print(f'Wyrazy \"{pierwszy}\" i \"{drugi}\" nie są anagramami.')"
   ]
  },
  {
   "cell_type": "markdown",
   "metadata": {},
   "source": [
    "Zadanie 2.20.\n",
    "\n",
    "Pobierz zdanie od użytkownika, a następnie sprawdź liczbę samogłosek w zdaniu i wyświetl je."
   ]
  },
  {
   "cell_type": "code",
   "execution_count": 56,
   "metadata": {},
   "outputs": [
    {
     "name": "stdout",
     "output_type": "stream",
     "text": [
      "Podaj zdanie: Wyrazy \"brama\" i \"ambra\" są anagramami.\n",
      "Samogłoska \"a\" występuje w zdaniu 9 raz/y.\n",
      "Samogłoska \"i\" występuje w zdaniu 2 raz/y.\n",
      "Samogłoska \"y\" występuje w zdaniu 2 raz/y.\n",
      "Samogłoska \"ą\" występuje w zdaniu 1 raz/y.\n",
      "W zdaniu \"Wyrazy \"brama\" i \"ambra\" są anagramami.\" występuje 14 samogłosek.\n"
     ]
    }
   ],
   "source": [
    "zdanie = input('Podaj zdanie: ')\n",
    "vowels = 'aeiouyąęó'\n",
    "\n",
    "vowels = list(vowels)\n",
    "licznik = 0\n",
    "for char in vowels:\n",
    "    if char in zdanie:\n",
    "        licznik += zdanie.count(char)\n",
    "        print(f'Samogłoska \"{char}\" występuje w zdaniu {zdanie.count(char)} raz/y.')\n",
    "print(f'W zdaniu \"{zdanie}\" występuje {licznik} samogłosek.')"
   ]
  },
  {
   "cell_type": "markdown",
   "metadata": {},
   "source": [
    "Zadanie 2.21.\n",
    "\n",
    "Zainicjalizuj poniższy słownik (wartości w słowniku możesz zmienić według uznania).\\\n",
    "Sprawdź, czy słownik osoby zawiera klucz skills, jeśli tak, wypisz środkową umiejętność z listy umiejętności.\\\n",
    "Sprawdź, czy słownik osoby ma klucz umiejętności, jeśli tak, sprawdź, czy osoba ma umiejętność \"Python\" i wypisz wynik.\\\n",
    "Jeśli dana osoba ma tylko umiejętności Python i Matlab, wyświetl ’Zna uczenie maszynowe’, jeśli dana osoba ma umiejętności Python i R, wyświetl ’Zna statystykę’, jeśli dana osoba ma umiejętności C i C++, wyświetl ’Zna tworzenie oprogramowania’, w przeciwnym wypadku wyświetl ’nieznany zestaw umiejętności’.\\\n",
    "Wyświetl stosowną informację, na temat stanu cywilnego oraz w jakim kraju mieszka osoba."
   ]
  },
  {
   "cell_type": "code",
   "execution_count": 52,
   "metadata": {},
   "outputs": [
    {
     "name": "stdout",
     "output_type": "stream",
     "text": [
      "Środkowa umiejętność: R.\n",
      "Jan Kowalski posiada umiejętność 'Python'.\n",
      "Jan Kowalski zna uczenie maszynowe.\n",
      "Jan Kowalski zna statystykę.\n",
      "Jan Kowalski zna tworzenie oprogramowania.\n",
      "Jan Kowalski mieszka w kraju Polska i jest stanu wolnego.\n"
     ]
    }
   ],
   "source": [
    "person = {\n",
    "'first_name': 'Jan',\n",
    "'last_name': 'Kowalski',\n",
    "'age': 44,\n",
    "'country': 'Polska',\n",
    "'is_married': False,\n",
    "'skills': ['Python', 'Matlab',\n",
    "           'R', 'C', 'C++'\n",
    "          ],\n",
    "'address': {\n",
    "'street': 'Ulica',\n",
    "'postalcode': '22-210'\n",
    "        }\n",
    "    }\n",
    "skille = 0\n",
    "if 'skills' in person.keys():\n",
    "    print(f\"Środkowa umiejętność: {person['skills'][len(person['skills']) // 2]}.\")\n",
    "    if 'Python' in person['skills']:\n",
    "        print(f\"{person['first_name']} {person['last_name']} posiada umiejętność 'Python'.\")\n",
    "    else:\n",
    "        print(f\"{person['first_name']} {person['last_name']} nie posiada umiejętności 'Python'.\")\n",
    "    if 'Python' in person['skills'] and 'Matlab' in person['skills']:\n",
    "        print(f\"{person['first_name']} {person['last_name']} zna uczenie maszynowe.\")\n",
    "        skille = 1\n",
    "    if 'Python' in person['skills'] and 'R' in person['skills']:\n",
    "        print(f\"{person['first_name']} {person['last_name']} zna statystykę.\")\n",
    "        skille = 1\n",
    "    if 'C' in person['skills'] and 'C++' in person['skills']:\n",
    "        print(f\"{person['first_name']} {person['last_name']} zna tworzenie oprogramowania.\")\n",
    "        skille = 1\n",
    "    if skille == 0:\n",
    "        print(f'Nieznany zestaw umiejętności.')\n",
    "else:\n",
    "    print(f\"Słownik nie zawiera klucza 'skills'.\")\n",
    "print(f\"{person['first_name']} {person['last_name']} mieszka w kraju {person['country']} i {'jest żonaty' if person['is_married'] else 'jest stanu wolnego'}.\")"
   ]
  },
  {
   "cell_type": "code",
   "execution_count": null,
   "metadata": {},
   "outputs": [],
   "source": []
  }
 ],
 "metadata": {
  "kernelspec": {
   "display_name": "Python 3 (ipykernel)",
   "language": "python",
   "name": "python3"
  },
  "language_info": {
   "codemirror_mode": {
    "name": "ipython",
    "version": 3
   },
   "file_extension": ".py",
   "mimetype": "text/x-python",
   "name": "python",
   "nbconvert_exporter": "python",
   "pygments_lexer": "ipython3",
   "version": "3.10.9"
  }
 },
 "nbformat": 4,
 "nbformat_minor": 2
}
