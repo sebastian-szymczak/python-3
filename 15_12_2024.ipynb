{
 "cells": [
  {
   "cell_type": "markdown",
   "id": "f4f4fdaa-0144-4eca-97b2-639a7f5d518f",
   "metadata": {},
   "source": [
    "# Programowanie w Python\n",
    "\n",
    "**Tematy na dzisiaj:**\n",
    "\n",
    "- Wyjątki (raise, try, except)\n",
    "- Działania na plikach (with, 'r', 'w')\n",
    "- Zagnieżdżone struktury\n",
    "- Funkcje anonimowe lambda (np jako key, omówić też PEP8 na temat lambd)\n",
    "- Funkcje generatory (next, yield)\n",
    "- Moduły biblioteki standardowej (math, collections, itertools)\n",
    "\n",
    "---\n",
    "\n",
    "- Robienie zadań 😀\n",
    "\n",
    "# Wyjątki\n",
    "\n",
    "## Przechwycenie wyjątków"
   ]
  },
  {
   "cell_type": "code",
   "execution_count": 6,
   "id": "29ea7a12-60d0-4b57-98aa-b254a065e40f",
   "metadata": {},
   "outputs": [
    {
     "name": "stdout",
     "output_type": "stream",
     "text": [
      "Wprowadź liczbę:  ;lkjasdff\n"
     ]
    },
    {
     "ename": "ValueError",
     "evalue": "invalid literal for int() with base 10: ';lkjasdff'",
     "output_type": "error",
     "traceback": [
      "\u001b[0;31m---------------------------------------------------------------------------\u001b[0m",
      "\u001b[0;31mValueError\u001b[0m                                Traceback (most recent call last)",
      "Cell \u001b[0;32mIn[6], line 1\u001b[0m\n\u001b[0;32m----> 1\u001b[0m a \u001b[38;5;241m=\u001b[39m \u001b[38;5;28mint\u001b[39m(\u001b[38;5;28minput\u001b[39m(\u001b[38;5;124m'\u001b[39m\u001b[38;5;124mWprowadź liczbę: \u001b[39m\u001b[38;5;124m'\u001b[39m))\n\u001b[1;32m      2\u001b[0m b \u001b[38;5;241m=\u001b[39m \u001b[38;5;28mint\u001b[39m(\u001b[38;5;28minput\u001b[39m(\u001b[38;5;124m'\u001b[39m\u001b[38;5;124mWprowadź liczbę: \u001b[39m\u001b[38;5;124m'\u001b[39m))\n\u001b[1;32m      4\u001b[0m \u001b[38;5;28mprint\u001b[39m(a \u001b[38;5;241m+\u001b[39m b, a \u001b[38;5;241m-\u001b[39m b, a \u001b[38;5;241m*\u001b[39m b, a \u001b[38;5;241m/\u001b[39m b)\n",
      "\u001b[0;31mValueError\u001b[0m: invalid literal for int() with base 10: ';lkjasdff'"
     ]
    }
   ],
   "source": [
    "# Mamy kod, który może powodować pewne błędy\n",
    "a = int(input('Wprowadź liczbę: '))\n",
    "b = int(input('Wprowadź liczbę: '))\n",
    "\n",
    "print(a + b, a - b, a * b, a / b)"
   ]
  },
  {
   "cell_type": "code",
   "execution_count": 7,
   "id": "9f627887-70f1-4b08-8bc5-ee90ca8668d6",
   "metadata": {},
   "outputs": [
    {
     "name": "stdout",
     "output_type": "stream",
     "text": [
      "Wprowadź liczbę:  3\n",
      "Wprowadź liczbę:  ;lkasd\n"
     ]
    },
    {
     "name": "stdout",
     "output_type": "stream",
     "text": [
      "Musisz podać liczby, nie tekst!\n"
     ]
    }
   ],
   "source": [
    "# Możemy przechwycić ten wyjątek, ale czy to jest dobry sposób?\n",
    "try:\n",
    "    a = int(input('Wprowadź liczbę: '))\n",
    "    b = int(input('Wprowadź liczbę: '))\n",
    "    \n",
    "    print(a + b, a - b, a * b, a / b)\n",
    "except:\n",
    "    print('Musisz podać liczby, nie tekst!')"
   ]
  },
  {
   "cell_type": "code",
   "execution_count": 14,
   "id": "ccb8d135-fd36-4525-81e9-204c422dc35c",
   "metadata": {},
   "outputs": [
    {
     "name": "stdout",
     "output_type": "stream",
     "text": [
      "Wprowadź liczbę:  3\n",
      "Wprowadź liczbę:  0\n"
     ]
    },
    {
     "name": "stdout",
     "output_type": "stream",
     "text": [
      "Nie można dzielić przez zero!\n"
     ]
    }
   ],
   "source": [
    "# Dobry sposób na przechwycenie wyjątków:\n",
    "try:\n",
    "    a = int(input('Wprowadź liczbę: '))\n",
    "    b = int(input('Wprowadź liczbę: '))\n",
    "    \n",
    "    print(a + b, a - b, a * b, a / b)\n",
    "except ValueError:\n",
    "    print('Musisz podać liczby, nie tekst!')\n",
    "except ZeroDivisionError:\n",
    "    print('Nie można dzielić przez zero!')"
   ]
  },
  {
   "cell_type": "code",
   "execution_count": 18,
   "id": "4886bbdd-2c06-44a6-84d6-4d13a02df92d",
   "metadata": {},
   "outputs": [
    {
     "name": "stdout",
     "output_type": "stream",
     "text": [
      "Wprowadź liczbę:  2.0\n"
     ]
    },
    {
     "name": "stdout",
     "output_type": "stream",
     "text": [
      "Musisz podać liczby, nie tekst!\n"
     ]
    }
   ],
   "source": [
    "# Hierarchia wyjątków - https://docs.python.org/3/library/exceptions.html\n",
    "try:\n",
    "    a = int(input('Wprowadź liczbę: '))\n",
    "    b = int(input('Wprowadź liczbę: '))\n",
    "    \n",
    "    print(a + b, a - b, a * b, a / b)\n",
    "except ValueError:\n",
    "    print('Musisz podać liczby, nie tekst!')\n",
    "except ZeroDivisionError:\n",
    "    print('Nie można dzielić przez zero!')\n",
    "except Exception as e: # Bardziej ogólne wyjątki należy używać na sam koniec\n",
    "    print(f'Coś się zepsuło mamy błąd: {e}')"
   ]
  },
  {
   "cell_type": "markdown",
   "id": "fd413eed-edd2-49e3-a02a-88a2239b4f50",
   "metadata": {},
   "source": [
    "## Wyrzucanie własnych wyjątków"
   ]
  },
  {
   "cell_type": "code",
   "execution_count": 25,
   "id": "f40a3a13-9c5d-4e53-bec6-d95262bdc730",
   "metadata": {},
   "outputs": [
    {
     "name": "stdout",
     "output_type": "stream",
     "text": [
      "Środa\n"
     ]
    }
   ],
   "source": [
    "def day_to_name(n):\n",
    "    days = ['Poniedziałek', 'Wtorek', 'Środa', 'Czwartek', 'Piątek', 'Sobota', 'Niedziela']\n",
    "\n",
    "    if not isinstance(n, int): # Jeżeli n nie jest int\n",
    "        raise TypeError('n powinno być liczbą całkowitą')\n",
    "    if not (1 <= n <= 7):  # Jeżeli n nie jest w [1, 7]\n",
    "        raise ValueError('n powinno być liczbą całkowitą z zakresu [1, 7].')\n",
    "        \n",
    "    return days[n - 1]\n",
    "\n",
    "\n",
    "print(day_to_name(3))"
   ]
  },
  {
   "cell_type": "markdown",
   "id": "bf5d7324-5546-4ea1-abcd-d810ec8a7881",
   "metadata": {},
   "source": [
    "# Działania na plikach"
   ]
  },
  {
   "cell_type": "code",
   "execution_count": 32,
   "id": "0bf3a97a-0cf1-4c58-93b7-0f1ad3ad3cab",
   "metadata": {},
   "outputs": [
    {
     "name": "stdout",
     "output_type": "stream",
     "text": [
      "readline: ala ma kota\n",
      "\n",
      "readlines: ['ala ma kota\\n']\n",
      "read: ala ma kota\n",
      "\n",
      "readlines: ['ala ma kota\\n', 'a jan ma psa\\n']\n",
      "read: ala ma kota\n",
      "a jan ma psa\n",
      "\n"
     ]
    }
   ],
   "source": [
    "# 1 sposób (nie zalecany)\n",
    "# f = open('nowy_plik.txt', 'w')\n",
    "# f.write('ala ma kota\\n')\n",
    "# f.close() # <- zawsze musimy zamknąć plik\n",
    "\n",
    "# Sposób zalecany\n",
    "# Tryby otwierania pliku: 'w' jako write (zapis), 'r' jako read (odczyt), 'a' jako append (dopisywanie)\n",
    "# UWAGA: otwarcie pliku z 'w' spowoduje nadpisanie całej zawartości plik\n",
    "with open('nowy_plik.txt', 'w') as f:\n",
    "    f.write('ala ma kota\\n') # Przy zapisie jeżeli chcemy mieć koniec wiersza, musimy jawnie dopisać \\n\n",
    "    # Zamknięcie pliku odbywa się automatycznie\n",
    "\n",
    "# Różne sposoby na odczytania zawartości pliku\n",
    "with open('nowy_plik.txt', 'r') as f:\n",
    "    line = f.readline()\n",
    "    print('readline:', line)\n",
    "\n",
    "\n",
    "with open('nowy_plik.txt', 'r') as f:\n",
    "    lines = f.readlines()\n",
    "    print('readlines:', lines)\n",
    "\n",
    "\n",
    "with open('nowy_plik.txt', 'r') as f:\n",
    "    s = f.read()\n",
    "    print('read:', s)\n",
    "\n",
    "\n",
    "# Dopisanie na koniec pliku\n",
    "with open('nowy_plik.txt', 'a') as f:\n",
    "    f.write('a jan ma psa\\n')\n",
    "\n",
    "\n",
    "# Próbujemy znowu odczytać:\n",
    "with open('nowy_plik.txt', 'r') as f:\n",
    "    lines = f.readlines()\n",
    "    print('readlines:', lines)\n",
    "\n",
    "\n",
    "with open('nowy_plik.txt', 'r') as f:\n",
    "    s = f.read()\n",
    "    print('read:', s)"
   ]
  },
  {
   "cell_type": "markdown",
   "id": "ded2cd55-f436-462a-91ef-55a75dcbc8a3",
   "metadata": {},
   "source": [
    "# Zagnieżdżone struktury"
   ]
  },
  {
   "cell_type": "code",
   "execution_count": 39,
   "id": "5a8661a4-012d-4b14-a371-174ee6cb1d61",
   "metadata": {},
   "outputs": [
    {
     "name": "stdout",
     "output_type": "stream",
     "text": [
      "[[10, 20], [30, 40]]\n",
      "[30, 40]\n",
      "10\n"
     ]
    }
   ],
   "source": [
    "a = [\n",
    "#     0   1\n",
    "    [10, 20], # 0\n",
    "    [30, 40]  # 1\n",
    "]\n",
    "\n",
    "print(a)\n",
    "\n",
    "print(a[1]) # Odczyt \"wiersza\"\n",
    "\n",
    "print(a[0][0])"
   ]
  },
  {
   "cell_type": "code",
   "execution_count": 41,
   "id": "873cd38c-d573-4e8a-ad38-c705a1b4b758",
   "metadata": {},
   "outputs": [
    {
     "name": "stdout",
     "output_type": "stream",
     "text": [
      "Punkt ma współrzędne x = 2, y = 9\n",
      "Punkt ma współrzędne x = 1, y = 3\n",
      "Punkt ma współrzędne x = 7, y = 6\n",
      "Punkt ma współrzędne x = 8, y = 3\n",
      "Punkt 0 ma współrzędne x = 2, y = 9\n",
      "Punkt 1 ma współrzędne x = 1, y = 3\n",
      "Punkt 2 ma współrzędne x = 7, y = 6\n",
      "Punkt 3 ma współrzędne x = 8, y = 3\n"
     ]
    }
   ],
   "source": [
    "points = [\n",
    "    (2, 9),\n",
    "    (1, 3),\n",
    "    (7, 6),\n",
    "    (8, 3)\n",
    "]\n",
    "\n",
    "for x, y in points:\n",
    "    print(f'Punkt ma współrzędne {x = }, {y = }')\n",
    "\n",
    "for i, (x, y) in enumerate(points):\n",
    "    print(f'Punkt {i} ma współrzędne {x = }, {y = }')"
   ]
  },
  {
   "cell_type": "code",
   "execution_count": 43,
   "id": "84e0b104-b1cb-45eb-93d1-458bfe665be8",
   "metadata": {},
   "outputs": [
    {
     "name": "stdout",
     "output_type": "stream",
     "text": [
      "Student Jan Kowalski dostał/a ocenę 5\n",
      "Student Ala Nowak dostał/a ocenę 4\n",
      "Student Maciej Lewandowski dostał/a ocenę 2\n"
     ]
    }
   ],
   "source": [
    "students = [\n",
    "    ('Jan', 'Kowalski', 5),\n",
    "    ('Ala', 'Nowak', 4),\n",
    "    ('Maciej', 'Lewandowski', 2)\n",
    "]\n",
    "\n",
    "for name, surname, grade in students:\n",
    "    print(f'Student {name} {surname} dostał/a ocenę {grade}')"
   ]
  },
  {
   "cell_type": "code",
   "execution_count": 44,
   "id": "ae58e1dd-150d-4de7-876a-59d139ea0bf9",
   "metadata": {},
   "outputs": [
    {
     "name": "stdout",
     "output_type": "stream",
     "text": [
      "Imię: Jan\n",
      "Nazwisko: Kowalski\n",
      "Ocena: 5\n"
     ]
    }
   ],
   "source": [
    "student = students[0]\n",
    "\n",
    "print('Imię:', student[0])\n",
    "print('Nazwisko:', student[1])\n",
    "print('Ocena:', student[2])"
   ]
  },
  {
   "cell_type": "markdown",
   "id": "2d4e05da-2897-4864-9c2f-5645c4d30e3c",
   "metadata": {},
   "source": [
    "# Funkcje anonimowe lambda"
   ]
  },
  {
   "cell_type": "code",
   "execution_count": 46,
   "id": "29439e93-d89f-432b-a6b8-3edd4f7713f1",
   "metadata": {},
   "outputs": [
    {
     "name": "stdout",
     "output_type": "stream",
     "text": [
      "8\n"
     ]
    }
   ],
   "source": [
    "# Normalna funkcja:\n",
    "def add(a, b):\n",
    "    return a + b\n",
    "\n",
    "print(add(3, 5))"
   ]
  },
  {
   "cell_type": "code",
   "execution_count": 48,
   "id": "4dba98bf-cabd-4242-88d9-c56b43b602ef",
   "metadata": {},
   "outputs": [
    {
     "name": "stdout",
     "output_type": "stream",
     "text": [
      "8\n"
     ]
    }
   ],
   "source": [
    "# Przy użyciu funkcji anonimowej (lambda)\n",
    "add = lambda a, b: a + b\n",
    "print(add(3, 5))\n",
    "\n",
    "# UWAGA!!! PEP8 nie zaleca używania tego sposobu: https://peps.python.org/pep-0008/"
   ]
  },
  {
   "cell_type": "code",
   "execution_count": 49,
   "id": "a08bcbf4-b097-462f-9faf-51f6ad152b38",
   "metadata": {},
   "outputs": [
    {
     "ename": "ZeroDivisionError",
     "evalue": "division by zero",
     "output_type": "error",
     "traceback": [
      "\u001b[0;31m---------------------------------------------------------------------------\u001b[0m",
      "\u001b[0;31mZeroDivisionError\u001b[0m                         Traceback (most recent call last)",
      "Cell \u001b[0;32mIn[49], line 4\u001b[0m\n\u001b[1;32m      1\u001b[0m \u001b[38;5;28;01mdef\u001b[39;00m \u001b[38;5;21mdiv\u001b[39m(a, b):\n\u001b[1;32m      2\u001b[0m     \u001b[38;5;28;01mreturn\u001b[39;00m a \u001b[38;5;241m/\u001b[39m b\n\u001b[0;32m----> 4\u001b[0m div(\u001b[38;5;241m3\u001b[39m, \u001b[38;5;241m0\u001b[39m)\n",
      "Cell \u001b[0;32mIn[49], line 2\u001b[0m, in \u001b[0;36mdiv\u001b[0;34m(a, b)\u001b[0m\n\u001b[1;32m      1\u001b[0m \u001b[38;5;28;01mdef\u001b[39;00m \u001b[38;5;21mdiv\u001b[39m(a, b):\n\u001b[0;32m----> 2\u001b[0m     \u001b[38;5;28;01mreturn\u001b[39;00m a \u001b[38;5;241m/\u001b[39m b\n",
      "\u001b[0;31mZeroDivisionError\u001b[0m: division by zero"
     ]
    }
   ],
   "source": [
    "def div(a, b):\n",
    "    return a / b\n",
    "\n",
    "div(3, 0)\n",
    "# W komunikacie widać że błąd jest w funkcji div(a, b)"
   ]
  },
  {
   "cell_type": "code",
   "execution_count": 50,
   "id": "2dd216ea-8455-4207-8550-467da3efc425",
   "metadata": {},
   "outputs": [
    {
     "ename": "ZeroDivisionError",
     "evalue": "division by zero",
     "output_type": "error",
     "traceback": [
      "\u001b[0;31m---------------------------------------------------------------------------\u001b[0m",
      "\u001b[0;31mZeroDivisionError\u001b[0m                         Traceback (most recent call last)",
      "Cell \u001b[0;32mIn[50], line 3\u001b[0m\n\u001b[1;32m      1\u001b[0m divl \u001b[38;5;241m=\u001b[39m \u001b[38;5;28;01mlambda\u001b[39;00m a, b: a \u001b[38;5;241m/\u001b[39m b\n\u001b[0;32m----> 3\u001b[0m divl(\u001b[38;5;241m3\u001b[39m, \u001b[38;5;241m0\u001b[39m)\n",
      "Cell \u001b[0;32mIn[50], line 1\u001b[0m, in \u001b[0;36m<lambda>\u001b[0;34m(a, b)\u001b[0m\n\u001b[0;32m----> 1\u001b[0m divl \u001b[38;5;241m=\u001b[39m \u001b[38;5;28;01mlambda\u001b[39;00m a, b: a \u001b[38;5;241m/\u001b[39m b\n\u001b[1;32m      3\u001b[0m divl(\u001b[38;5;241m3\u001b[39m, \u001b[38;5;241m0\u001b[39m)\n",
      "\u001b[0;31mZeroDivisionError\u001b[0m: division by zero"
     ]
    }
   ],
   "source": [
    "divl = lambda a, b: a / b\n",
    "\n",
    "divl(3, 0)\n",
    "# W komunikacie nie widać nazwy funkcji, widzimy tylko <lambda>(a, b)"
   ]
  },
  {
   "cell_type": "code",
   "execution_count": 51,
   "id": "aa99910a-7118-4799-b103-7b259f41790d",
   "metadata": {},
   "outputs": [
    {
     "name": "stdout",
     "output_type": "stream",
     "text": [
      "[9, 64, 4, 49, 9]\n"
     ]
    }
   ],
   "source": [
    "def apply_to_list(a, func):\n",
    "    return [func(val) for val in a]\n",
    "\n",
    "\n",
    "a = [3, 8, 2, 7, 3]\n",
    "\n",
    "b = apply_to_list(a, lambda x: x ** 2)\n",
    "print(b)"
   ]
  },
  {
   "cell_type": "code",
   "execution_count": 61,
   "id": "2e8f1b37-c35f-4a19-8b92-21dd51a3c95e",
   "metadata": {},
   "outputs": [
    {
     "name": "stdout",
     "output_type": "stream",
     "text": [
      "Najktórszy napis: pear\n",
      "Najktórszy napis: pear\n",
      "Najdłuższy napis: avokado\n",
      "['pear', 'melon', 'apple', 'lemon', 'cherry', 'orange', 'banana', 'avokado']\n"
     ]
    }
   ],
   "source": [
    "fruits = ['cherry', 'melon', 'apple', 'pear', 'orange', 'banana', 'avokado', 'lemon']\n",
    "\n",
    "print('Najktórszy napis:', min(fruits, key=lambda s: len(s)))\n",
    "print('Najktórszy napis:', min(fruits, key=len))\n",
    "print('Najdłuższy napis:', max(fruits, key=len))\n",
    "print(sorted(fruits, key=len))"
   ]
  },
  {
   "cell_type": "code",
   "execution_count": 64,
   "id": "0d3e1928-c3f5-4584-ad87-d68095d1a560",
   "metadata": {},
   "outputs": [
    {
     "name": "stdout",
     "output_type": "stream",
     "text": [
      "[('Maciej', 'Lewandowski', 2), ('Ala', 'Nowak', 4), ('Jan', 'Kowalski', 5)]\n",
      "('Maciej', 'Lewandowski', 2)\n"
     ]
    }
   ],
   "source": [
    "students = [\n",
    "    ('Jan', 'Kowalski', 5),\n",
    "    ('Ala', 'Nowak', 4),\n",
    "    ('Maciej', 'Lewandowski', 2)\n",
    "]\n",
    "\n",
    "print(sorted(students, key=lambda student: student[2]))\n",
    "print(max(students, key=lambda student: len(student[1])))"
   ]
  },
  {
   "cell_type": "markdown",
   "id": "3fa9febe-b49d-43c5-8ba6-ba72fa4171c8",
   "metadata": {},
   "source": [
    "# Funkcje generatory"
   ]
  },
  {
   "cell_type": "code",
   "execution_count": 65,
   "id": "5ded6279-06a5-42da-a804-9dd70f95bf07",
   "metadata": {},
   "outputs": [
    {
     "name": "stdout",
     "output_type": "stream",
     "text": [
      "285\n",
      "285\n"
     ]
    }
   ],
   "source": [
    "# Lista vs wyrażenie generatorowe\n",
    "print(sum([i ** 2 for i in range(10)]))\n",
    "print(sum(i ** 2 for i in range(10)))"
   ]
  },
  {
   "cell_type": "code",
   "execution_count": 67,
   "id": "13de9b3f-da03-475a-b447-f2c23112eea3",
   "metadata": {},
   "outputs": [
    {
     "name": "stdout",
     "output_type": "stream",
     "text": [
      "285 [0, 1, 4, 9, 16, 25, 36, 49, 64, 81]\n",
      "285 <generator object <genexpr> at 0x7f185c682400>\n"
     ]
    }
   ],
   "source": [
    "l = [i ** 2 for i in range(10)]\n",
    "print(sum(l), l)\n",
    "\n",
    "g = (i ** 2 for i in range(10))\n",
    "print(sum(g), g)"
   ]
  },
  {
   "cell_type": "code",
   "execution_count": 68,
   "id": "a77b6790-50bf-4a34-800d-33ad3ee8f3dc",
   "metadata": {},
   "outputs": [
    {
     "name": "stdout",
     "output_type": "stream",
     "text": [
      "[0, 1, 4, 9, 16, 25, 36, 49, 64, 81]\n",
      "0 <generator object <genexpr> at 0x7f185c681970>\n"
     ]
    }
   ],
   "source": [
    "g = (i ** 2 for i in range(10))\n",
    "print(list(g)) # Generator jest jednorazowy\n",
    "print(sum(g), g)"
   ]
  },
  {
   "cell_type": "code",
   "execution_count": 73,
   "id": "c34063ef-c746-4979-ab06-defffec7f823",
   "metadata": {},
   "outputs": [
    {
     "name": "stdout",
     "output_type": "stream",
     "text": [
      "0\n",
      "1\n",
      "4\n"
     ]
    }
   ],
   "source": [
    "g = (i ** 2 for i in range(10))\n",
    "\n",
    "print(next(g)) # Funkcji next raczej nie używamy jawnie, pokazuje dla przykładu :)\n",
    "print(next(g))\n",
    "print(next(g))"
   ]
  },
  {
   "cell_type": "code",
   "execution_count": 74,
   "id": "18e52698-e919-45ce-a8ad-1acad9155746",
   "metadata": {},
   "outputs": [
    {
     "name": "stdout",
     "output_type": "stream",
     "text": [
      "0\n",
      "1\n",
      "4\n",
      "9\n",
      "16\n",
      "25\n",
      "36\n",
      "49\n",
      "64\n",
      "81\n"
     ]
    }
   ],
   "source": [
    "g = (i ** 2 for i in range(10))\n",
    "\n",
    "for val in g:\n",
    "    print(val)"
   ]
  },
  {
   "cell_type": "code",
   "execution_count": 76,
   "id": "7ca09d7e-eb5e-4546-816b-c000cb2c4836",
   "metadata": {},
   "outputs": [
    {
     "name": "stdout",
     "output_type": "stream",
     "text": [
      "[('A', 10), ('A', 20), ('A', 30), ('B', 10), ('B', 20), ('B', 30), ('C', 10), ('C', 20), ('C', 30)]\n"
     ]
    }
   ],
   "source": [
    "def kart(a, b):\n",
    "    res = []\n",
    "    for val1 in a:\n",
    "        for val2 in b:\n",
    "            res.append((val1, val2))\n",
    "    return res\n",
    "\n",
    "\n",
    "a = ['A', 'B', 'C']\n",
    "b = [10, 20, 30]\n",
    "print(kart(a, b))"
   ]
  },
  {
   "cell_type": "code",
   "execution_count": 78,
   "id": "50da97b1-55d6-405c-8d0b-b4256d1294c9",
   "metadata": {},
   "outputs": [
    {
     "name": "stdout",
     "output_type": "stream",
     "text": [
      "<generator object kart_gen at 0x7f18531335a0>\n",
      "A 10\n",
      "A 20\n",
      "A 30\n",
      "B 10\n",
      "B 20\n",
      "B 30\n",
      "C 10\n",
      "C 20\n",
      "C 30\n"
     ]
    }
   ],
   "source": [
    "def kart_gen(a, b):\n",
    "    for val1 in a:\n",
    "        for val2 in b:\n",
    "            yield (val1, val2)\n",
    "\n",
    "\n",
    "a = ['A', 'B', 'C']\n",
    "b = [10, 20, 30]\n",
    "print(kart_gen(a, b))\n",
    "\n",
    "for x, y in kart_gen(a, b):\n",
    "    print(x, y)"
   ]
  },
  {
   "cell_type": "code",
   "execution_count": 82,
   "id": "9d8f7e33-7c8f-4706-a9bb-1bb0f013452b",
   "metadata": {},
   "outputs": [
    {
     "name": "stdout",
     "output_type": "stream",
     "text": [
      "0\n",
      "2\n",
      "4\n",
      "6\n",
      "8\n",
      "10\n",
      "8\n",
      "6\n",
      "4\n",
      "2\n"
     ]
    }
   ],
   "source": [
    "def myrange(start, stop, step=1):\n",
    "    while start != stop:\n",
    "        yield start\n",
    "        start += step\n",
    "\n",
    "\n",
    "for i in myrange(0, 10, 2):\n",
    "    print(i)\n",
    "\n",
    "for i in myrange(10, 0, -2):\n",
    "    print(i)"
   ]
  },
  {
   "cell_type": "code",
   "execution_count": 89,
   "id": "f08f53ff-86cf-4df5-80fe-103e3b1f1fc5",
   "metadata": {},
   "outputs": [
    {
     "name": "stdout",
     "output_type": "stream",
     "text": [
      "91\n",
      "79\n",
      "24\n",
      "16\n",
      "13\n",
      "75\n",
      "73\n",
      "47\n",
      "12\n",
      "62\n"
     ]
    }
   ],
   "source": [
    "# Bardzo prosty generator liczby pseudolosowy\n",
    "# Dla chętnych: https://en.wikipedia.org/wiki/Linear_congruential_generator\n",
    "def myrand(n, seed=10):\n",
    "    for i in range(n):\n",
    "        seed = (13 * seed + 7) % 101\n",
    "        yield seed\n",
    "\n",
    "\n",
    "for i in myrand(10, seed=123):\n",
    "    print(i)"
   ]
  },
  {
   "cell_type": "markdown",
   "id": "cfe481d5-2a20-48a5-841a-2d268e1166e4",
   "metadata": {},
   "source": [
    "# Moduły biblioteki standardowej\n",
    "\n",
    "- https://docs.python.org/3/library/index.html\n",
    "\n",
    "## Liczby pseudolosowe"
   ]
  },
  {
   "cell_type": "code",
   "execution_count": 103,
   "id": "a63d1389-1c71-41dd-8346-786c14a2ddd0",
   "metadata": {},
   "outputs": [
    {
     "name": "stdout",
     "output_type": "stream",
     "text": [
      "49\n",
      "97\n",
      "53\n",
      "5\n",
      "33\n",
      "65\n",
      "62\n",
      "51\n",
      "100\n",
      "38\n"
     ]
    }
   ],
   "source": [
    "import random # Proszę zwrócić uwagę że wszystkie importy normalnie wrzucamy na górę pliku!\n",
    "\n",
    "random.seed(0)\n",
    "for i in range(10):\n",
    "    print(random.randint(0, 100))"
   ]
  },
  {
   "cell_type": "code",
   "execution_count": 112,
   "id": "df9ab464-c3bd-4add-a36c-8614755f380e",
   "metadata": {},
   "outputs": [
    {
     "name": "stdout",
     "output_type": "stream",
     "text": [
      "1\n",
      "20\n",
      "65\n",
      "44\n",
      "74\n",
      "60\n",
      "80\n",
      "37\n",
      "84\n",
      "89\n"
     ]
    }
   ],
   "source": [
    "import time\n",
    "\n",
    "# Jako ziarno ustawiamy aktualny czas i mamy za każdym razem inne liczby :)\n",
    "def myrand(n, seed=None):\n",
    "    if seed is None:\n",
    "        seed = int(time.time())\n",
    "        \n",
    "    for i in range(n):\n",
    "        seed = (13 * seed + 7) % 101\n",
    "        yield seed\n",
    "\n",
    "\n",
    "for i in myrand(10):\n",
    "    print(i)"
   ]
  },
  {
   "cell_type": "markdown",
   "id": "8569fe01-f213-4def-a0e1-4c64e81edbae",
   "metadata": {},
   "source": [
    "## Collections\n",
    "\n",
    "- https://docs.python.org/3/library/collections.html"
   ]
  },
  {
   "cell_type": "code",
   "execution_count": 123,
   "id": "71e88fe7-6172-4087-b3e7-05e97943a64b",
   "metadata": {},
   "outputs": [
    {
     "name": "stdout",
     "output_type": "stream",
     "text": [
      "{'v': 2, 'l': 6, 'i': 6, 'j': 1, 's': 4, 'k': 5, 'e': 6, 'y': 5, 'b': 11, 'a': 6, 'f': 1, 'w': 4, 'm': 2, 'o': 3, 'h': 2, 'd': 1, 'r': 1}\n",
      "[('b', 11), ('l', 6), ('i', 6), ('e', 6), ('a', 6)]\n",
      "\n",
      "defaultdict(<class 'int'>, {'v': 2, 'l': 6, 'i': 6, 'j': 1, 's': 4, 'k': 5, 'e': 6, 'y': 5, 'b': 11, 'a': 6, 'f': 1, 'w': 4, 'm': 2, 'o': 3, 'h': 2, 'd': 1, 'r': 1})\n",
      "[('b', 11), ('l', 6), ('i', 6), ('e', 6), ('a', 6)]\n",
      "\n",
      "Counter({'b': 11, 'l': 6, 'i': 6, 'e': 6, 'a': 6, 'k': 5, 'y': 5, 's': 4, 'w': 4, 'o': 3, 'v': 2, 'm': 2, 'h': 2, 'j': 1, 'f': 1, 'd': 1, 'r': 1})\n",
      "[('b', 11), ('l', 6), ('i', 6), ('e', 6), ('a', 6)]\n"
     ]
    }
   ],
   "source": [
    "from collections import defaultdict, Counter\n",
    "\n",
    "s = 'vlijvslkeybakfwlibyskeybalekbmwbaoiebhaobiehblsiybadoiybslebmwrwka'\n",
    "\n",
    "# Sposób 1\n",
    "counts = {}\n",
    "for letter in s:\n",
    "    if letter in counts:\n",
    "        counts[letter] += 1\n",
    "    else:\n",
    "        counts[letter] = 1\n",
    "\n",
    "print(counts)\n",
    "print(sorted(list(counts.items()), key=lambda x: x[1], reverse=True)[:5])\n",
    "print()\n",
    "\n",
    "# Sposób 2\n",
    "counts = defaultdict(int)\n",
    "for letter in s:\n",
    "    counts[letter] += 1\n",
    "    \n",
    "print(counts)\n",
    "print(sorted(list(counts.items()), key=lambda x: x[1], reverse=True)[:5])\n",
    "print()\n",
    "\n",
    "# Sposób 3\n",
    "c = Counter(s)\n",
    "print(c)\n",
    "print(c.most_common(5))"
   ]
  },
  {
   "cell_type": "markdown",
   "id": "5c2a074b-62fa-4fe0-bc9a-6a7dae9c719b",
   "metadata": {},
   "source": [
    "## Itertools\n",
    "\n",
    "- https://docs.python.org/3/library/itertools.html"
   ]
  },
  {
   "cell_type": "code",
   "execution_count": 125,
   "id": "69803de5-76da-46b5-bc4e-77d72edcc359",
   "metadata": {},
   "outputs": [
    {
     "name": "stdout",
     "output_type": "stream",
     "text": [
      "0 0\n",
      "0 1\n",
      "0 2\n",
      "1 0\n",
      "1 1\n",
      "1 2\n",
      "2 0\n",
      "2 1\n",
      "2 2\n"
     ]
    }
   ],
   "source": [
    "for i in range(3):\n",
    "    for j in range(3):\n",
    "        print(i, j)"
   ]
  },
  {
   "cell_type": "code",
   "execution_count": 127,
   "id": "946fbacb-4d5a-4228-864d-5dab819bbd39",
   "metadata": {},
   "outputs": [
    {
     "name": "stdout",
     "output_type": "stream",
     "text": [
      "0 0\n",
      "0 1\n",
      "0 2\n",
      "1 0\n",
      "1 1\n",
      "1 2\n",
      "2 0\n",
      "2 1\n",
      "2 2\n"
     ]
    }
   ],
   "source": [
    "from itertools import product, combinations\n",
    "\n",
    "for i, j in product(range(3), range(3)):\n",
    "    print(i, j)"
   ]
  },
  {
   "cell_type": "code",
   "execution_count": 131,
   "id": "9851cf59-ee07-41e4-bd47-b38be01da29d",
   "metadata": {},
   "outputs": [
    {
     "name": "stdout",
     "output_type": "stream",
     "text": [
      "0 1\n",
      "0 2\n",
      "0 3\n",
      "0 4\n",
      "1 2\n",
      "1 3\n",
      "1 4\n",
      "2 3\n",
      "2 4\n",
      "3 4\n"
     ]
    }
   ],
   "source": [
    "for i in range(5):\n",
    "    for j in range(i + 1, 5):\n",
    "        print(i, j)"
   ]
  },
  {
   "cell_type": "code",
   "execution_count": 130,
   "id": "8daf3a03-3b29-47e2-88e7-ed86da004aa3",
   "metadata": {},
   "outputs": [
    {
     "name": "stdout",
     "output_type": "stream",
     "text": [
      "0 1\n",
      "0 2\n",
      "0 3\n",
      "0 4\n",
      "1 2\n",
      "1 3\n",
      "1 4\n",
      "2 3\n",
      "2 4\n",
      "3 4\n"
     ]
    }
   ],
   "source": [
    "for i, j in combinations(range(5), 2):\n",
    "    print(i, j)"
   ]
  },
  {
   "cell_type": "markdown",
   "id": "9bddcb6d-dccc-453e-97e7-cf5c9a22be6f",
   "metadata": {},
   "source": [
    "# Zadania"
   ]
  },
  {
   "cell_type": "code",
   "execution_count": 135,
   "id": "9f3cf1e9-d036-4bf0-bfd2-41c4481eb871",
   "metadata": {},
   "outputs": [
    {
     "name": "stdout",
     "output_type": "stream",
     "text": [
      "[6, 9, 1, 4, 1, 3, 1, 4, 5, 6, 2, 0, 8, 7, 0, 9, 1, 6, 3, 4, 5, 7, 9, 2, 3, 0, 2, 2, 5, 8, 4, 1, 9, 7, 2, 0, 7, 6, 9, 8, 4, 5, 6, 4, 2, 8, 0, 7, 1, 5]\n",
      "Liczba 1 występuje 6 razy\n",
      "Liczba 4 występuje 6 razy\n",
      "Liczba 2 występuje 6 razy\n",
      "Liczba 6 występuje 5 razy\n",
      "Liczba 9 występuje 5 razy\n"
     ]
    }
   ],
   "source": [
    "# Zadanie 1\n",
    "import random\n",
    "from collections import Counter\n",
    "\n",
    "def randlist(n=10, a=0, b=10):\n",
    "    return [random.randrange(a, b) for i in range(n)]\n",
    "\n",
    "a = randlist(50)\n",
    "print(a)\n",
    "mc = Counter(a).most_common(5)\n",
    "\n",
    "for num, count in mc:\n",
    "    print(f'Liczba {num} występuje {count} razy')"
   ]
  },
  {
   "cell_type": "code",
   "execution_count": 136,
   "id": "658c44e5-25a7-4250-894e-0d75768ee8d3",
   "metadata": {},
   "outputs": [
    {
     "name": "stdout",
     "output_type": "stream",
     "text": [
      "Podaj napis:  ABCD\n"
     ]
    },
    {
     "name": "stdout",
     "output_type": "stream",
     "text": [
      "['AB', 'AC', 'AD', 'BA', 'BC', 'BD', 'CA', 'CB', 'CD', 'DA', 'DB', 'DC']\n",
      "['AB', 'AC', 'AD', 'BC', 'BD', 'CD']\n",
      "Permutacje: AB AC AD BA BC BD CA CB CD DA DB DC\n",
      "Kombinacje: AB AC AD BC BD CD\n"
     ]
    }
   ],
   "source": [
    "# Zadanie 2\n",
    "import itertools\n",
    "\n",
    "s = input('Podaj napis: ')\n",
    "perm = [''.join(c) for c in itertools.permutations(s, 2)]\n",
    "comb = [''.join(c) for c in itertools.combinations(s, 2)]\n",
    "\n",
    "print(perm)\n",
    "print(comb)\n",
    "\n",
    "print(f'Permutacje: {\" \".join(perm)}')\n",
    "print(f'Kombinacje: {\" \".join(comb)}')"
   ]
  },
  {
   "cell_type": "code",
   "execution_count": 140,
   "id": "7c178d4b-2c90-4af6-9763-fc6859744718",
   "metadata": {},
   "outputs": [
    {
     "name": "stdout",
     "output_type": "stream",
     "text": [
      "[20, 56, 92]\n"
     ]
    }
   ],
   "source": [
    "# Zadanie 3\n",
    "\"\"\"\n",
    "    5\n",
    "    6\n",
    "1 2 5*1 + 6*1\n",
    "3 4 3*5 + 4*6\n",
    "\n",
    "[5*1 + 6*1, 3*5 + 4*6]\n",
    "\"\"\"\n",
    "\n",
    "def mul(a, b):\n",
    "    if isinstance(b[0], list):\n",
    "        raise ValueError('Argument b ma być wektorem, a nie macierzą.')\n",
    "    \n",
    "    c = [0] * len(a[0])\n",
    "    for i in range(len(a)):\n",
    "        for j in range(len(a[i])):\n",
    "            c[i] += a[i][j] * b[j]\n",
    "    return c\n",
    "\n",
    "a = [\n",
    "    [1, 2, 3],\n",
    "    [4, 5, 6],\n",
    "    [7, 8, 9]\n",
    "]\n",
    "\n",
    "b = [6, 4, 2]\n",
    "\n",
    "\n",
    "print(mul(a, b))"
   ]
  },
  {
   "cell_type": "code",
   "execution_count": 147,
   "id": "7f235e2f-064e-4289-b3c1-5700230fb687",
   "metadata": {},
   "outputs": [
    {
     "name": "stdout",
     "output_type": "stream",
     "text": [
      "0.19104973174542791\n",
      "[(-2.78, 9.01), (-2.59, 9.03)]\n",
      "0.19104973174542791\n",
      "[(-2.78, 9.01), (-2.59, 9.03)]\n"
     ]
    }
   ],
   "source": [
    "# Zadanie 4\n",
    "import math as m\n",
    "from itertools import combinations\n",
    "\n",
    "with open('wsb_pliki/points.txt', 'r') as f:\n",
    "    lines = f.read().splitlines()\n",
    "\n",
    "points = (line.split() for line in lines) # Rozbijamy każdy napis na 2 napisy z liczbami\n",
    "points = [(float(x), float(y)) for x, y in points]\n",
    "\n",
    "# Sposób 1\n",
    "min_dist = float('inf')\n",
    "closest = []\n",
    "for p1, p2 in combinations(points, 2):\n",
    "    d = m.dist(p1, p2)\n",
    "    if d < min_dist:\n",
    "        min_dist = d\n",
    "        closest = [p1, p2]\n",
    "        \n",
    "print(min_dist)\n",
    "print(closest)\n",
    "\n",
    "# Sposób 2\n",
    "*closest, min_dist = min(((p1, p2, m.dist(p1, p2)) for p1, p2 in combinations(points, 2)),\n",
    "                        key=lambda x: x[2])\n",
    "print(min_dist)\n",
    "print(closest)"
   ]
  },
  {
   "cell_type": "code",
   "execution_count": 152,
   "id": "2ec82aed-8948-436e-b868-e2c46aeed3a6",
   "metadata": {},
   "outputs": [
    {
     "name": "stdout",
     "output_type": "stream",
     "text": [
      "x1 = 0.7416573867739413, x2 = -6.741657386773941\n"
     ]
    },
    {
     "name": "stdout",
     "output_type": "stream",
     "text": [
      "Podaj współczynniki równanie kwadratowego rozdzielone spacjami:  1 6 -5\n"
     ]
    },
    {
     "name": "stdout",
     "output_type": "stream",
     "text": [
      "x1 = 0.74, x2 = -6.74\n"
     ]
    },
    {
     "name": "stdout",
     "output_type": "stream",
     "text": [
      "Podaj współczynniki równanie kwadratowego rozdzielone spacjami:  1 6 5\n"
     ]
    },
    {
     "name": "stdout",
     "output_type": "stream",
     "text": [
      "x1 = -1.00, x2 = -5.00\n"
     ]
    },
    {
     "name": "stdout",
     "output_type": "stream",
     "text": [
      "Podaj współczynniki równanie kwadratowego rozdzielone spacjami:  1 1 1\n"
     ]
    },
    {
     "name": "stdout",
     "output_type": "stream",
     "text": [
      "Nie ma rozwiązań rzeczywistych.\n"
     ]
    },
    {
     "name": "stdout",
     "output_type": "stream",
     "text": [
      "Podaj współczynniki równanie kwadratowego rozdzielone spacjami:  \n"
     ]
    },
    {
     "name": "stdout",
     "output_type": "stream",
     "text": [
      "Koniec programu.\n"
     ]
    }
   ],
   "source": [
    "# Zadanie 5\n",
    "\n",
    "def solve(a, b, c):\n",
    "    sd = m.sqrt(b**2 - 4*a*c)\n",
    "    x1 = (-b + sd) / (2*a)\n",
    "    x2 = (-b - sd) / (2*a)\n",
    "    return x1, x2\n",
    "\n",
    "# Przykład użycia\n",
    "try:\n",
    "    x1, x2 = solve(1, 6, -5)\n",
    "    print(f'{x1 = }, {x2 = }')\n",
    "except ValueError:\n",
    "    print('Równanie nie posiada rozwiązań')\n",
    "\n",
    "# Rozwiązanie drugiej części Zadania 5\n",
    "while True:\n",
    "    s = input('Podaj współczynniki równanie kwadratowego rozdzielone spacjami: ')\n",
    "    if not s:\n",
    "        print('Koniec programu.')\n",
    "        break\n",
    "        \n",
    "    a, b, c = [float(n) for n in s.split()]\n",
    "    try:\n",
    "        x1, x2 = solve(a, b, c)\n",
    "        print(f'{x1 = :0.2f}, {x2 = :0.2f}')\n",
    "    except ValueError:\n",
    "        print('Nie ma rozwiązań rzeczywistych.')"
   ]
  },
  {
   "cell_type": "code",
   "execution_count": 153,
   "id": "5d2f2529-2321-4064-97d5-7f6ff3fbb17c",
   "metadata": {},
   "outputs": [
    {
     "name": "stdout",
     "output_type": "stream",
     "text": [
      "Podaj współczynniki oddzielone spacją:  1 1\n"
     ]
    },
    {
     "name": "stdout",
     "output_type": "stream",
     "text": [
      "Podaj 3 wspolczynniki rzeczywiste\n"
     ]
    },
    {
     "name": "stdout",
     "output_type": "stream",
     "text": [
      "Podaj współczynniki oddzielone spacją:  1 1 1\n"
     ]
    },
    {
     "name": "stdout",
     "output_type": "stream",
     "text": [
      "Równanie nie posiada rozwiązań\n"
     ]
    },
    {
     "name": "stdout",
     "output_type": "stream",
     "text": [
      "Podaj współczynniki oddzielone spacją:  \n"
     ]
    }
   ],
   "source": [
    "while True:\n",
    "  wspolczynniki = input('Podaj współczynniki oddzielone spacją: ')\n",
    "  if not wspolczynniki: break\n",
    " \n",
    "  try:\n",
    "    a, b, c = (float(x) for x in wspolczynniki.split())\n",
    "  except ValueError:\n",
    "    print('Podaj 3 wspolczynniki rzeczywiste')\n",
    "    continue\n",
    " \n",
    "  try:\n",
    "    x1, x2 = solve(a, b, c)\n",
    "    print(f'Rozwiązania: {x1 = :.2f}, {x2 = :.2f}')\n",
    "  except ValueError:\n",
    "    print('Równanie nie posiada rozwiązań')"
   ]
  },
  {
   "cell_type": "code",
   "execution_count": 158,
   "id": "6d37b3ac-2a63-4b37-9151-daca8cbd14a0",
   "metadata": {},
   "outputs": [],
   "source": [
    "# Zadanie 6\n",
    "\n",
    "#  0  1  2  3  4  5  6\n",
    "# [F, F, T, T, F, T, F...]\n",
    "\n",
    "def sieve(n):\n",
    "    s = [False] * 2 + [True] * (n - 2)\n",
    "\n",
    "    for i in range(2, n):\n",
    "        if not s[i]:\n",
    "            continue\n",
    "\n",
    "        for j in range(i + 1, n):\n",
    "            if j % i == 0:\n",
    "                s[j] = False\n",
    "    \n",
    "    return [i for i in range(n) if s[i]]\n",
    "\n",
    "\n",
    "with open('prime_numbers.txt', 'w') as f:\n",
    "    for i, n in enumerate(sieve(100), 1):\n",
    "        f.write(str(n))\n",
    "        if i % 5 == 0:\n",
    "            f.write('\\n')\n",
    "        else:\n",
    "            f.write(' ')"
   ]
  },
  {
   "cell_type": "code",
   "execution_count": 167,
   "id": "b59140a1-d5fc-4547-af33-c4d26825d4b0",
   "metadata": {},
   "outputs": [
    {
     "name": "stdout",
     "output_type": "stream",
     "text": [
      "1 0\n",
      "2 1\n",
      "3 1\n",
      "4 2\n",
      "5 3\n",
      "6 5\n"
     ]
    },
    {
     "ename": "TypeError",
     "evalue": "'int' object is not iterable",
     "output_type": "error",
     "traceback": [
      "\u001b[0;31m---------------------------------------------------------------------------\u001b[0m",
      "\u001b[0;31mTypeError\u001b[0m                                 Traceback (most recent call last)",
      "Cell \u001b[0;32mIn[167], line 40\u001b[0m\n\u001b[1;32m     36\u001b[0m \u001b[38;5;28;01mfor\u001b[39;00m i \u001b[38;5;129;01min\u001b[39;00m \u001b[38;5;28mrange\u001b[39m(\u001b[38;5;241m1\u001b[39m, \u001b[38;5;241m7\u001b[39m):\n\u001b[1;32m     37\u001b[0m     \u001b[38;5;28mprint\u001b[39m(i, fibo_gen(i))\n\u001b[0;32m---> 40\u001b[0m \u001b[38;5;28;01mfor\u001b[39;00m f \u001b[38;5;129;01min\u001b[39;00m fibo_gen(\u001b[38;5;241m10\u001b[39m):\n\u001b[1;32m     41\u001b[0m     \u001b[38;5;28mprint\u001b[39m(f)\n",
      "\u001b[0;31mTypeError\u001b[0m: 'int' object is not iterable"
     ]
    }
   ],
   "source": [
    "# Funkcja do generowania n-tego wyrazu ciągu Fibonacciego\n",
    "#       1  2  3  4  5  6  7   8   9...\n",
    "# Ciąg: 0, 1, 1, 2, 3, 5, 8, 13, 21, 34, 55, 89,...\n",
    "#      n2 n1\n",
    "#         n2 n1\n",
    "#            n2 n1\n",
    "#               n2 n1\n",
    "def fibo(n):\n",
    "    if n == 1:\n",
    "        return 0\n",
    "\n",
    "    if n == 2:\n",
    "        return 1\n",
    "\n",
    "    n1, n2 = 1, 0\n",
    "    for i in range(n - 2):\n",
    "        n1, n2 = n1 + n2, n1\n",
    "\n",
    "    return n1\n",
    "\n",
    "\n",
    "def fibo_gen(n):\n",
    "    # Przerobić z użyciem yield\n",
    "    if n == 1:\n",
    "        return 0\n",
    "\n",
    "    if n == 2:\n",
    "        return 1\n",
    "\n",
    "    n1, n2 = 1, 0\n",
    "    for i in range(n - 2):\n",
    "        n1, n2 = n1 + n2, n1\n",
    "\n",
    "    return n1\n",
    "\n",
    "\n",
    "for f in fibo_gen(10):\n",
    "    print(f)"
   ]
  },
  {
   "cell_type": "code",
   "execution_count": 168,
   "id": "e7800556-5474-4172-bd22-57191241182f",
   "metadata": {},
   "outputs": [
    {
     "name": "stdout",
     "output_type": "stream",
     "text": [
      "0\n",
      "1\n",
      "1\n",
      "2\n",
      "3\n",
      "5\n",
      "8\n",
      "13\n",
      "21\n",
      "34\n"
     ]
    }
   ],
   "source": [
    "def fibo_gen(n):\n",
    "  n1, n2 = 0, 1\n",
    " \n",
    "  for i in range(n):\n",
    "    yield n1\n",
    "    n1, n2 = n2, n1 + n2\n",
    " \n",
    " \n",
    "for x in fibo_gen(10):\n",
    "  print(x)"
   ]
  },
  {
   "cell_type": "code",
   "execution_count": 169,
   "id": "63ebb7ff-8385-4fab-95c8-8adb715e7ceb",
   "metadata": {},
   "outputs": [
    {
     "name": "stdout",
     "output_type": "stream",
     "text": [
      "[0, 1, 1, 2, 3, 5, 8, 13, 21, 34, 55, 89, 144, 233, 377, 610, 987, 1597, 2584, 4181]\n"
     ]
    }
   ],
   "source": [
    "def fibo_gen(n):\n",
    "    n1, n2 = 0, 1\n",
    "    if n >= 1:\n",
    "        yield n1\n",
    "        \n",
    "    if n >= 2:\n",
    "        yield n2\n",
    "        \n",
    "    for i in range(n - 2):\n",
    "        n2, n1 = n1 + n2, n2\n",
    "        yield n2\n",
    "        \n",
    "print(list(fibo_gen(20)))"
   ]
  },
  {
   "cell_type": "code",
   "execution_count": 173,
   "id": "634c1136-e8e3-4166-ad98-62d01af9b906",
   "metadata": {
    "scrolled": true
   },
   "outputs": [
    {
     "name": "stdout",
     "output_type": "stream",
     "text": [
      "[('Jan', 'Mazur', 33022, 4.0), ('Zofia', 'Nowak', 33045, 4.5), ('Filip', 'Kaczmarek', 33050, 4.0), ('Bartosz', 'Mazur', 33054, 3.5), ('Julia', 'Kowalska', 33060, 4.0), ('Dominik', 'Kowalski', 33147, 2.0), ('Aleksandra', 'Mazur', 33170, 4.0), ('Kacper', 'Kowalczyk', 33184, 3.5), ('Filip', 'Kaczmarek', 33207, 4.5), ('Jakub', 'Lewandowski', 33210, 4.0), ('Aleksander', 'Mazur', 33237, 3.0), ('Kinga', 'Nowak', 33246, 3.5), ('Dominik', 'Mazur', 33262, 2.0), ('Dominik', 'Kowalczyk', 33268, 3.0), ('Jakub', 'Kowalski', 33315, 4.5), ('Anna', 'Kaczmarek', 33322, 4.5), ('Anna', 'Kaczmarek', 33335, 4.0), ('Jan', 'Kowalczyk', 33345, 2.0), ('Dominik', 'Nowak', 33346, 2.0), ('Aleksandra', 'Grabowska', 33365, 4.0), ('Aleksander', 'Kaczmarek', 33376, 4.0), ('Julia', 'Kowalska', 33391, 4.0), ('Filip', 'Mazur', 33398, 4.5), ('Filip', 'Mazur', 33419, 4.0), ('Aleksandra', 'Kowalska', 33425, 4.0), ('Julia', 'Lewandowska', 33431, 3.5), ('Karolina', 'Lewandowska', 33438, 3.0), ('Dominik', 'Nowak', 33442, 2.0), ('Jakub', 'Kowalski', 33487, 3.5), ('Kacper', 'Kowalczyk', 33488, 3.5), ('Alicja', 'Nowak', 33490, 4.0), ('Aleksander', 'Nowak', 33523, 3.5), ('Oliwia', 'Kaczmarek', 33578, 4.5), ('Adam', 'Mazur', 33592, 4.0), ('Jakub', 'Wiśniewski', 33601, 2.0), ('Kacper', 'Kaczmarek', 33753, 4.0), ('Kacper', 'Grabowski', 33763, 3.5), ('Anna', 'Mazur', 33769, 4.0), ('Aleksander', 'Nowak', 33786, 3.0), ('Emilia', 'Nowak', 33817, 4.5), ('Aleksander', 'Mazur', 33837, 4.0), ('Aleksander', 'Grabowski', 33838, 3.5), ('Emilia', 'Kowalczyk', 33852, 4.0), ('Emilia', 'Kaczmarek', 33863, 4.0), ('Kacper', 'Mazur', 33926, 2.0), ('Bartosz', 'Grabowski', 33932, 4.5), ('Emilia', 'Kaczmarek', 33959, 2.0), ('Aleksandra', 'Nowak', 33980, 4.0), ('Emilia', 'Lewandowska', 33993, 4.0), ('Adam', 'Lewandowski', 33997, 5.0)]\n",
      "[('Adam', 'Lewandowski', 33997, 5.0), ('Jakub', 'Kowalski', 33315, 4.5), ('Anna', 'Kaczmarek', 33322, 4.5), ('Bartosz', 'Grabowski', 33932, 4.5), ('Filip', 'Mazur', 33398, 4.5), ('Zofia', 'Nowak', 33045, 4.5), ('Filip', 'Kaczmarek', 33207, 4.5), ('Emilia', 'Nowak', 33817, 4.5), ('Oliwia', 'Kaczmarek', 33578, 4.5), ('Emilia', 'Kaczmarek', 33863, 4.0), ('Filip', 'Kaczmarek', 33050, 4.0), ('Aleksander', 'Mazur', 33837, 4.0), ('Aleksandra', 'Grabowska', 33365, 4.0), ('Jan', 'Mazur', 33022, 4.0), ('Alicja', 'Nowak', 33490, 4.0), ('Anna', 'Kaczmarek', 33335, 4.0), ('Emilia', 'Kowalczyk', 33852, 4.0), ('Filip', 'Mazur', 33419, 4.0), ('Jakub', 'Lewandowski', 33210, 4.0), ('Kacper', 'Kaczmarek', 33753, 4.0), ('Anna', 'Mazur', 33769, 4.0), ('Emilia', 'Lewandowska', 33993, 4.0), ('Julia', 'Kowalska', 33391, 4.0), ('Aleksandra', 'Mazur', 33170, 4.0), ('Aleksandra', 'Nowak', 33980, 4.0), ('Adam', 'Mazur', 33592, 4.0), ('Aleksander', 'Kaczmarek', 33376, 4.0), ('Aleksandra', 'Kowalska', 33425, 4.0), ('Julia', 'Kowalska', 33060, 4.0), ('Kacper', 'Kowalczyk', 33488, 3.5), ('Kacper', 'Kowalczyk', 33184, 3.5), ('Aleksander', 'Grabowski', 33838, 3.5), ('Bartosz', 'Mazur', 33054, 3.5), ('Julia', 'Lewandowska', 33431, 3.5), ('Jakub', 'Kowalski', 33487, 3.5), ('Kacper', 'Grabowski', 33763, 3.5), ('Aleksander', 'Nowak', 33523, 3.5), ('Kinga', 'Nowak', 33246, 3.5), ('Dominik', 'Kowalczyk', 33268, 3.0), ('Aleksander', 'Nowak', 33786, 3.0), ('Aleksander', 'Mazur', 33237, 3.0), ('Karolina', 'Lewandowska', 33438, 3.0), ('Dominik', 'Nowak', 33442, 2.0), ('Dominik', 'Nowak', 33346, 2.0), ('Jakub', 'Wiśniewski', 33601, 2.0), ('Dominik', 'Kowalski', 33147, 2.0), ('Emilia', 'Kaczmarek', 33959, 2.0), ('Jan', 'Kowalczyk', 33345, 2.0), ('Dominik', 'Mazur', 33262, 2.0), ('Kacper', 'Mazur', 33926, 2.0)]\n",
      "('Adam', 'Lewandowski', 33997, 5.0)\n"
     ]
    }
   ],
   "source": [
    "# Zadanie 8\n",
    "\n",
    "with open ('wsb_pliki/students.csv', 'r') as f:\n",
    "    lines = f.readlines()\n",
    "    lista = (tuple(line.strip().split(', ')) for line in lines)\n",
    "    lista = [(n, s, int(i), float(g)) for n, s, i, g in lista]\n",
    "\n",
    "print(sorted(lista, key= lambda student: student[2]))\n",
    "print(sorted(lista, key= lambda student: student[3], reverse=True))\n",
    "print(max(lista, key=lambda student: student[3]))"
   ]
  },
  {
   "cell_type": "code",
   "execution_count": 177,
   "id": "bb41a19d-32db-490d-b866-360c1d024446",
   "metadata": {},
   "outputs": [
    {
     "name": "stdout",
     "output_type": "stream",
     "text": [
      "Jan             Mazur           33022        4.0\n",
      "Zofia           Nowak           33045        4.5\n",
      "Filip           Kaczmarek       33050        4.0\n",
      "Bartosz         Mazur           33054        3.5\n",
      "Julia           Kowalska        33060        4.0\n",
      "Dominik         Kowalski        33147        2.0\n",
      "Aleksandra      Mazur           33170        4.0\n",
      "Kacper          Kowalczyk       33184        3.5\n",
      "Filip           Kaczmarek       33207        4.5\n",
      "Jakub           Lewandowski     33210        4.0\n",
      "\n",
      "Adam            Lewandowski     33997        5.0\n",
      "Jakub           Kowalski        33315        4.5\n",
      "Anna            Kaczmarek       33322        4.5\n",
      "Bartosz         Grabowski       33932        4.5\n",
      "Filip           Mazur           33398        4.5\n",
      "Zofia           Nowak           33045        4.5\n",
      "Filip           Kaczmarek       33207        4.5\n",
      "Emilia          Nowak           33817        4.5\n",
      "Oliwia          Kaczmarek       33578        4.5\n",
      "Emilia          Kaczmarek       33863        4.0\n",
      "\n",
      "Adam            Lewandowski     33997        5.0\n",
      "\n"
     ]
    }
   ],
   "source": [
    "def show(students, n=10):\n",
    "    for n, s, i, g in students[:n]:\n",
    "        print(f'{n:15s} {s:15s} {i} {g:10.1f}')\n",
    "    print()\n",
    "\n",
    "show(sorted(lista, key=lambda x: x[2]))\n",
    "show(sorted(lista, key=lambda x: x[3], reverse=True))\n",
    "show([max(lista, key=lambda x: x[3])])"
   ]
  },
  {
   "cell_type": "code",
   "execution_count": 182,
   "id": "6d354f26-fa2a-4c9f-bf0a-67affcde271c",
   "metadata": {},
   "outputs": [
    {
     "name": "stdout",
     "output_type": "stream",
     "text": [
      "1.4142135623746899\n",
      "1.4142135623730951\n"
     ]
    }
   ],
   "source": [
    "# Zadanie 4 - druga lista\n",
    "def mysqrt(s):\n",
    "    if s < 0:\n",
    "        raise ValueError('s powinno być dodatnie')\n",
    "    \n",
    "    x0 = s / 2\n",
    "    x1 = (x0 + s / x0) / 2\n",
    "    while abs(x0 - x1) >= 0.0001:\n",
    "        x0 = x1\n",
    "        x1 = (x0 + s / x0) / 2\n",
    "\n",
    "    return x1\n",
    "\n",
    "\n",
    "print(mysqrt(2))\n",
    "print(m.sqrt(2))"
   ]
  },
  {
   "cell_type": "code",
   "execution_count": 186,
   "id": "7abb9b27-9c9c-4914-a2da-c63d9695d832",
   "metadata": {},
   "outputs": [
    {
     "name": "stdout",
     "output_type": "stream",
     "text": [
      "False\n",
      "True\n"
     ]
    }
   ],
   "source": [
    "# Zadanie 5 - druga lista\n",
    "def is_all_numbers_even(lista):\n",
    "    \"\"\" Funkcja zwaraca True, jeżeli wszystkie wartości w liście są parzyste i False,\n",
    "        jeżeli chociaż jedna wartość jest nieparzysta.\"\"\"\n",
    "    return all(n % 2 == 0 for n in lista)\n",
    "\n",
    "\n",
    "print(is_all_numbers_even([1, 2, 4, 6, 8]))\n",
    "print(is_all_numbers_even([2, 4, 6, 8]))"
   ]
  },
  {
   "cell_type": "code",
   "execution_count": 192,
   "id": "5f9d9d6a-8d1d-4ee2-b65c-a7a5adcc4fc2",
   "metadata": {},
   "outputs": [
    {
     "name": "stdout",
     "output_type": "stream",
     "text": [
      "True\n",
      "False\n"
     ]
    }
   ],
   "source": [
    "# Zadanie 6 - druga lista\n",
    "from itertools import pairwise\n",
    "\n",
    "def is_sorted(lista):\n",
    "    \"\"\" Funkcja zwaraca True, jeżeli wartości w liście są posortowane w kolejności rosnącej.\"\"\"\n",
    "    return all(l1 < l2 for l1, l2 in pairwise(lista))\n",
    "\n",
    "print(is_sorted([1, 12, 19]))\n",
    "print(is_sorted([92, 59, 79]))"
   ]
  },
  {
   "cell_type": "code",
   "execution_count": 191,
   "id": "3b1c85ca-63e9-43ec-b3a6-9cf6e8e84f66",
   "metadata": {},
   "outputs": [
    {
     "name": "stdout",
     "output_type": "stream",
     "text": [
      "True\n",
      "False\n"
     ]
    }
   ],
   "source": [
    "def is_sorted(lista):\n",
    "    for i in range(len(lista) - 1):\n",
    "        if lista[i] > lista[i + 1]:\n",
    "            return False\n",
    "    return True\n",
    " \n",
    "print(is_sorted([1, 12, 19]))\n",
    "print(is_sorted([92, 59, 79]))"
   ]
  },
  {
   "cell_type": "code",
   "execution_count": 198,
   "id": "1b3ab046-1b5e-4a89-8231-30141a042493",
   "metadata": {},
   "outputs": [
    {
     "name": "stdout",
     "output_type": "stream",
     "text": [
      "[1, 2, 3, 4, 5, 6, 7]\n",
      "[1, 2, 3, 4, 5, 6]\n",
      "[1, 2, 2, 3, 3, 3]\n"
     ]
    }
   ],
   "source": [
    "# Zadanie 7\n",
    "def merge(a, b):\n",
    "    c = []\n",
    "    i, j = 0, 0\n",
    "    while i < len(a) and j < len(b):\n",
    "        if a[i] < b[j]:\n",
    "            c.append(a[i])\n",
    "            i += 1\n",
    "        else:\n",
    "            c.append(b[j])\n",
    "            j += 1\n",
    "\n",
    "    while i < len(a):\n",
    "        c.append(a[i])\n",
    "        i += 1\n",
    "\n",
    "    while j < len(b):\n",
    "        c.append(b[j])\n",
    "        j += 1\n",
    "\n",
    "    return c\n",
    "\n",
    "\n",
    "print(merge([1, 2, 5, 7], [3, 4, 6]))\n",
    "print(merge([1, 2, 3], [4, 5, 6]))\n",
    "print(merge([1, 2, 3], [2, 3, 3]))"
   ]
  }
 ],
 "metadata": {
  "kernelspec": {
   "display_name": "Python 3",
   "language": "python",
   "name": "python3"
  },
  "language_info": {
   "codemirror_mode": {
    "name": "ipython",
    "version": 3
   },
   "file_extension": ".py",
   "mimetype": "text/x-python",
   "name": "python",
   "nbconvert_exporter": "python",
   "pygments_lexer": "ipython3",
   "version": "3.13.0"
  }
 },
 "nbformat": 4,
 "nbformat_minor": 5
}
